{
  "cells": [
    {
      "cell_type": "markdown",
      "metadata": {
        "id": "cOeXrArp6IOC"
      },
      "source": [
        "<center>\n",
        "<img src=\"https://drive.google.com/uc?id=1f1gGVI-rxcHjA90WEGNvvtSXF1pAxQwg\" alt=\"Fasilkom UI\" width=\"300\"/>\n",
        "\n",
        "CSGE603130 • Kecerdasan Artifisial dan Sains Data Dasar\n",
        "\n",
        "Semester Gasal 2023/2024\n",
        "\n",
        "Fakultas Ilmu Komputer, Universitas Indonesia\n",
        "\n",
        "##**Lab 1: *Introduction to Data Science Tools***\n",
        "\n",
        "###**Tenggat Waktu: 9 September 2023, 23.55 WIB**\n",
        "</center>\n",
        "\n",
        "### **Ketentuan:**\n",
        "\n",
        "1. Dokumen template lab dengan format .ipynb dan dataset (jika dibutuhkan) telah disediakan di SCeLe\n",
        "2. Jalankan kode pada dokumen .ipynb dan perhatikan dengan saksama apa yang potongan kode tersebut lakukan beserta dengan keluarannya. Jawablah **pertanyaan** yang disisipkan pada potongan program yang diberikan.\n",
        "3. Dokumen Jupyter Notebook yang telah dilengkapi dengan jawaban dikumpulkan dengan format penamaan **Kelas_LabX_NPM_Nama.ipynb** . Contoh: A_Lab1_1806205773_Abdurrafi Arief.ipynb\n",
        "4. Kumpulkan dokumen tersebut pada submisi yang telah disediakan di SCeLe sesuai dengan kelas masing-masing sebelum **Tenggat Waktu: 9 September 2023, 23.55 WIB**. Keterlambatan pengumpulan akan dikenakan pinalti.\n",
        "5. Lab ini dirancang sebagai **tugas mandiri**. Plagiarisme tidak diperkenankan dalam bentuk apapun. Adapun kolaborasi berupa diskusi (tanpa menyalin maupun mengambil jawaban orang lain) dan literasi masih diperbolehkan dengan mencantumkan kolaborator dan sumber.\n",
        "\n"
      ]
    },
    {
      "cell_type": "markdown",
      "metadata": {
        "id": "KBCmq3tP6IOE"
      },
      "source": [
        "## **Pernyataan Integritas**\n",
        "\n",
        "Wajib diisi. Tanpa pernyataan integritas submisi akan dikenakan pinalti."
      ]
    },
    {
      "cell_type": "code",
      "execution_count": null,
      "metadata": {
        "id": "4seizq1S6IOF"
      },
      "outputs": [],
      "source": [
        "# Isi dengan data diri Anda\n",
        "NAMA = \"Jeremy Mervin\"\n",
        "KELAS = \"E\"\n",
        "NPM = \"2106654675\"\n",
        "\n",
        "# Isi dengan NPM teman yang berdiskusi dengan Anda\n",
        "KOLABORATOR = []\n",
        "\n",
        "# Isi dengan sumber referensi yang Anda gunakan dalam mengerjakan\n",
        "REFERENSI = []"
      ]
    },
    {
      "cell_type": "code",
      "execution_count": null,
      "metadata": {
        "colab": {
          "base_uri": "https://localhost:8080/"
        },
        "id": "mIyRUHps6IOH",
        "outputId": "d54a9bd4-c2d9-447f-8ae1-5261c9f5d570"
      },
      "outputs": [
        {
          "output_type": "stream",
          "name": "stdout",
          "text": [
            "Saya, Jeremy Mervin dari kelas E dengan NPM 2106654675, menyatakan bahwa seluruh jawaban pada pekerjaan ini murni saya kerjakan sendiri.\n",
            "Saya tidak mencontek jawaban, memberikan jawaban, maupun menyalin dari sumber manapun.\n",
            " \n",
            "Jika saya melanggar pernyataan tersebut, saya siap menerima konsekuensi apapun yang diberikan.\n",
            "   (Jeremy Mervin)\n"
          ]
        }
      ],
      "source": [
        "PERNYATAAN_INTEGRITAS = \"Saya, %s dari kelas %s dengan NPM %s, menyatakan bahwa seluruh jawaban pada pekerjaan ini murni saya kerjakan sendiri.\\n\\\n",
        "Saya tidak mencontek jawaban, memberikan jawaban, maupun menyalin dari sumber manapun.\\n \\\n",
        "\\n\\\n",
        "Jika saya melanggar pernyataan tersebut, saya siap menerima konsekuensi apapun yang diberikan.\\n   \\\n",
        "(%s)\" % (NAMA, KELAS, NPM, NAMA)\n",
        "\n",
        "print(PERNYATAAN_INTEGRITAS)"
      ]
    },
    {
      "cell_type": "markdown",
      "metadata": {
        "id": "EaLldsG76IOI"
      },
      "source": [
        "# A. Pengenalan Pandas\n",
        "[Pandas](https://pandas.pydata.org/) adalah library Python yang digunakan untuk analisis data. Pandas menyediakan struktur data dan fungsi high-level untuk membuat pekerjaan dengan data terstruktur/tabular lebih mudah. Struktur data utama yang digunakan di Pandas adalah **Series** dan **DataFrame**. **Series adalah array 1 dimensi** yang berisi data dan index. **DataFrame adalah array 2 dimensi** yang berisi data dan index untuk baris dan kolom.\n",
        "\n",
        "\n",
        "Dengan menggunakan library Pandas, kita dapat melakukan berbagai operasi seperti:\n",
        "- Memuat data dari berbagai format file seperti CSV, Excel, dan SQL\n",
        "- Memilih kolom dan baris tertentu dari data\n",
        "- Menggabungkan data dari beberapa sumber\n",
        "- Menghapus dan mengisi nilai yang hilang\n",
        "- Melakukan perhitungan statistik deskriptif seperti mean, median, dan standard deviation\n",
        "\n",
        "\n",
        "Secara umum, Pandas adalah library yang berguna bagi siapa pun yang bekerja dengan data dan membutuhkan alat untuk memanipulasi dan menganalisis data."
      ]
    },
    {
      "cell_type": "code",
      "execution_count": null,
      "metadata": {
        "id": "jBOTu7ix6IOI"
      },
      "outputs": [],
      "source": [
        "# import library pandas\n",
        "import pandas as pd"
      ]
    },
    {
      "cell_type": "markdown",
      "metadata": {
        "id": "4_feRA2X6IOJ"
      },
      "source": [
        "## A.1. Series\n",
        "**Series** adalah data 1 dimensi yang mirip dengan array. Series memiliki index dan value. Index secara default adalah angka dari 0 sampai N-1, dimana N adalah panjang Series. Series dapat dibuat dari list, tuple, dan dictionary.\n",
        "\n",
        "Salah satu cara yang umum digunakan untuk membuat objek **Series** adalah sebagai berikut.\n",
        "```\n",
        "pd.Series(data)\n",
        "```\n",
        "`data` dapat berupa list, tuple, atau dictionary."
      ]
    },
    {
      "cell_type": "code",
      "execution_count": null,
      "metadata": {
        "id": "WEjKA_EU6IOJ",
        "outputId": "3e58846f-598e-47c1-84b6-8032dd415c71"
      },
      "outputs": [
        {
          "data": {
            "text/plain": [
              "0     1\n",
              "1     4\n",
              "2     9\n",
              "3    16\n",
              "4    25\n",
              "5    36\n",
              "dtype: int64"
            ]
          },
          "execution_count": 4,
          "metadata": {},
          "output_type": "execute_result"
        }
      ],
      "source": [
        "# Membuat objek Series dari sebuah list\n",
        "series = pd.Series([1,4,9,16,25,36])\n",
        "series"
      ]
    },
    {
      "cell_type": "markdown",
      "metadata": {
        "id": "m30uJoSr6IOJ"
      },
      "source": [
        "Seperti yang dapat dilihat di atas, Series memiliki index (sebelah kiri) dan value (sebelah kanan). Kedua hal tersebut dapat diakses dengan menggunakan atribut `index` dan `values`."
      ]
    },
    {
      "cell_type": "code",
      "execution_count": null,
      "metadata": {
        "id": "C3xiQAyt6IOJ"
      },
      "outputs": [],
      "source": [
        "series.index"
      ]
    },
    {
      "cell_type": "code",
      "execution_count": null,
      "metadata": {
        "id": "aH4LXBxm6IOK",
        "outputId": "bc4713d9-b82e-443e-f5a8-a4e01136f939"
      },
      "outputs": [
        {
          "data": {
            "text/plain": [
              "array([ 1,  4,  9, 16, 25, 36], dtype=int64)"
            ]
          },
          "execution_count": 6,
          "metadata": {},
          "output_type": "execute_result"
        }
      ],
      "source": [
        "series.values"
      ]
    },
    {
      "cell_type": "markdown",
      "metadata": {
        "id": "dZpn31fd6IOK"
      },
      "source": [
        "Sama seperti list pada Python, Series pada Pandas dapat diakses menggunakan indexing dan slicing."
      ]
    },
    {
      "cell_type": "code",
      "execution_count": null,
      "metadata": {
        "id": "tntuwM8L6IOK",
        "outputId": "4396ebe5-6849-4da5-b4ca-7eeaecd64b59"
      },
      "outputs": [
        {
          "data": {
            "text/plain": [
              "16"
            ]
          },
          "execution_count": 7,
          "metadata": {},
          "output_type": "execute_result"
        }
      ],
      "source": [
        "series[3]"
      ]
    },
    {
      "cell_type": "code",
      "execution_count": null,
      "metadata": {
        "id": "_8unPWpr6IOL",
        "outputId": "faf6785e-2133-4483-f710-58aa5dd1d054"
      },
      "outputs": [
        {
          "data": {
            "text/plain": [
              "2     9\n",
              "3    16\n",
              "dtype: int64"
            ]
          },
          "execution_count": 8,
          "metadata": {},
          "output_type": "execute_result"
        }
      ],
      "source": [
        "series[2:4]"
      ]
    },
    {
      "cell_type": "markdown",
      "metadata": {
        "id": "HFs6BDVD6IOL"
      },
      "source": [
        "## A.2. DataFrame\n",
        "**DataFrame** adalah data 2 dimensi yang mirip dengan tabel. DataFrame memiliki index dan column. Index secara default adalah angka dari 0 sampai N-1, dimana N adalah panjang DataFrame. DataFrame dapat dibuat dari list, tuple, dictionary, dan Series. Setiap kolom pada dataframe dapat memiliki tipe data yang berbeda, seperti integer, string, atau float. Mirip dengan Series, Dataframe juga memiliki index unik yang digunakan untuk mengidentifikasi setiap barisnya.\n",
        "\n",
        "**DataFrame** dapat digunakan untuk menyimpan dan memanipulasi data yang dibuat dari berbagai sumber, seperti CSV, Excel, dan SQL. Salah satu cara yang umum digunakan untuk membuat objek **DataFrame** adalah sebagai berikut.\n",
        "```\n",
        "pd.DataFrame(data, columns=column_names)\n",
        "```\n",
        "`data` dapat berupa list, tuple, dictionary, dan Series.\n",
        "\n",
        "`column_names` adalah list yang berisi nama kolom.\n",
        "\n",
        "Berikut adalah beberapa cara untuk membuat DataFrame."
      ]
    },
    {
      "cell_type": "markdown",
      "metadata": {
        "id": "FCVwAGtU6IOL"
      },
      "source": [
        "### A.2.1. Membuat DataFrame dari Series"
      ]
    },
    {
      "cell_type": "code",
      "execution_count": null,
      "metadata": {
        "id": "a5rKVlhQ6IOL",
        "outputId": "586e4fa5-fed0-47a1-9d6f-0deeb766e93a"
      },
      "outputs": [
        {
          "data": {
            "text/plain": [
              "0      apel\n",
              "1    mangga\n",
              "2     jeruk\n",
              "3     lemon\n",
              "dtype: object"
            ]
          },
          "execution_count": 9,
          "metadata": {},
          "output_type": "execute_result"
        }
      ],
      "source": [
        "series = pd.Series([\"apel\", \"mangga\", \"jeruk\", \"lemon\"])\n",
        "series"
      ]
    },
    {
      "cell_type": "code",
      "execution_count": null,
      "metadata": {
        "id": "su0V6Ybm6IOM",
        "outputId": "f47fd1d0-5866-434b-f6fc-968b547794f4"
      },
      "outputs": [
        {
          "data": {
            "text/html": [
              "<div>\n",
              "<style scoped>\n",
              "    .dataframe tbody tr th:only-of-type {\n",
              "        vertical-align: middle;\n",
              "    }\n",
              "\n",
              "    .dataframe tbody tr th {\n",
              "        vertical-align: top;\n",
              "    }\n",
              "\n",
              "    .dataframe thead th {\n",
              "        text-align: right;\n",
              "    }\n",
              "</style>\n",
              "<table border=\"1\" class=\"dataframe\">\n",
              "  <thead>\n",
              "    <tr style=\"text-align: right;\">\n",
              "      <th></th>\n",
              "      <th>Buah</th>\n",
              "    </tr>\n",
              "  </thead>\n",
              "  <tbody>\n",
              "    <tr>\n",
              "      <th>0</th>\n",
              "      <td>apel</td>\n",
              "    </tr>\n",
              "    <tr>\n",
              "      <th>1</th>\n",
              "      <td>mangga</td>\n",
              "    </tr>\n",
              "    <tr>\n",
              "      <th>2</th>\n",
              "      <td>jeruk</td>\n",
              "    </tr>\n",
              "    <tr>\n",
              "      <th>3</th>\n",
              "      <td>lemon</td>\n",
              "    </tr>\n",
              "  </tbody>\n",
              "</table>\n",
              "</div>"
            ],
            "text/plain": [
              "     Buah\n",
              "0    apel\n",
              "1  mangga\n",
              "2   jeruk\n",
              "3   lemon"
            ]
          },
          "execution_count": 10,
          "metadata": {},
          "output_type": "execute_result"
        }
      ],
      "source": [
        "df = pd.DataFrame(series, columns=[\"Buah\"])\n",
        "df"
      ]
    },
    {
      "cell_type": "markdown",
      "metadata": {
        "id": "B6X24Omz6IOM"
      },
      "source": [
        "### A.2.2. Membuat DataFrame dari List of Dictionary"
      ]
    },
    {
      "cell_type": "code",
      "execution_count": null,
      "metadata": {
        "id": "GRQttlLF6IOM",
        "outputId": "2978186f-e193-43c1-ab5e-c63cc1bb8ed9"
      },
      "outputs": [
        {
          "data": {
            "text/html": [
              "<div>\n",
              "<style scoped>\n",
              "    .dataframe tbody tr th:only-of-type {\n",
              "        vertical-align: middle;\n",
              "    }\n",
              "\n",
              "    .dataframe tbody tr th {\n",
              "        vertical-align: top;\n",
              "    }\n",
              "\n",
              "    .dataframe thead th {\n",
              "        text-align: right;\n",
              "    }\n",
              "</style>\n",
              "<table border=\"1\" class=\"dataframe\">\n",
              "  <thead>\n",
              "    <tr style=\"text-align: right;\">\n",
              "      <th></th>\n",
              "      <th>nama</th>\n",
              "      <th>umur</th>\n",
              "    </tr>\n",
              "  </thead>\n",
              "  <tbody>\n",
              "    <tr>\n",
              "      <th>0</th>\n",
              "      <td>Didi</td>\n",
              "      <td>21</td>\n",
              "    </tr>\n",
              "    <tr>\n",
              "      <th>1</th>\n",
              "      <td>Dede</td>\n",
              "      <td>22</td>\n",
              "    </tr>\n",
              "    <tr>\n",
              "      <th>2</th>\n",
              "      <td>Dodo</td>\n",
              "      <td>23</td>\n",
              "    </tr>\n",
              "  </tbody>\n",
              "</table>\n",
              "</div>"
            ],
            "text/plain": [
              "   nama  umur\n",
              "0  Didi    21\n",
              "1  Dede    22\n",
              "2  Dodo    23"
            ]
          },
          "execution_count": 11,
          "metadata": {},
          "output_type": "execute_result"
        }
      ],
      "source": [
        "data = [\n",
        "    {\"nama\": \"Didi\", \"umur\": 21},\n",
        "    {\"nama\": \"Dede\", \"umur\": 22},\n",
        "    {\"nama\": \"Dodo\", \"umur\": 23}\n",
        "]\n",
        "df = pd.DataFrame(data)\n",
        "df"
      ]
    },
    {
      "cell_type": "markdown",
      "metadata": {
        "id": "A8LASGid6ION"
      },
      "source": [
        "### A.2.3. Membuat DataFrame dari Dictionary of Series"
      ]
    },
    {
      "cell_type": "code",
      "execution_count": null,
      "metadata": {
        "id": "T3q6NdhY6ION",
        "outputId": "a9afa1ff-2aaa-468a-d087-4e6dc707724b"
      },
      "outputs": [
        {
          "data": {
            "text/plain": [
              "0      apel\n",
              "1    mangga\n",
              "2     jeruk\n",
              "3     lemon\n",
              "dtype: object"
            ]
          },
          "execution_count": 12,
          "metadata": {},
          "output_type": "execute_result"
        }
      ],
      "source": [
        "indonesia = pd.Series([\"apel\", \"mangga\", \"jeruk\", \"lemon\"])\n",
        "indonesia"
      ]
    },
    {
      "cell_type": "code",
      "execution_count": null,
      "metadata": {
        "id": "NEScKQPx6ION",
        "outputId": "9a109506-fad4-4c66-c066-db5c5c5a5177"
      },
      "outputs": [
        {
          "data": {
            "text/plain": [
              "0     apple\n",
              "1     mango\n",
              "2    orange\n",
              "3     lemon\n",
              "dtype: object"
            ]
          },
          "execution_count": 13,
          "metadata": {},
          "output_type": "execute_result"
        }
      ],
      "source": [
        "english = pd.Series([\"apple\", \"mango\", \"orange\", \"lemon\"])\n",
        "english"
      ]
    },
    {
      "cell_type": "code",
      "execution_count": null,
      "metadata": {
        "id": "W-W5eam76ION",
        "outputId": "d05ca988-de0b-4e17-f624-8e570b4d0255"
      },
      "outputs": [
        {
          "data": {
            "text/html": [
              "<div>\n",
              "<style scoped>\n",
              "    .dataframe tbody tr th:only-of-type {\n",
              "        vertical-align: middle;\n",
              "    }\n",
              "\n",
              "    .dataframe tbody tr th {\n",
              "        vertical-align: top;\n",
              "    }\n",
              "\n",
              "    .dataframe thead th {\n",
              "        text-align: right;\n",
              "    }\n",
              "</style>\n",
              "<table border=\"1\" class=\"dataframe\">\n",
              "  <thead>\n",
              "    <tr style=\"text-align: right;\">\n",
              "      <th></th>\n",
              "      <th>indonesia</th>\n",
              "      <th>english</th>\n",
              "    </tr>\n",
              "  </thead>\n",
              "  <tbody>\n",
              "    <tr>\n",
              "      <th>0</th>\n",
              "      <td>apel</td>\n",
              "      <td>apple</td>\n",
              "    </tr>\n",
              "    <tr>\n",
              "      <th>1</th>\n",
              "      <td>mangga</td>\n",
              "      <td>mango</td>\n",
              "    </tr>\n",
              "    <tr>\n",
              "      <th>2</th>\n",
              "      <td>jeruk</td>\n",
              "      <td>orange</td>\n",
              "    </tr>\n",
              "    <tr>\n",
              "      <th>3</th>\n",
              "      <td>lemon</td>\n",
              "      <td>lemon</td>\n",
              "    </tr>\n",
              "  </tbody>\n",
              "</table>\n",
              "</div>"
            ],
            "text/plain": [
              "  indonesia english\n",
              "0      apel   apple\n",
              "1    mangga   mango\n",
              "2     jeruk  orange\n",
              "3     lemon   lemon"
            ]
          },
          "execution_count": 14,
          "metadata": {},
          "output_type": "execute_result"
        }
      ],
      "source": [
        "df = pd.DataFrame({\n",
        "    \"indonesia\": indonesia,\n",
        "    \"english\": english\n",
        "})\n",
        "df"
      ]
    },
    {
      "cell_type": "markdown",
      "metadata": {
        "id": "1cgg7-AZ6ION"
      },
      "source": [
        "### A.2.4. Membuat DataFrame dari Sebuah File"
      ]
    },
    {
      "cell_type": "markdown",
      "metadata": {
        "id": "fX8F5anE6IOO"
      },
      "source": [
        "#### Menggunakan Path Remote (URL)"
      ]
    },
    {
      "cell_type": "code",
      "execution_count": null,
      "metadata": {
        "id": "D51yuQb96IOO",
        "outputId": "f921a40a-7b18-470b-b8e1-83e370337290"
      },
      "outputs": [
        {
          "data": {
            "text/html": [
              "<div>\n",
              "<style scoped>\n",
              "    .dataframe tbody tr th:only-of-type {\n",
              "        vertical-align: middle;\n",
              "    }\n",
              "\n",
              "    .dataframe tbody tr th {\n",
              "        vertical-align: top;\n",
              "    }\n",
              "\n",
              "    .dataframe thead th {\n",
              "        text-align: right;\n",
              "    }\n",
              "</style>\n",
              "<table border=\"1\" class=\"dataframe\">\n",
              "  <thead>\n",
              "    <tr style=\"text-align: right;\">\n",
              "      <th></th>\n",
              "      <th>0</th>\n",
              "      <th>1</th>\n",
              "      <th>2</th>\n",
              "      <th>3</th>\n",
              "      <th>4</th>\n",
              "      <th>5</th>\n",
              "      <th>6</th>\n",
              "      <th>7</th>\n",
              "      <th>8</th>\n",
              "      <th>9</th>\n",
              "      <th>10</th>\n",
              "    </tr>\n",
              "  </thead>\n",
              "  <tbody>\n",
              "    <tr>\n",
              "      <th>0</th>\n",
              "      <td>1</td>\n",
              "      <td>1.52101</td>\n",
              "      <td>13.64</td>\n",
              "      <td>4.49</td>\n",
              "      <td>1.10</td>\n",
              "      <td>71.78</td>\n",
              "      <td>0.06</td>\n",
              "      <td>8.75</td>\n",
              "      <td>0.00</td>\n",
              "      <td>0.0</td>\n",
              "      <td>1</td>\n",
              "    </tr>\n",
              "    <tr>\n",
              "      <th>1</th>\n",
              "      <td>2</td>\n",
              "      <td>1.51761</td>\n",
              "      <td>13.89</td>\n",
              "      <td>3.60</td>\n",
              "      <td>1.36</td>\n",
              "      <td>72.73</td>\n",
              "      <td>0.48</td>\n",
              "      <td>7.83</td>\n",
              "      <td>0.00</td>\n",
              "      <td>0.0</td>\n",
              "      <td>1</td>\n",
              "    </tr>\n",
              "    <tr>\n",
              "      <th>2</th>\n",
              "      <td>3</td>\n",
              "      <td>1.51618</td>\n",
              "      <td>13.53</td>\n",
              "      <td>3.55</td>\n",
              "      <td>1.54</td>\n",
              "      <td>72.99</td>\n",
              "      <td>0.39</td>\n",
              "      <td>7.78</td>\n",
              "      <td>0.00</td>\n",
              "      <td>0.0</td>\n",
              "      <td>1</td>\n",
              "    </tr>\n",
              "    <tr>\n",
              "      <th>3</th>\n",
              "      <td>4</td>\n",
              "      <td>1.51766</td>\n",
              "      <td>13.21</td>\n",
              "      <td>3.69</td>\n",
              "      <td>1.29</td>\n",
              "      <td>72.61</td>\n",
              "      <td>0.57</td>\n",
              "      <td>8.22</td>\n",
              "      <td>0.00</td>\n",
              "      <td>0.0</td>\n",
              "      <td>1</td>\n",
              "    </tr>\n",
              "    <tr>\n",
              "      <th>4</th>\n",
              "      <td>5</td>\n",
              "      <td>1.51742</td>\n",
              "      <td>13.27</td>\n",
              "      <td>3.62</td>\n",
              "      <td>1.24</td>\n",
              "      <td>73.08</td>\n",
              "      <td>0.55</td>\n",
              "      <td>8.07</td>\n",
              "      <td>0.00</td>\n",
              "      <td>0.0</td>\n",
              "      <td>1</td>\n",
              "    </tr>\n",
              "    <tr>\n",
              "      <th>...</th>\n",
              "      <td>...</td>\n",
              "      <td>...</td>\n",
              "      <td>...</td>\n",
              "      <td>...</td>\n",
              "      <td>...</td>\n",
              "      <td>...</td>\n",
              "      <td>...</td>\n",
              "      <td>...</td>\n",
              "      <td>...</td>\n",
              "      <td>...</td>\n",
              "      <td>...</td>\n",
              "    </tr>\n",
              "    <tr>\n",
              "      <th>209</th>\n",
              "      <td>210</td>\n",
              "      <td>1.51623</td>\n",
              "      <td>14.14</td>\n",
              "      <td>0.00</td>\n",
              "      <td>2.88</td>\n",
              "      <td>72.61</td>\n",
              "      <td>0.08</td>\n",
              "      <td>9.18</td>\n",
              "      <td>1.06</td>\n",
              "      <td>0.0</td>\n",
              "      <td>7</td>\n",
              "    </tr>\n",
              "    <tr>\n",
              "      <th>210</th>\n",
              "      <td>211</td>\n",
              "      <td>1.51685</td>\n",
              "      <td>14.92</td>\n",
              "      <td>0.00</td>\n",
              "      <td>1.99</td>\n",
              "      <td>73.06</td>\n",
              "      <td>0.00</td>\n",
              "      <td>8.40</td>\n",
              "      <td>1.59</td>\n",
              "      <td>0.0</td>\n",
              "      <td>7</td>\n",
              "    </tr>\n",
              "    <tr>\n",
              "      <th>211</th>\n",
              "      <td>212</td>\n",
              "      <td>1.52065</td>\n",
              "      <td>14.36</td>\n",
              "      <td>0.00</td>\n",
              "      <td>2.02</td>\n",
              "      <td>73.42</td>\n",
              "      <td>0.00</td>\n",
              "      <td>8.44</td>\n",
              "      <td>1.64</td>\n",
              "      <td>0.0</td>\n",
              "      <td>7</td>\n",
              "    </tr>\n",
              "    <tr>\n",
              "      <th>212</th>\n",
              "      <td>213</td>\n",
              "      <td>1.51651</td>\n",
              "      <td>14.38</td>\n",
              "      <td>0.00</td>\n",
              "      <td>1.94</td>\n",
              "      <td>73.61</td>\n",
              "      <td>0.00</td>\n",
              "      <td>8.48</td>\n",
              "      <td>1.57</td>\n",
              "      <td>0.0</td>\n",
              "      <td>7</td>\n",
              "    </tr>\n",
              "    <tr>\n",
              "      <th>213</th>\n",
              "      <td>214</td>\n",
              "      <td>1.51711</td>\n",
              "      <td>14.23</td>\n",
              "      <td>0.00</td>\n",
              "      <td>2.08</td>\n",
              "      <td>73.36</td>\n",
              "      <td>0.00</td>\n",
              "      <td>8.62</td>\n",
              "      <td>1.67</td>\n",
              "      <td>0.0</td>\n",
              "      <td>7</td>\n",
              "    </tr>\n",
              "  </tbody>\n",
              "</table>\n",
              "<p>214 rows × 11 columns</p>\n",
              "</div>"
            ],
            "text/plain": [
              "      0        1      2     3     4      5     6     7     8    9   10\n",
              "0      1  1.52101  13.64  4.49  1.10  71.78  0.06  8.75  0.00  0.0   1\n",
              "1      2  1.51761  13.89  3.60  1.36  72.73  0.48  7.83  0.00  0.0   1\n",
              "2      3  1.51618  13.53  3.55  1.54  72.99  0.39  7.78  0.00  0.0   1\n",
              "3      4  1.51766  13.21  3.69  1.29  72.61  0.57  8.22  0.00  0.0   1\n",
              "4      5  1.51742  13.27  3.62  1.24  73.08  0.55  8.07  0.00  0.0   1\n",
              "..   ...      ...    ...   ...   ...    ...   ...   ...   ...  ...  ..\n",
              "209  210  1.51623  14.14  0.00  2.88  72.61  0.08  9.18  1.06  0.0   7\n",
              "210  211  1.51685  14.92  0.00  1.99  73.06  0.00  8.40  1.59  0.0   7\n",
              "211  212  1.52065  14.36  0.00  2.02  73.42  0.00  8.44  1.64  0.0   7\n",
              "212  213  1.51651  14.38  0.00  1.94  73.61  0.00  8.48  1.57  0.0   7\n",
              "213  214  1.51711  14.23  0.00  2.08  73.36  0.00  8.62  1.67  0.0   7\n",
              "\n",
              "[214 rows x 11 columns]"
            ]
          },
          "execution_count": 15,
          "metadata": {},
          "output_type": "execute_result"
        }
      ],
      "source": [
        "# Membuat DataFrame dari file di internet\n",
        "df_remote = pd.read_csv(\n",
        "    \"https://archive.ics.uci.edu/ml/machine-learning-databases/glass/glass.data\", # URL file\n",
        "    header=None, # tidak ada baris header\n",
        ")\n",
        "df_remote"
      ]
    },
    {
      "cell_type": "markdown",
      "metadata": {
        "id": "zvdXKoQi6IOO"
      },
      "source": [
        "**Memberikan nama kolom pada DataFrame**"
      ]
    },
    {
      "cell_type": "code",
      "execution_count": null,
      "metadata": {
        "id": "5za3Ubz26IOO",
        "outputId": "3eb4d587-6bae-4da5-bcea-f13e0b07fa1d"
      },
      "outputs": [
        {
          "data": {
            "text/html": [
              "<div>\n",
              "<style scoped>\n",
              "    .dataframe tbody tr th:only-of-type {\n",
              "        vertical-align: middle;\n",
              "    }\n",
              "\n",
              "    .dataframe tbody tr th {\n",
              "        vertical-align: top;\n",
              "    }\n",
              "\n",
              "    .dataframe thead th {\n",
              "        text-align: right;\n",
              "    }\n",
              "</style>\n",
              "<table border=\"1\" class=\"dataframe\">\n",
              "  <thead>\n",
              "    <tr style=\"text-align: right;\">\n",
              "      <th></th>\n",
              "      <th>Id number</th>\n",
              "      <th>RI</th>\n",
              "      <th>Na</th>\n",
              "      <th>Mg</th>\n",
              "      <th>Al</th>\n",
              "      <th>Si</th>\n",
              "      <th>K</th>\n",
              "      <th>Ca</th>\n",
              "      <th>Ba</th>\n",
              "      <th>Fe</th>\n",
              "      <th>Type-of-glass</th>\n",
              "    </tr>\n",
              "  </thead>\n",
              "  <tbody>\n",
              "    <tr>\n",
              "      <th>0</th>\n",
              "      <td>1</td>\n",
              "      <td>1.52101</td>\n",
              "      <td>13.64</td>\n",
              "      <td>4.49</td>\n",
              "      <td>1.10</td>\n",
              "      <td>71.78</td>\n",
              "      <td>0.06</td>\n",
              "      <td>8.75</td>\n",
              "      <td>0.00</td>\n",
              "      <td>0.0</td>\n",
              "      <td>1</td>\n",
              "    </tr>\n",
              "    <tr>\n",
              "      <th>1</th>\n",
              "      <td>2</td>\n",
              "      <td>1.51761</td>\n",
              "      <td>13.89</td>\n",
              "      <td>3.60</td>\n",
              "      <td>1.36</td>\n",
              "      <td>72.73</td>\n",
              "      <td>0.48</td>\n",
              "      <td>7.83</td>\n",
              "      <td>0.00</td>\n",
              "      <td>0.0</td>\n",
              "      <td>1</td>\n",
              "    </tr>\n",
              "    <tr>\n",
              "      <th>2</th>\n",
              "      <td>3</td>\n",
              "      <td>1.51618</td>\n",
              "      <td>13.53</td>\n",
              "      <td>3.55</td>\n",
              "      <td>1.54</td>\n",
              "      <td>72.99</td>\n",
              "      <td>0.39</td>\n",
              "      <td>7.78</td>\n",
              "      <td>0.00</td>\n",
              "      <td>0.0</td>\n",
              "      <td>1</td>\n",
              "    </tr>\n",
              "    <tr>\n",
              "      <th>3</th>\n",
              "      <td>4</td>\n",
              "      <td>1.51766</td>\n",
              "      <td>13.21</td>\n",
              "      <td>3.69</td>\n",
              "      <td>1.29</td>\n",
              "      <td>72.61</td>\n",
              "      <td>0.57</td>\n",
              "      <td>8.22</td>\n",
              "      <td>0.00</td>\n",
              "      <td>0.0</td>\n",
              "      <td>1</td>\n",
              "    </tr>\n",
              "    <tr>\n",
              "      <th>4</th>\n",
              "      <td>5</td>\n",
              "      <td>1.51742</td>\n",
              "      <td>13.27</td>\n",
              "      <td>3.62</td>\n",
              "      <td>1.24</td>\n",
              "      <td>73.08</td>\n",
              "      <td>0.55</td>\n",
              "      <td>8.07</td>\n",
              "      <td>0.00</td>\n",
              "      <td>0.0</td>\n",
              "      <td>1</td>\n",
              "    </tr>\n",
              "    <tr>\n",
              "      <th>...</th>\n",
              "      <td>...</td>\n",
              "      <td>...</td>\n",
              "      <td>...</td>\n",
              "      <td>...</td>\n",
              "      <td>...</td>\n",
              "      <td>...</td>\n",
              "      <td>...</td>\n",
              "      <td>...</td>\n",
              "      <td>...</td>\n",
              "      <td>...</td>\n",
              "      <td>...</td>\n",
              "    </tr>\n",
              "    <tr>\n",
              "      <th>209</th>\n",
              "      <td>210</td>\n",
              "      <td>1.51623</td>\n",
              "      <td>14.14</td>\n",
              "      <td>0.00</td>\n",
              "      <td>2.88</td>\n",
              "      <td>72.61</td>\n",
              "      <td>0.08</td>\n",
              "      <td>9.18</td>\n",
              "      <td>1.06</td>\n",
              "      <td>0.0</td>\n",
              "      <td>7</td>\n",
              "    </tr>\n",
              "    <tr>\n",
              "      <th>210</th>\n",
              "      <td>211</td>\n",
              "      <td>1.51685</td>\n",
              "      <td>14.92</td>\n",
              "      <td>0.00</td>\n",
              "      <td>1.99</td>\n",
              "      <td>73.06</td>\n",
              "      <td>0.00</td>\n",
              "      <td>8.40</td>\n",
              "      <td>1.59</td>\n",
              "      <td>0.0</td>\n",
              "      <td>7</td>\n",
              "    </tr>\n",
              "    <tr>\n",
              "      <th>211</th>\n",
              "      <td>212</td>\n",
              "      <td>1.52065</td>\n",
              "      <td>14.36</td>\n",
              "      <td>0.00</td>\n",
              "      <td>2.02</td>\n",
              "      <td>73.42</td>\n",
              "      <td>0.00</td>\n",
              "      <td>8.44</td>\n",
              "      <td>1.64</td>\n",
              "      <td>0.0</td>\n",
              "      <td>7</td>\n",
              "    </tr>\n",
              "    <tr>\n",
              "      <th>212</th>\n",
              "      <td>213</td>\n",
              "      <td>1.51651</td>\n",
              "      <td>14.38</td>\n",
              "      <td>0.00</td>\n",
              "      <td>1.94</td>\n",
              "      <td>73.61</td>\n",
              "      <td>0.00</td>\n",
              "      <td>8.48</td>\n",
              "      <td>1.57</td>\n",
              "      <td>0.0</td>\n",
              "      <td>7</td>\n",
              "    </tr>\n",
              "    <tr>\n",
              "      <th>213</th>\n",
              "      <td>214</td>\n",
              "      <td>1.51711</td>\n",
              "      <td>14.23</td>\n",
              "      <td>0.00</td>\n",
              "      <td>2.08</td>\n",
              "      <td>73.36</td>\n",
              "      <td>0.00</td>\n",
              "      <td>8.62</td>\n",
              "      <td>1.67</td>\n",
              "      <td>0.0</td>\n",
              "      <td>7</td>\n",
              "    </tr>\n",
              "  </tbody>\n",
              "</table>\n",
              "<p>214 rows × 11 columns</p>\n",
              "</div>"
            ],
            "text/plain": [
              "     Id number       RI     Na    Mg    Al     Si     K    Ca    Ba   Fe  \\\n",
              "0            1  1.52101  13.64  4.49  1.10  71.78  0.06  8.75  0.00  0.0   \n",
              "1            2  1.51761  13.89  3.60  1.36  72.73  0.48  7.83  0.00  0.0   \n",
              "2            3  1.51618  13.53  3.55  1.54  72.99  0.39  7.78  0.00  0.0   \n",
              "3            4  1.51766  13.21  3.69  1.29  72.61  0.57  8.22  0.00  0.0   \n",
              "4            5  1.51742  13.27  3.62  1.24  73.08  0.55  8.07  0.00  0.0   \n",
              "..         ...      ...    ...   ...   ...    ...   ...   ...   ...  ...   \n",
              "209        210  1.51623  14.14  0.00  2.88  72.61  0.08  9.18  1.06  0.0   \n",
              "210        211  1.51685  14.92  0.00  1.99  73.06  0.00  8.40  1.59  0.0   \n",
              "211        212  1.52065  14.36  0.00  2.02  73.42  0.00  8.44  1.64  0.0   \n",
              "212        213  1.51651  14.38  0.00  1.94  73.61  0.00  8.48  1.57  0.0   \n",
              "213        214  1.51711  14.23  0.00  2.08  73.36  0.00  8.62  1.67  0.0   \n",
              "\n",
              "     Type-of-glass  \n",
              "0                1  \n",
              "1                1  \n",
              "2                1  \n",
              "3                1  \n",
              "4                1  \n",
              "..             ...  \n",
              "209              7  \n",
              "210              7  \n",
              "211              7  \n",
              "212              7  \n",
              "213              7  \n",
              "\n",
              "[214 rows x 11 columns]"
            ]
          },
          "execution_count": 16,
          "metadata": {},
          "output_type": "execute_result"
        }
      ],
      "source": [
        "df_remote.columns = [\n",
        "    'Id number', 'RI', 'Na', 'Mg',\n",
        "    'Al', 'Si', 'K', 'Ca',\n",
        "    'Ba', 'Fe', 'Type-of-glass'\n",
        "]\n",
        "df_remote"
      ]
    },
    {
      "cell_type": "markdown",
      "metadata": {
        "id": "cHT-hCK96IOO"
      },
      "source": [
        "**Deskripsi Dataset \"glass\"**\n",
        "- Id number: 1 to 214\n",
        "- RI: refractive index\n",
        "- Na: Sodium (unit measurement: weight percent in corresponding oxide, as are attributes 4-10)\n",
        "- Mg: Magnesium\n",
        "- Al: Aluminum\n",
        "- Si: Silicon\n",
        "- K: Potassium\n",
        "- Ca: Calcium\n",
        "- Ba: Barium\n",
        "- Fe: Iron\n",
        "- Type-of-glass: (class attribute)\n",
        "\n",
        "\n",
        "Sumber data set: https://archive.ics.uci.edu/ml/datasets/Glass+Identification"
      ]
    },
    {
      "cell_type": "markdown",
      "metadata": {
        "id": "izJVftLr6IOP"
      },
      "source": [
        "#### Menggunakan Path Lokal"
      ]
    },
    {
      "cell_type": "code",
      "execution_count": null,
      "metadata": {
        "id": "_mx66_Dl6IOP",
        "outputId": "9c973f74-5c4d-46e7-b83b-7b337e45cb2b"
      },
      "outputs": [
        {
          "data": {
            "text/html": [
              "<div>\n",
              "<style scoped>\n",
              "    .dataframe tbody tr th:only-of-type {\n",
              "        vertical-align: middle;\n",
              "    }\n",
              "\n",
              "    .dataframe tbody tr th {\n",
              "        vertical-align: top;\n",
              "    }\n",
              "\n",
              "    .dataframe thead th {\n",
              "        text-align: right;\n",
              "    }\n",
              "</style>\n",
              "<table border=\"1\" class=\"dataframe\">\n",
              "  <thead>\n",
              "    <tr style=\"text-align: right;\">\n",
              "      <th></th>\n",
              "      <th>Id</th>\n",
              "      <th>SepalLengthCm</th>\n",
              "      <th>SepalWidthCm</th>\n",
              "      <th>PetalLengthCm</th>\n",
              "      <th>PetalWidthCm</th>\n",
              "      <th>Species</th>\n",
              "    </tr>\n",
              "  </thead>\n",
              "  <tbody>\n",
              "    <tr>\n",
              "      <th>0</th>\n",
              "      <td>1</td>\n",
              "      <td>5.1</td>\n",
              "      <td>3.5</td>\n",
              "      <td>1.4</td>\n",
              "      <td>0.2</td>\n",
              "      <td>Iris-setosa</td>\n",
              "    </tr>\n",
              "    <tr>\n",
              "      <th>1</th>\n",
              "      <td>2</td>\n",
              "      <td>4.9</td>\n",
              "      <td>3.0</td>\n",
              "      <td>1.4</td>\n",
              "      <td>0.2</td>\n",
              "      <td>Iris-setosa</td>\n",
              "    </tr>\n",
              "    <tr>\n",
              "      <th>2</th>\n",
              "      <td>3</td>\n",
              "      <td>4.7</td>\n",
              "      <td>3.2</td>\n",
              "      <td>1.3</td>\n",
              "      <td>0.2</td>\n",
              "      <td>Iris-setosa</td>\n",
              "    </tr>\n",
              "    <tr>\n",
              "      <th>3</th>\n",
              "      <td>4</td>\n",
              "      <td>4.6</td>\n",
              "      <td>3.1</td>\n",
              "      <td>1.5</td>\n",
              "      <td>0.2</td>\n",
              "      <td>Iris-setosa</td>\n",
              "    </tr>\n",
              "    <tr>\n",
              "      <th>4</th>\n",
              "      <td>5</td>\n",
              "      <td>5.0</td>\n",
              "      <td>3.6</td>\n",
              "      <td>1.4</td>\n",
              "      <td>0.2</td>\n",
              "      <td>Iris-setosa</td>\n",
              "    </tr>\n",
              "    <tr>\n",
              "      <th>...</th>\n",
              "      <td>...</td>\n",
              "      <td>...</td>\n",
              "      <td>...</td>\n",
              "      <td>...</td>\n",
              "      <td>...</td>\n",
              "      <td>...</td>\n",
              "    </tr>\n",
              "    <tr>\n",
              "      <th>145</th>\n",
              "      <td>146</td>\n",
              "      <td>6.7</td>\n",
              "      <td>3.0</td>\n",
              "      <td>5.2</td>\n",
              "      <td>2.3</td>\n",
              "      <td>Iris-virginica</td>\n",
              "    </tr>\n",
              "    <tr>\n",
              "      <th>146</th>\n",
              "      <td>147</td>\n",
              "      <td>6.3</td>\n",
              "      <td>2.5</td>\n",
              "      <td>5.0</td>\n",
              "      <td>1.9</td>\n",
              "      <td>Iris-virginica</td>\n",
              "    </tr>\n",
              "    <tr>\n",
              "      <th>147</th>\n",
              "      <td>148</td>\n",
              "      <td>6.5</td>\n",
              "      <td>3.0</td>\n",
              "      <td>5.2</td>\n",
              "      <td>2.0</td>\n",
              "      <td>Iris-virginica</td>\n",
              "    </tr>\n",
              "    <tr>\n",
              "      <th>148</th>\n",
              "      <td>149</td>\n",
              "      <td>6.2</td>\n",
              "      <td>3.4</td>\n",
              "      <td>5.4</td>\n",
              "      <td>2.3</td>\n",
              "      <td>Iris-virginica</td>\n",
              "    </tr>\n",
              "    <tr>\n",
              "      <th>149</th>\n",
              "      <td>150</td>\n",
              "      <td>5.9</td>\n",
              "      <td>3.0</td>\n",
              "      <td>5.1</td>\n",
              "      <td>1.8</td>\n",
              "      <td>Iris-virginica</td>\n",
              "    </tr>\n",
              "  </tbody>\n",
              "</table>\n",
              "<p>150 rows × 6 columns</p>\n",
              "</div>"
            ],
            "text/plain": [
              "      Id  SepalLengthCm  SepalWidthCm  PetalLengthCm  PetalWidthCm  \\\n",
              "0      1            5.1           3.5            1.4           0.2   \n",
              "1      2            4.9           3.0            1.4           0.2   \n",
              "2      3            4.7           3.2            1.3           0.2   \n",
              "3      4            4.6           3.1            1.5           0.2   \n",
              "4      5            5.0           3.6            1.4           0.2   \n",
              "..   ...            ...           ...            ...           ...   \n",
              "145  146            6.7           3.0            5.2           2.3   \n",
              "146  147            6.3           2.5            5.0           1.9   \n",
              "147  148            6.5           3.0            5.2           2.0   \n",
              "148  149            6.2           3.4            5.4           2.3   \n",
              "149  150            5.9           3.0            5.1           1.8   \n",
              "\n",
              "            Species  \n",
              "0       Iris-setosa  \n",
              "1       Iris-setosa  \n",
              "2       Iris-setosa  \n",
              "3       Iris-setosa  \n",
              "4       Iris-setosa  \n",
              "..              ...  \n",
              "145  Iris-virginica  \n",
              "146  Iris-virginica  \n",
              "147  Iris-virginica  \n",
              "148  Iris-virginica  \n",
              "149  Iris-virginica  \n",
              "\n",
              "[150 rows x 6 columns]"
            ]
          },
          "execution_count": 17,
          "metadata": {},
          "output_type": "execute_result"
        }
      ],
      "source": [
        "df_local = pd.read_csv(\n",
        "    \"./iris.csv\" # relative path dari file csv di lokal\n",
        "    # tidak menggunakan header=None karena file csv sudah menyertakan header\n",
        ")\n",
        "df_local"
      ]
    },
    {
      "cell_type": "markdown",
      "metadata": {
        "id": "o8Q_X1qf6IOP"
      },
      "source": [
        "### A.2.5. Melihat Cuplikan DataFrame\n",
        "\n",
        "Menggunakan fungsi `head(n)` untuk melihat 5 baris pertama dari DataFrame. Parameter `n` dapat digunakan untuk menentukan jumlah baris yang ingin ditampilkan. Jika tidak diberikan nilai, maka nilai defaultnya adalah 5. Untuk melihat 5 baris terakhir dari DataFrame, dapat menggunakan fungsi `tail(n)`."
      ]
    },
    {
      "cell_type": "code",
      "execution_count": null,
      "metadata": {
        "id": "JEIFC_Xk6IOP",
        "outputId": "93dff8c3-4464-4513-ef34-ddd1bc691e10"
      },
      "outputs": [
        {
          "data": {
            "text/html": [
              "<div>\n",
              "<style scoped>\n",
              "    .dataframe tbody tr th:only-of-type {\n",
              "        vertical-align: middle;\n",
              "    }\n",
              "\n",
              "    .dataframe tbody tr th {\n",
              "        vertical-align: top;\n",
              "    }\n",
              "\n",
              "    .dataframe thead th {\n",
              "        text-align: right;\n",
              "    }\n",
              "</style>\n",
              "<table border=\"1\" class=\"dataframe\">\n",
              "  <thead>\n",
              "    <tr style=\"text-align: right;\">\n",
              "      <th></th>\n",
              "      <th>Id</th>\n",
              "      <th>SepalLengthCm</th>\n",
              "      <th>SepalWidthCm</th>\n",
              "      <th>PetalLengthCm</th>\n",
              "      <th>PetalWidthCm</th>\n",
              "      <th>Species</th>\n",
              "    </tr>\n",
              "  </thead>\n",
              "  <tbody>\n",
              "    <tr>\n",
              "      <th>0</th>\n",
              "      <td>1</td>\n",
              "      <td>5.1</td>\n",
              "      <td>3.5</td>\n",
              "      <td>1.4</td>\n",
              "      <td>0.2</td>\n",
              "      <td>Iris-setosa</td>\n",
              "    </tr>\n",
              "    <tr>\n",
              "      <th>1</th>\n",
              "      <td>2</td>\n",
              "      <td>4.9</td>\n",
              "      <td>3.0</td>\n",
              "      <td>1.4</td>\n",
              "      <td>0.2</td>\n",
              "      <td>Iris-setosa</td>\n",
              "    </tr>\n",
              "    <tr>\n",
              "      <th>2</th>\n",
              "      <td>3</td>\n",
              "      <td>4.7</td>\n",
              "      <td>3.2</td>\n",
              "      <td>1.3</td>\n",
              "      <td>0.2</td>\n",
              "      <td>Iris-setosa</td>\n",
              "    </tr>\n",
              "    <tr>\n",
              "      <th>3</th>\n",
              "      <td>4</td>\n",
              "      <td>4.6</td>\n",
              "      <td>3.1</td>\n",
              "      <td>1.5</td>\n",
              "      <td>0.2</td>\n",
              "      <td>Iris-setosa</td>\n",
              "    </tr>\n",
              "    <tr>\n",
              "      <th>4</th>\n",
              "      <td>5</td>\n",
              "      <td>5.0</td>\n",
              "      <td>3.6</td>\n",
              "      <td>1.4</td>\n",
              "      <td>0.2</td>\n",
              "      <td>Iris-setosa</td>\n",
              "    </tr>\n",
              "  </tbody>\n",
              "</table>\n",
              "</div>"
            ],
            "text/plain": [
              "   Id  SepalLengthCm  SepalWidthCm  PetalLengthCm  PetalWidthCm      Species\n",
              "0   1            5.1           3.5            1.4           0.2  Iris-setosa\n",
              "1   2            4.9           3.0            1.4           0.2  Iris-setosa\n",
              "2   3            4.7           3.2            1.3           0.2  Iris-setosa\n",
              "3   4            4.6           3.1            1.5           0.2  Iris-setosa\n",
              "4   5            5.0           3.6            1.4           0.2  Iris-setosa"
            ]
          },
          "execution_count": 18,
          "metadata": {},
          "output_type": "execute_result"
        }
      ],
      "source": [
        "df = df_local\n",
        "\n",
        "# Menampilkan 5 baris pertama dari DataFrame\n",
        "df.head()"
      ]
    },
    {
      "cell_type": "code",
      "execution_count": null,
      "metadata": {
        "id": "5BTBSD2l6IOP",
        "outputId": "096a5cfc-7234-4e28-ce9b-ac3e193db0ff"
      },
      "outputs": [
        {
          "data": {
            "text/html": [
              "<div>\n",
              "<style scoped>\n",
              "    .dataframe tbody tr th:only-of-type {\n",
              "        vertical-align: middle;\n",
              "    }\n",
              "\n",
              "    .dataframe tbody tr th {\n",
              "        vertical-align: top;\n",
              "    }\n",
              "\n",
              "    .dataframe thead th {\n",
              "        text-align: right;\n",
              "    }\n",
              "</style>\n",
              "<table border=\"1\" class=\"dataframe\">\n",
              "  <thead>\n",
              "    <tr style=\"text-align: right;\">\n",
              "      <th></th>\n",
              "      <th>Id</th>\n",
              "      <th>SepalLengthCm</th>\n",
              "      <th>SepalWidthCm</th>\n",
              "      <th>PetalLengthCm</th>\n",
              "      <th>PetalWidthCm</th>\n",
              "      <th>Species</th>\n",
              "    </tr>\n",
              "  </thead>\n",
              "  <tbody>\n",
              "    <tr>\n",
              "      <th>0</th>\n",
              "      <td>1</td>\n",
              "      <td>5.1</td>\n",
              "      <td>3.5</td>\n",
              "      <td>1.4</td>\n",
              "      <td>0.2</td>\n",
              "      <td>Iris-setosa</td>\n",
              "    </tr>\n",
              "    <tr>\n",
              "      <th>1</th>\n",
              "      <td>2</td>\n",
              "      <td>4.9</td>\n",
              "      <td>3.0</td>\n",
              "      <td>1.4</td>\n",
              "      <td>0.2</td>\n",
              "      <td>Iris-setosa</td>\n",
              "    </tr>\n",
              "    <tr>\n",
              "      <th>2</th>\n",
              "      <td>3</td>\n",
              "      <td>4.7</td>\n",
              "      <td>3.2</td>\n",
              "      <td>1.3</td>\n",
              "      <td>0.2</td>\n",
              "      <td>Iris-setosa</td>\n",
              "    </tr>\n",
              "  </tbody>\n",
              "</table>\n",
              "</div>"
            ],
            "text/plain": [
              "   Id  SepalLengthCm  SepalWidthCm  PetalLengthCm  PetalWidthCm      Species\n",
              "0   1            5.1           3.5            1.4           0.2  Iris-setosa\n",
              "1   2            4.9           3.0            1.4           0.2  Iris-setosa\n",
              "2   3            4.7           3.2            1.3           0.2  Iris-setosa"
            ]
          },
          "execution_count": 19,
          "metadata": {},
          "output_type": "execute_result"
        }
      ],
      "source": [
        "# Menampilkan 3 baris pertama dari DataFrame\n",
        "df.head(3)"
      ]
    },
    {
      "cell_type": "code",
      "execution_count": null,
      "metadata": {
        "id": "MouzQfb-6IOQ",
        "outputId": "436f9197-31b9-40fa-95b6-63c7b85a6637"
      },
      "outputs": [
        {
          "data": {
            "text/html": [
              "<div>\n",
              "<style scoped>\n",
              "    .dataframe tbody tr th:only-of-type {\n",
              "        vertical-align: middle;\n",
              "    }\n",
              "\n",
              "    .dataframe tbody tr th {\n",
              "        vertical-align: top;\n",
              "    }\n",
              "\n",
              "    .dataframe thead th {\n",
              "        text-align: right;\n",
              "    }\n",
              "</style>\n",
              "<table border=\"1\" class=\"dataframe\">\n",
              "  <thead>\n",
              "    <tr style=\"text-align: right;\">\n",
              "      <th></th>\n",
              "      <th>Id</th>\n",
              "      <th>SepalLengthCm</th>\n",
              "      <th>SepalWidthCm</th>\n",
              "      <th>PetalLengthCm</th>\n",
              "      <th>PetalWidthCm</th>\n",
              "      <th>Species</th>\n",
              "    </tr>\n",
              "  </thead>\n",
              "  <tbody>\n",
              "    <tr>\n",
              "      <th>145</th>\n",
              "      <td>146</td>\n",
              "      <td>6.7</td>\n",
              "      <td>3.0</td>\n",
              "      <td>5.2</td>\n",
              "      <td>2.3</td>\n",
              "      <td>Iris-virginica</td>\n",
              "    </tr>\n",
              "    <tr>\n",
              "      <th>146</th>\n",
              "      <td>147</td>\n",
              "      <td>6.3</td>\n",
              "      <td>2.5</td>\n",
              "      <td>5.0</td>\n",
              "      <td>1.9</td>\n",
              "      <td>Iris-virginica</td>\n",
              "    </tr>\n",
              "    <tr>\n",
              "      <th>147</th>\n",
              "      <td>148</td>\n",
              "      <td>6.5</td>\n",
              "      <td>3.0</td>\n",
              "      <td>5.2</td>\n",
              "      <td>2.0</td>\n",
              "      <td>Iris-virginica</td>\n",
              "    </tr>\n",
              "    <tr>\n",
              "      <th>148</th>\n",
              "      <td>149</td>\n",
              "      <td>6.2</td>\n",
              "      <td>3.4</td>\n",
              "      <td>5.4</td>\n",
              "      <td>2.3</td>\n",
              "      <td>Iris-virginica</td>\n",
              "    </tr>\n",
              "    <tr>\n",
              "      <th>149</th>\n",
              "      <td>150</td>\n",
              "      <td>5.9</td>\n",
              "      <td>3.0</td>\n",
              "      <td>5.1</td>\n",
              "      <td>1.8</td>\n",
              "      <td>Iris-virginica</td>\n",
              "    </tr>\n",
              "  </tbody>\n",
              "</table>\n",
              "</div>"
            ],
            "text/plain": [
              "      Id  SepalLengthCm  SepalWidthCm  PetalLengthCm  PetalWidthCm  \\\n",
              "145  146            6.7           3.0            5.2           2.3   \n",
              "146  147            6.3           2.5            5.0           1.9   \n",
              "147  148            6.5           3.0            5.2           2.0   \n",
              "148  149            6.2           3.4            5.4           2.3   \n",
              "149  150            5.9           3.0            5.1           1.8   \n",
              "\n",
              "            Species  \n",
              "145  Iris-virginica  \n",
              "146  Iris-virginica  \n",
              "147  Iris-virginica  \n",
              "148  Iris-virginica  \n",
              "149  Iris-virginica  "
            ]
          },
          "execution_count": 20,
          "metadata": {},
          "output_type": "execute_result"
        }
      ],
      "source": [
        "# menampilkan 5 baris terakhir dari DataFrame\n",
        "df.tail()"
      ]
    },
    {
      "cell_type": "code",
      "execution_count": null,
      "metadata": {
        "id": "bAjHEiGO6IOQ",
        "outputId": "7bd6580e-3e61-4706-f9eb-ba8cad7a488a"
      },
      "outputs": [
        {
          "data": {
            "text/html": [
              "<div>\n",
              "<style scoped>\n",
              "    .dataframe tbody tr th:only-of-type {\n",
              "        vertical-align: middle;\n",
              "    }\n",
              "\n",
              "    .dataframe tbody tr th {\n",
              "        vertical-align: top;\n",
              "    }\n",
              "\n",
              "    .dataframe thead th {\n",
              "        text-align: right;\n",
              "    }\n",
              "</style>\n",
              "<table border=\"1\" class=\"dataframe\">\n",
              "  <thead>\n",
              "    <tr style=\"text-align: right;\">\n",
              "      <th></th>\n",
              "      <th>Id</th>\n",
              "      <th>SepalLengthCm</th>\n",
              "      <th>SepalWidthCm</th>\n",
              "      <th>PetalLengthCm</th>\n",
              "      <th>PetalWidthCm</th>\n",
              "      <th>Species</th>\n",
              "    </tr>\n",
              "  </thead>\n",
              "  <tbody>\n",
              "    <tr>\n",
              "      <th>138</th>\n",
              "      <td>139</td>\n",
              "      <td>6.0</td>\n",
              "      <td>3.0</td>\n",
              "      <td>4.8</td>\n",
              "      <td>1.8</td>\n",
              "      <td>Iris-virginica</td>\n",
              "    </tr>\n",
              "    <tr>\n",
              "      <th>112</th>\n",
              "      <td>113</td>\n",
              "      <td>6.8</td>\n",
              "      <td>3.0</td>\n",
              "      <td>5.5</td>\n",
              "      <td>2.1</td>\n",
              "      <td>Iris-virginica</td>\n",
              "    </tr>\n",
              "    <tr>\n",
              "      <th>51</th>\n",
              "      <td>52</td>\n",
              "      <td>6.4</td>\n",
              "      <td>3.2</td>\n",
              "      <td>4.5</td>\n",
              "      <td>1.5</td>\n",
              "      <td>Iris-versicolor</td>\n",
              "    </tr>\n",
              "    <tr>\n",
              "      <th>80</th>\n",
              "      <td>81</td>\n",
              "      <td>5.5</td>\n",
              "      <td>2.4</td>\n",
              "      <td>3.8</td>\n",
              "      <td>1.1</td>\n",
              "      <td>Iris-versicolor</td>\n",
              "    </tr>\n",
              "    <tr>\n",
              "      <th>83</th>\n",
              "      <td>84</td>\n",
              "      <td>6.0</td>\n",
              "      <td>2.7</td>\n",
              "      <td>5.1</td>\n",
              "      <td>1.6</td>\n",
              "      <td>Iris-versicolor</td>\n",
              "    </tr>\n",
              "  </tbody>\n",
              "</table>\n",
              "</div>"
            ],
            "text/plain": [
              "      Id  SepalLengthCm  SepalWidthCm  PetalLengthCm  PetalWidthCm  \\\n",
              "138  139            6.0           3.0            4.8           1.8   \n",
              "112  113            6.8           3.0            5.5           2.1   \n",
              "51    52            6.4           3.2            4.5           1.5   \n",
              "80    81            5.5           2.4            3.8           1.1   \n",
              "83    84            6.0           2.7            5.1           1.6   \n",
              "\n",
              "             Species  \n",
              "138   Iris-virginica  \n",
              "112   Iris-virginica  \n",
              "51   Iris-versicolor  \n",
              "80   Iris-versicolor  \n",
              "83   Iris-versicolor  "
            ]
          },
          "execution_count": 21,
          "metadata": {},
          "output_type": "execute_result"
        }
      ],
      "source": [
        "# Menampilkan 5 baris random dari DataFrame\n",
        "df.sample(5)"
      ]
    },
    {
      "cell_type": "markdown",
      "metadata": {
        "id": "VWfQqNWB6IOQ"
      },
      "source": [
        "### A.2.6. Melihat Informasi DataFrame"
      ]
    },
    {
      "cell_type": "markdown",
      "metadata": {
        "id": "lrvfa4eW6IOQ"
      },
      "source": [
        "Menampilkan dimensi dataframe menggunakan atribut `shape`."
      ]
    },
    {
      "cell_type": "code",
      "execution_count": null,
      "metadata": {
        "id": "zopwatcH6IOS",
        "outputId": "14d70d88-c6ee-41bb-b8c9-33db3c585cbe"
      },
      "outputs": [
        {
          "name": "stdout",
          "output_type": "stream",
          "text": [
            "Dimensi dari dataframe iris adalah (150, 6)\n",
            "Terdiri dari 150 baris dan 6 kolom\n"
          ]
        }
      ],
      "source": [
        "print(f\"Dimensi dari dataframe iris adalah {df.shape}\")\n",
        "print(f\"Terdiri dari {df.shape[0]} baris dan {df.shape[1]} kolom\")"
      ]
    },
    {
      "cell_type": "markdown",
      "metadata": {
        "id": "GW1pwGv76IOT"
      },
      "source": [
        "Menampilkan tipe data untuk setiap kolom menggunakan atribut `dtypes`."
      ]
    },
    {
      "cell_type": "code",
      "execution_count": null,
      "metadata": {
        "id": "MHWbkV_Z6IOT",
        "outputId": "f8795ca3-15d9-47c6-9c64-7213e68a6e12"
      },
      "outputs": [
        {
          "data": {
            "text/plain": [
              "Id                 int64\n",
              "SepalLengthCm    float64\n",
              "SepalWidthCm     float64\n",
              "PetalLengthCm    float64\n",
              "PetalWidthCm     float64\n",
              "Species           object\n",
              "dtype: object"
            ]
          },
          "execution_count": 23,
          "metadata": {},
          "output_type": "execute_result"
        }
      ],
      "source": [
        "df.dtypes"
      ]
    },
    {
      "cell_type": "markdown",
      "metadata": {
        "id": "9_3CA2496IOT"
      },
      "source": [
        "Menampilkan statistik deskriptif untuk setiap kolom menggunakan fungsi `describe()`."
      ]
    },
    {
      "cell_type": "code",
      "execution_count": null,
      "metadata": {
        "id": "BSpZnqSr6IOT",
        "outputId": "c222194d-74aa-4786-d403-8cf9fe3bf46b"
      },
      "outputs": [
        {
          "data": {
            "text/html": [
              "<div>\n",
              "<style scoped>\n",
              "    .dataframe tbody tr th:only-of-type {\n",
              "        vertical-align: middle;\n",
              "    }\n",
              "\n",
              "    .dataframe tbody tr th {\n",
              "        vertical-align: top;\n",
              "    }\n",
              "\n",
              "    .dataframe thead th {\n",
              "        text-align: right;\n",
              "    }\n",
              "</style>\n",
              "<table border=\"1\" class=\"dataframe\">\n",
              "  <thead>\n",
              "    <tr style=\"text-align: right;\">\n",
              "      <th></th>\n",
              "      <th>Id</th>\n",
              "      <th>SepalLengthCm</th>\n",
              "      <th>SepalWidthCm</th>\n",
              "      <th>PetalLengthCm</th>\n",
              "      <th>PetalWidthCm</th>\n",
              "    </tr>\n",
              "  </thead>\n",
              "  <tbody>\n",
              "    <tr>\n",
              "      <th>count</th>\n",
              "      <td>150.000000</td>\n",
              "      <td>150.000000</td>\n",
              "      <td>150.000000</td>\n",
              "      <td>150.000000</td>\n",
              "      <td>150.000000</td>\n",
              "    </tr>\n",
              "    <tr>\n",
              "      <th>mean</th>\n",
              "      <td>75.500000</td>\n",
              "      <td>5.843333</td>\n",
              "      <td>3.054000</td>\n",
              "      <td>3.758667</td>\n",
              "      <td>1.198667</td>\n",
              "    </tr>\n",
              "    <tr>\n",
              "      <th>std</th>\n",
              "      <td>43.445368</td>\n",
              "      <td>0.828066</td>\n",
              "      <td>0.433594</td>\n",
              "      <td>1.764420</td>\n",
              "      <td>0.763161</td>\n",
              "    </tr>\n",
              "    <tr>\n",
              "      <th>min</th>\n",
              "      <td>1.000000</td>\n",
              "      <td>4.300000</td>\n",
              "      <td>2.000000</td>\n",
              "      <td>1.000000</td>\n",
              "      <td>0.100000</td>\n",
              "    </tr>\n",
              "    <tr>\n",
              "      <th>25%</th>\n",
              "      <td>38.250000</td>\n",
              "      <td>5.100000</td>\n",
              "      <td>2.800000</td>\n",
              "      <td>1.600000</td>\n",
              "      <td>0.300000</td>\n",
              "    </tr>\n",
              "    <tr>\n",
              "      <th>50%</th>\n",
              "      <td>75.500000</td>\n",
              "      <td>5.800000</td>\n",
              "      <td>3.000000</td>\n",
              "      <td>4.350000</td>\n",
              "      <td>1.300000</td>\n",
              "    </tr>\n",
              "    <tr>\n",
              "      <th>75%</th>\n",
              "      <td>112.750000</td>\n",
              "      <td>6.400000</td>\n",
              "      <td>3.300000</td>\n",
              "      <td>5.100000</td>\n",
              "      <td>1.800000</td>\n",
              "    </tr>\n",
              "    <tr>\n",
              "      <th>max</th>\n",
              "      <td>150.000000</td>\n",
              "      <td>7.900000</td>\n",
              "      <td>4.400000</td>\n",
              "      <td>6.900000</td>\n",
              "      <td>2.500000</td>\n",
              "    </tr>\n",
              "  </tbody>\n",
              "</table>\n",
              "</div>"
            ],
            "text/plain": [
              "               Id  SepalLengthCm  SepalWidthCm  PetalLengthCm  PetalWidthCm\n",
              "count  150.000000     150.000000    150.000000     150.000000    150.000000\n",
              "mean    75.500000       5.843333      3.054000       3.758667      1.198667\n",
              "std     43.445368       0.828066      0.433594       1.764420      0.763161\n",
              "min      1.000000       4.300000      2.000000       1.000000      0.100000\n",
              "25%     38.250000       5.100000      2.800000       1.600000      0.300000\n",
              "50%     75.500000       5.800000      3.000000       4.350000      1.300000\n",
              "75%    112.750000       6.400000      3.300000       5.100000      1.800000\n",
              "max    150.000000       7.900000      4.400000       6.900000      2.500000"
            ]
          },
          "execution_count": 24,
          "metadata": {},
          "output_type": "execute_result"
        }
      ],
      "source": [
        "df.describe()"
      ]
    },
    {
      "cell_type": "code",
      "execution_count": null,
      "metadata": {
        "id": "lWYICw0t6IOT",
        "outputId": "b769c2de-1919-4634-e028-b88c3ca633f4"
      },
      "outputs": [
        {
          "data": {
            "text/plain": [
              "count    150.000000\n",
              "mean       5.843333\n",
              "std        0.828066\n",
              "min        4.300000\n",
              "25%        5.100000\n",
              "50%        5.800000\n",
              "75%        6.400000\n",
              "max        7.900000\n",
              "Name: SepalLengthCm, dtype: float64"
            ]
          },
          "execution_count": 25,
          "metadata": {},
          "output_type": "execute_result"
        }
      ],
      "source": [
        "# untuk kolom tertentu\n",
        "df['SepalLengthCm'].describe()"
      ]
    },
    {
      "cell_type": "markdown",
      "metadata": {
        "id": "puy9LahF6IOU"
      },
      "source": [
        "Menghitung jumlah nilai yang tidak ada (missing values) untuk setiap kolom menggunakan fungsi `isnull().sum()`."
      ]
    },
    {
      "cell_type": "code",
      "execution_count": null,
      "metadata": {
        "id": "QSriTNcN6IOU",
        "outputId": "dcec58db-a622-4b24-c707-261694219dca"
      },
      "outputs": [
        {
          "data": {
            "text/plain": [
              "Id               0\n",
              "SepalLengthCm    0\n",
              "SepalWidthCm     0\n",
              "PetalLengthCm    0\n",
              "PetalWidthCm     0\n",
              "Species          0\n",
              "dtype: int64"
            ]
          },
          "execution_count": 26,
          "metadata": {},
          "output_type": "execute_result"
        }
      ],
      "source": [
        "df.isnull().sum()"
      ]
    },
    {
      "cell_type": "markdown",
      "metadata": {
        "id": "WmWn4_S26IOU"
      },
      "source": [
        "### A.2.7. Mengakses Kolom dan Baris pada DataFrame"
      ]
    },
    {
      "cell_type": "markdown",
      "metadata": {
        "id": "zg4h6fcW6IOU"
      },
      "source": [
        "#### Mengakses kolom menggunakan square bracket\n",
        "Kita dapat mengakses kolom DataFrame seperti mengakses indeks pada array atau list, yaitu dengan Square Bracket, baik sebagai Series maupun DataFrame baru."
      ]
    },
    {
      "cell_type": "code",
      "execution_count": null,
      "metadata": {
        "id": "gLUilKhH6IOV",
        "outputId": "1f88cd3c-4566-4598-f068-5e1a66aea845"
      },
      "outputs": [
        {
          "name": "stdout",
          "output_type": "stream",
          "text": [
            "tipe objek: <class 'pandas.core.series.Series'>\n"
          ]
        },
        {
          "data": {
            "text/plain": [
              "0      1.4\n",
              "1      1.4\n",
              "2      1.3\n",
              "3      1.5\n",
              "4      1.4\n",
              "      ... \n",
              "145    5.2\n",
              "146    5.0\n",
              "147    5.2\n",
              "148    5.4\n",
              "149    5.1\n",
              "Name: PetalLengthCm, Length: 150, dtype: float64"
            ]
          },
          "execution_count": 27,
          "metadata": {},
          "output_type": "execute_result"
        }
      ],
      "source": [
        "# Mengakses kolom sebagai Series\n",
        "col_1 = df['PetalLengthCm']\n",
        "print(f\"tipe objek: {type(col_1)}\")\n",
        "col_1"
      ]
    },
    {
      "cell_type": "code",
      "execution_count": null,
      "metadata": {
        "id": "YZNsym816IOV",
        "outputId": "071fb535-b37d-43e2-e18e-cdd857b8ccf9"
      },
      "outputs": [
        {
          "name": "stdout",
          "output_type": "stream",
          "text": [
            "tipe objek: <class 'pandas.core.frame.DataFrame'>\n"
          ]
        },
        {
          "data": {
            "text/html": [
              "<div>\n",
              "<style scoped>\n",
              "    .dataframe tbody tr th:only-of-type {\n",
              "        vertical-align: middle;\n",
              "    }\n",
              "\n",
              "    .dataframe tbody tr th {\n",
              "        vertical-align: top;\n",
              "    }\n",
              "\n",
              "    .dataframe thead th {\n",
              "        text-align: right;\n",
              "    }\n",
              "</style>\n",
              "<table border=\"1\" class=\"dataframe\">\n",
              "  <thead>\n",
              "    <tr style=\"text-align: right;\">\n",
              "      <th></th>\n",
              "      <th>PetalLengthCm</th>\n",
              "    </tr>\n",
              "  </thead>\n",
              "  <tbody>\n",
              "    <tr>\n",
              "      <th>0</th>\n",
              "      <td>1.4</td>\n",
              "    </tr>\n",
              "    <tr>\n",
              "      <th>1</th>\n",
              "      <td>1.4</td>\n",
              "    </tr>\n",
              "    <tr>\n",
              "      <th>2</th>\n",
              "      <td>1.3</td>\n",
              "    </tr>\n",
              "    <tr>\n",
              "      <th>3</th>\n",
              "      <td>1.5</td>\n",
              "    </tr>\n",
              "    <tr>\n",
              "      <th>4</th>\n",
              "      <td>1.4</td>\n",
              "    </tr>\n",
              "    <tr>\n",
              "      <th>...</th>\n",
              "      <td>...</td>\n",
              "    </tr>\n",
              "    <tr>\n",
              "      <th>145</th>\n",
              "      <td>5.2</td>\n",
              "    </tr>\n",
              "    <tr>\n",
              "      <th>146</th>\n",
              "      <td>5.0</td>\n",
              "    </tr>\n",
              "    <tr>\n",
              "      <th>147</th>\n",
              "      <td>5.2</td>\n",
              "    </tr>\n",
              "    <tr>\n",
              "      <th>148</th>\n",
              "      <td>5.4</td>\n",
              "    </tr>\n",
              "    <tr>\n",
              "      <th>149</th>\n",
              "      <td>5.1</td>\n",
              "    </tr>\n",
              "  </tbody>\n",
              "</table>\n",
              "<p>150 rows × 1 columns</p>\n",
              "</div>"
            ],
            "text/plain": [
              "     PetalLengthCm\n",
              "0              1.4\n",
              "1              1.4\n",
              "2              1.3\n",
              "3              1.5\n",
              "4              1.4\n",
              "..             ...\n",
              "145            5.2\n",
              "146            5.0\n",
              "147            5.2\n",
              "148            5.4\n",
              "149            5.1\n",
              "\n",
              "[150 rows x 1 columns]"
            ]
          },
          "execution_count": 28,
          "metadata": {},
          "output_type": "execute_result"
        }
      ],
      "source": [
        "# Mengakses kolom sebagai DataFrame\n",
        "col_1 = df[['PetalLengthCm']]\n",
        "print(f\"tipe objek: {type(col_1)}\")\n",
        "col_1"
      ]
    },
    {
      "cell_type": "code",
      "execution_count": null,
      "metadata": {
        "id": "k9F1A1Nk6IOV",
        "outputId": "c71c8d36-4379-4473-bd01-bab2d67c8cb9"
      },
      "outputs": [
        {
          "name": "stdout",
          "output_type": "stream",
          "text": [
            "tipe objek: <class 'pandas.core.frame.DataFrame'>\n"
          ]
        },
        {
          "data": {
            "text/html": [
              "<div>\n",
              "<style scoped>\n",
              "    .dataframe tbody tr th:only-of-type {\n",
              "        vertical-align: middle;\n",
              "    }\n",
              "\n",
              "    .dataframe tbody tr th {\n",
              "        vertical-align: top;\n",
              "    }\n",
              "\n",
              "    .dataframe thead th {\n",
              "        text-align: right;\n",
              "    }\n",
              "</style>\n",
              "<table border=\"1\" class=\"dataframe\">\n",
              "  <thead>\n",
              "    <tr style=\"text-align: right;\">\n",
              "      <th></th>\n",
              "      <th>PetalLengthCm</th>\n",
              "      <th>PetalWidthCm</th>\n",
              "    </tr>\n",
              "  </thead>\n",
              "  <tbody>\n",
              "    <tr>\n",
              "      <th>0</th>\n",
              "      <td>1.4</td>\n",
              "      <td>0.2</td>\n",
              "    </tr>\n",
              "    <tr>\n",
              "      <th>1</th>\n",
              "      <td>1.4</td>\n",
              "      <td>0.2</td>\n",
              "    </tr>\n",
              "    <tr>\n",
              "      <th>2</th>\n",
              "      <td>1.3</td>\n",
              "      <td>0.2</td>\n",
              "    </tr>\n",
              "    <tr>\n",
              "      <th>3</th>\n",
              "      <td>1.5</td>\n",
              "      <td>0.2</td>\n",
              "    </tr>\n",
              "    <tr>\n",
              "      <th>4</th>\n",
              "      <td>1.4</td>\n",
              "      <td>0.2</td>\n",
              "    </tr>\n",
              "    <tr>\n",
              "      <th>...</th>\n",
              "      <td>...</td>\n",
              "      <td>...</td>\n",
              "    </tr>\n",
              "    <tr>\n",
              "      <th>145</th>\n",
              "      <td>5.2</td>\n",
              "      <td>2.3</td>\n",
              "    </tr>\n",
              "    <tr>\n",
              "      <th>146</th>\n",
              "      <td>5.0</td>\n",
              "      <td>1.9</td>\n",
              "    </tr>\n",
              "    <tr>\n",
              "      <th>147</th>\n",
              "      <td>5.2</td>\n",
              "      <td>2.0</td>\n",
              "    </tr>\n",
              "    <tr>\n",
              "      <th>148</th>\n",
              "      <td>5.4</td>\n",
              "      <td>2.3</td>\n",
              "    </tr>\n",
              "    <tr>\n",
              "      <th>149</th>\n",
              "      <td>5.1</td>\n",
              "      <td>1.8</td>\n",
              "    </tr>\n",
              "  </tbody>\n",
              "</table>\n",
              "<p>150 rows × 2 columns</p>\n",
              "</div>"
            ],
            "text/plain": [
              "     PetalLengthCm  PetalWidthCm\n",
              "0              1.4           0.2\n",
              "1              1.4           0.2\n",
              "2              1.3           0.2\n",
              "3              1.5           0.2\n",
              "4              1.4           0.2\n",
              "..             ...           ...\n",
              "145            5.2           2.3\n",
              "146            5.0           1.9\n",
              "147            5.2           2.0\n",
              "148            5.4           2.3\n",
              "149            5.1           1.8\n",
              "\n",
              "[150 rows x 2 columns]"
            ]
          },
          "execution_count": 29,
          "metadata": {},
          "output_type": "execute_result"
        }
      ],
      "source": [
        "# Mengakses lebih dari 1 kolom sebagai DataFrame\n",
        "col_1_2 = df[['PetalLengthCm', 'PetalWidthCm']]\n",
        "print(f\"tipe objek: {type(col_1_2)}\")\n",
        "col_1_2"
      ]
    },
    {
      "cell_type": "markdown",
      "metadata": {
        "id": "Od1yOeYS6IOV"
      },
      "source": [
        "#### Mengakses Kolom menggunakan Dot Notation\n",
        "Penggunaan dot notation hanya bisa digunakan untuk mengakses 1 kolom saja sebagai Series. Dengan syarat kolom memiliki nama (tidak menggunakan indeks bilangan default). Nama kolom tidak boleh menggunakan nama atribut dari objek DataFrame. Nama kolom yang dapat diakses dengan dot juga tidak boleh mengandung karakter-karakter yang dilarang dalam nama variabel Python."
      ]
    },
    {
      "cell_type": "code",
      "execution_count": null,
      "metadata": {
        "id": "2pP4VDao6IOW",
        "outputId": "5e7abbbd-7042-4d9c-9b4a-a2ee4f702a83"
      },
      "outputs": [
        {
          "name": "stdout",
          "output_type": "stream",
          "text": [
            "tipe objek: <class 'pandas.core.series.Series'>\n"
          ]
        },
        {
          "data": {
            "text/plain": [
              "0      1.4\n",
              "1      1.4\n",
              "2      1.3\n",
              "3      1.5\n",
              "4      1.4\n",
              "      ... \n",
              "145    5.2\n",
              "146    5.0\n",
              "147    5.2\n",
              "148    5.4\n",
              "149    5.1\n",
              "Name: PetalLengthCm, Length: 150, dtype: float64"
            ]
          },
          "execution_count": 30,
          "metadata": {},
          "output_type": "execute_result"
        }
      ],
      "source": [
        "# Mengakses kolom menggunakan dot notation\n",
        "col_1 = df.PetalLengthCm\n",
        "print(f\"tipe objek: {type(col_1)}\")\n",
        "col_1"
      ]
    },
    {
      "cell_type": "markdown",
      "metadata": {
        "id": "xC0aKlI46IOW"
      },
      "source": [
        "#### Mengakses Baris menggunakan Fungsi `loc` dan `iloc`\n",
        "Kita dapat mengakses baris (dan kolom) DataFrame menggunakan loc atau iloc. `loc` mengakses indeks berdasarkan label dari baris atau kolom, sedangkan `iloc` mengakses indeks berdasarkan posisi dalam bilangan bulat. loc juga menerima range secara inklusif."
      ]
    },
    {
      "cell_type": "markdown",
      "metadata": {
        "id": "97W93Atb6IOW"
      },
      "source": [
        "**Mengakses Baris**"
      ]
    },
    {
      "cell_type": "code",
      "execution_count": null,
      "metadata": {
        "id": "tcYzhTI06IOW",
        "outputId": "06a1b235-ae9e-419b-a8f1-f66c31f2e99a"
      },
      "outputs": [
        {
          "data": {
            "text/html": [
              "<div>\n",
              "<style scoped>\n",
              "    .dataframe tbody tr th:only-of-type {\n",
              "        vertical-align: middle;\n",
              "    }\n",
              "\n",
              "    .dataframe tbody tr th {\n",
              "        vertical-align: top;\n",
              "    }\n",
              "\n",
              "    .dataframe thead th {\n",
              "        text-align: right;\n",
              "    }\n",
              "</style>\n",
              "<table border=\"1\" class=\"dataframe\">\n",
              "  <thead>\n",
              "    <tr style=\"text-align: right;\">\n",
              "      <th></th>\n",
              "      <th>Id</th>\n",
              "      <th>SepalLengthCm</th>\n",
              "      <th>SepalWidthCm</th>\n",
              "      <th>PetalLengthCm</th>\n",
              "      <th>PetalWidthCm</th>\n",
              "      <th>Species</th>\n",
              "    </tr>\n",
              "  </thead>\n",
              "  <tbody>\n",
              "    <tr>\n",
              "      <th>1</th>\n",
              "      <td>2</td>\n",
              "      <td>4.9</td>\n",
              "      <td>3.0</td>\n",
              "      <td>1.4</td>\n",
              "      <td>0.2</td>\n",
              "      <td>Iris-setosa</td>\n",
              "    </tr>\n",
              "    <tr>\n",
              "      <th>2</th>\n",
              "      <td>3</td>\n",
              "      <td>4.7</td>\n",
              "      <td>3.2</td>\n",
              "      <td>1.3</td>\n",
              "      <td>0.2</td>\n",
              "      <td>Iris-setosa</td>\n",
              "    </tr>\n",
              "    <tr>\n",
              "      <th>3</th>\n",
              "      <td>4</td>\n",
              "      <td>4.6</td>\n",
              "      <td>3.1</td>\n",
              "      <td>1.5</td>\n",
              "      <td>0.2</td>\n",
              "      <td>Iris-setosa</td>\n",
              "    </tr>\n",
              "  </tbody>\n",
              "</table>\n",
              "</div>"
            ],
            "text/plain": [
              "   Id  SepalLengthCm  SepalWidthCm  PetalLengthCm  PetalWidthCm      Species\n",
              "1   2            4.9           3.0            1.4           0.2  Iris-setosa\n",
              "2   3            4.7           3.2            1.3           0.2  Iris-setosa\n",
              "3   4            4.6           3.1            1.5           0.2  Iris-setosa"
            ]
          },
          "execution_count": 31,
          "metadata": {},
          "output_type": "execute_result"
        }
      ],
      "source": [
        "# Mengakses baris 1 sampai dengan 3 menggunakan loc\n",
        "df.loc[1:3]  # range inklusif"
      ]
    },
    {
      "cell_type": "code",
      "execution_count": null,
      "metadata": {
        "id": "7zj9kxd06IOX",
        "outputId": "2305732e-e361-4c9a-d522-a7e9286f2f7f"
      },
      "outputs": [
        {
          "data": {
            "text/html": [
              "<div>\n",
              "<style scoped>\n",
              "    .dataframe tbody tr th:only-of-type {\n",
              "        vertical-align: middle;\n",
              "    }\n",
              "\n",
              "    .dataframe tbody tr th {\n",
              "        vertical-align: top;\n",
              "    }\n",
              "\n",
              "    .dataframe thead th {\n",
              "        text-align: right;\n",
              "    }\n",
              "</style>\n",
              "<table border=\"1\" class=\"dataframe\">\n",
              "  <thead>\n",
              "    <tr style=\"text-align: right;\">\n",
              "      <th></th>\n",
              "      <th>Id</th>\n",
              "      <th>SepalLengthCm</th>\n",
              "      <th>SepalWidthCm</th>\n",
              "      <th>PetalLengthCm</th>\n",
              "      <th>PetalWidthCm</th>\n",
              "      <th>Species</th>\n",
              "    </tr>\n",
              "  </thead>\n",
              "  <tbody>\n",
              "    <tr>\n",
              "      <th>1</th>\n",
              "      <td>2</td>\n",
              "      <td>4.9</td>\n",
              "      <td>3.0</td>\n",
              "      <td>1.4</td>\n",
              "      <td>0.2</td>\n",
              "      <td>Iris-setosa</td>\n",
              "    </tr>\n",
              "    <tr>\n",
              "      <th>2</th>\n",
              "      <td>3</td>\n",
              "      <td>4.7</td>\n",
              "      <td>3.2</td>\n",
              "      <td>1.3</td>\n",
              "      <td>0.2</td>\n",
              "      <td>Iris-setosa</td>\n",
              "    </tr>\n",
              "    <tr>\n",
              "      <th>3</th>\n",
              "      <td>4</td>\n",
              "      <td>4.6</td>\n",
              "      <td>3.1</td>\n",
              "      <td>1.5</td>\n",
              "      <td>0.2</td>\n",
              "      <td>Iris-setosa</td>\n",
              "    </tr>\n",
              "  </tbody>\n",
              "</table>\n",
              "</div>"
            ],
            "text/plain": [
              "   Id  SepalLengthCm  SepalWidthCm  PetalLengthCm  PetalWidthCm      Species\n",
              "1   2            4.9           3.0            1.4           0.2  Iris-setosa\n",
              "2   3            4.7           3.2            1.3           0.2  Iris-setosa\n",
              "3   4            4.6           3.1            1.5           0.2  Iris-setosa"
            ]
          },
          "execution_count": 32,
          "metadata": {},
          "output_type": "execute_result"
        }
      ],
      "source": [
        "# Mengakses baris 0 sampai dengan 3 menggunakan iloc\n",
        "df.iloc[1:4] # range eksklusif"
      ]
    },
    {
      "cell_type": "markdown",
      "metadata": {
        "id": "bM1UWI626IOX"
      },
      "source": [
        "**Mengakses Kolom**"
      ]
    },
    {
      "cell_type": "code",
      "execution_count": null,
      "metadata": {
        "id": "B4oNNbpa6IOX",
        "outputId": "fb96f59c-fd29-4f33-d892-9630edc63755"
      },
      "outputs": [
        {
          "name": "stdout",
          "output_type": "stream",
          "text": [
            "tipe objek: <class 'pandas.core.series.Series'>\n"
          ]
        },
        {
          "data": {
            "text/plain": [
              "0      1.4\n",
              "1      1.4\n",
              "2      1.3\n",
              "3      1.5\n",
              "4      1.4\n",
              "      ... \n",
              "145    5.2\n",
              "146    5.0\n",
              "147    5.2\n",
              "148    5.4\n",
              "149    5.1\n",
              "Name: PetalLengthCm, Length: 150, dtype: float64"
            ]
          },
          "execution_count": 33,
          "metadata": {},
          "output_type": "execute_result"
        }
      ],
      "source": [
        "# Mengakses kolom sebagai Series dengan loc\n",
        "df_1 = df.loc[:,'PetalLengthCm']\n",
        "print(\"tipe objek:\", type(df_1))\n",
        "df_1"
      ]
    },
    {
      "cell_type": "code",
      "execution_count": null,
      "metadata": {
        "id": "NpWVq-0A6IOX",
        "outputId": "456b49d7-cb71-4262-9e29-fd41c360254a"
      },
      "outputs": [
        {
          "name": "stdout",
          "output_type": "stream",
          "text": [
            "tipe objek: <class 'pandas.core.frame.DataFrame'>\n"
          ]
        },
        {
          "data": {
            "text/html": [
              "<div>\n",
              "<style scoped>\n",
              "    .dataframe tbody tr th:only-of-type {\n",
              "        vertical-align: middle;\n",
              "    }\n",
              "\n",
              "    .dataframe tbody tr th {\n",
              "        vertical-align: top;\n",
              "    }\n",
              "\n",
              "    .dataframe thead th {\n",
              "        text-align: right;\n",
              "    }\n",
              "</style>\n",
              "<table border=\"1\" class=\"dataframe\">\n",
              "  <thead>\n",
              "    <tr style=\"text-align: right;\">\n",
              "      <th></th>\n",
              "      <th>PetalLengthCm</th>\n",
              "    </tr>\n",
              "  </thead>\n",
              "  <tbody>\n",
              "    <tr>\n",
              "      <th>0</th>\n",
              "      <td>1.4</td>\n",
              "    </tr>\n",
              "    <tr>\n",
              "      <th>1</th>\n",
              "      <td>1.4</td>\n",
              "    </tr>\n",
              "    <tr>\n",
              "      <th>2</th>\n",
              "      <td>1.3</td>\n",
              "    </tr>\n",
              "    <tr>\n",
              "      <th>3</th>\n",
              "      <td>1.5</td>\n",
              "    </tr>\n",
              "    <tr>\n",
              "      <th>4</th>\n",
              "      <td>1.4</td>\n",
              "    </tr>\n",
              "    <tr>\n",
              "      <th>...</th>\n",
              "      <td>...</td>\n",
              "    </tr>\n",
              "    <tr>\n",
              "      <th>145</th>\n",
              "      <td>5.2</td>\n",
              "    </tr>\n",
              "    <tr>\n",
              "      <th>146</th>\n",
              "      <td>5.0</td>\n",
              "    </tr>\n",
              "    <tr>\n",
              "      <th>147</th>\n",
              "      <td>5.2</td>\n",
              "    </tr>\n",
              "    <tr>\n",
              "      <th>148</th>\n",
              "      <td>5.4</td>\n",
              "    </tr>\n",
              "    <tr>\n",
              "      <th>149</th>\n",
              "      <td>5.1</td>\n",
              "    </tr>\n",
              "  </tbody>\n",
              "</table>\n",
              "<p>150 rows × 1 columns</p>\n",
              "</div>"
            ],
            "text/plain": [
              "     PetalLengthCm\n",
              "0              1.4\n",
              "1              1.4\n",
              "2              1.3\n",
              "3              1.5\n",
              "4              1.4\n",
              "..             ...\n",
              "145            5.2\n",
              "146            5.0\n",
              "147            5.2\n",
              "148            5.4\n",
              "149            5.1\n",
              "\n",
              "[150 rows x 1 columns]"
            ]
          },
          "execution_count": 34,
          "metadata": {},
          "output_type": "execute_result"
        }
      ],
      "source": [
        "# Mengakses kolom sebagai DataFrame dengan loc\n",
        "df_2 = df.loc[:,['PetalLengthCm']]\n",
        "print(\"tipe objek:\", type(df_2))\n",
        "df_2"
      ]
    },
    {
      "cell_type": "code",
      "execution_count": null,
      "metadata": {
        "id": "eg190dpe6IOY",
        "outputId": "4d697d9d-6194-4074-f395-468adc249f61"
      },
      "outputs": [
        {
          "data": {
            "text/html": [
              "<div>\n",
              "<style scoped>\n",
              "    .dataframe tbody tr th:only-of-type {\n",
              "        vertical-align: middle;\n",
              "    }\n",
              "\n",
              "    .dataframe tbody tr th {\n",
              "        vertical-align: top;\n",
              "    }\n",
              "\n",
              "    .dataframe thead th {\n",
              "        text-align: right;\n",
              "    }\n",
              "</style>\n",
              "<table border=\"1\" class=\"dataframe\">\n",
              "  <thead>\n",
              "    <tr style=\"text-align: right;\">\n",
              "      <th></th>\n",
              "      <th>PetalLengthCm</th>\n",
              "      <th>PetalWidthCm</th>\n",
              "    </tr>\n",
              "  </thead>\n",
              "  <tbody>\n",
              "    <tr>\n",
              "      <th>0</th>\n",
              "      <td>1.4</td>\n",
              "      <td>0.2</td>\n",
              "    </tr>\n",
              "    <tr>\n",
              "      <th>1</th>\n",
              "      <td>1.4</td>\n",
              "      <td>0.2</td>\n",
              "    </tr>\n",
              "    <tr>\n",
              "      <th>2</th>\n",
              "      <td>1.3</td>\n",
              "      <td>0.2</td>\n",
              "    </tr>\n",
              "    <tr>\n",
              "      <th>3</th>\n",
              "      <td>1.5</td>\n",
              "      <td>0.2</td>\n",
              "    </tr>\n",
              "    <tr>\n",
              "      <th>4</th>\n",
              "      <td>1.4</td>\n",
              "      <td>0.2</td>\n",
              "    </tr>\n",
              "    <tr>\n",
              "      <th>...</th>\n",
              "      <td>...</td>\n",
              "      <td>...</td>\n",
              "    </tr>\n",
              "    <tr>\n",
              "      <th>145</th>\n",
              "      <td>5.2</td>\n",
              "      <td>2.3</td>\n",
              "    </tr>\n",
              "    <tr>\n",
              "      <th>146</th>\n",
              "      <td>5.0</td>\n",
              "      <td>1.9</td>\n",
              "    </tr>\n",
              "    <tr>\n",
              "      <th>147</th>\n",
              "      <td>5.2</td>\n",
              "      <td>2.0</td>\n",
              "    </tr>\n",
              "    <tr>\n",
              "      <th>148</th>\n",
              "      <td>5.4</td>\n",
              "      <td>2.3</td>\n",
              "    </tr>\n",
              "    <tr>\n",
              "      <th>149</th>\n",
              "      <td>5.1</td>\n",
              "      <td>1.8</td>\n",
              "    </tr>\n",
              "  </tbody>\n",
              "</table>\n",
              "<p>150 rows × 2 columns</p>\n",
              "</div>"
            ],
            "text/plain": [
              "     PetalLengthCm  PetalWidthCm\n",
              "0              1.4           0.2\n",
              "1              1.4           0.2\n",
              "2              1.3           0.2\n",
              "3              1.5           0.2\n",
              "4              1.4           0.2\n",
              "..             ...           ...\n",
              "145            5.2           2.3\n",
              "146            5.0           1.9\n",
              "147            5.2           2.0\n",
              "148            5.4           2.3\n",
              "149            5.1           1.8\n",
              "\n",
              "[150 rows x 2 columns]"
            ]
          },
          "execution_count": 35,
          "metadata": {},
          "output_type": "execute_result"
        }
      ],
      "source": [
        "# Mengakses lebih dari 1 kolom dengan loc\n",
        "df.loc[:,['PetalLengthCm', 'PetalWidthCm']]"
      ]
    },
    {
      "cell_type": "code",
      "execution_count": null,
      "metadata": {
        "id": "k3KSqasa6IOY",
        "outputId": "1d051748-0f2a-4cb9-b126-c22c768fc6c5"
      },
      "outputs": [
        {
          "name": "stdout",
          "output_type": "stream",
          "text": [
            "tipe objek: <class 'pandas.core.series.Series'>\n"
          ]
        },
        {
          "data": {
            "text/plain": [
              "0      1.4\n",
              "1      1.4\n",
              "2      1.3\n",
              "3      1.5\n",
              "4      1.4\n",
              "      ... \n",
              "145    5.2\n",
              "146    5.0\n",
              "147    5.2\n",
              "148    5.4\n",
              "149    5.1\n",
              "Name: PetalLengthCm, Length: 150, dtype: float64"
            ]
          },
          "execution_count": 36,
          "metadata": {},
          "output_type": "execute_result"
        }
      ],
      "source": [
        "# Mengakses kolom sebagai Series dengan iloc\n",
        "df_3 = df.iloc[:,3]\n",
        "print(\"tipe objek:\", type(df_3))\n",
        "df_3"
      ]
    },
    {
      "cell_type": "code",
      "execution_count": null,
      "metadata": {
        "id": "AO3PYWvi6IOY",
        "outputId": "308e336a-f64a-43f9-9004-7e8cd6556007"
      },
      "outputs": [
        {
          "name": "stdout",
          "output_type": "stream",
          "text": [
            "tipe objek: <class 'pandas.core.frame.DataFrame'>\n"
          ]
        },
        {
          "data": {
            "text/html": [
              "<div>\n",
              "<style scoped>\n",
              "    .dataframe tbody tr th:only-of-type {\n",
              "        vertical-align: middle;\n",
              "    }\n",
              "\n",
              "    .dataframe tbody tr th {\n",
              "        vertical-align: top;\n",
              "    }\n",
              "\n",
              "    .dataframe thead th {\n",
              "        text-align: right;\n",
              "    }\n",
              "</style>\n",
              "<table border=\"1\" class=\"dataframe\">\n",
              "  <thead>\n",
              "    <tr style=\"text-align: right;\">\n",
              "      <th></th>\n",
              "      <th>PetalLengthCm</th>\n",
              "    </tr>\n",
              "  </thead>\n",
              "  <tbody>\n",
              "    <tr>\n",
              "      <th>0</th>\n",
              "      <td>1.4</td>\n",
              "    </tr>\n",
              "    <tr>\n",
              "      <th>1</th>\n",
              "      <td>1.4</td>\n",
              "    </tr>\n",
              "    <tr>\n",
              "      <th>2</th>\n",
              "      <td>1.3</td>\n",
              "    </tr>\n",
              "    <tr>\n",
              "      <th>3</th>\n",
              "      <td>1.5</td>\n",
              "    </tr>\n",
              "    <tr>\n",
              "      <th>4</th>\n",
              "      <td>1.4</td>\n",
              "    </tr>\n",
              "    <tr>\n",
              "      <th>...</th>\n",
              "      <td>...</td>\n",
              "    </tr>\n",
              "    <tr>\n",
              "      <th>145</th>\n",
              "      <td>5.2</td>\n",
              "    </tr>\n",
              "    <tr>\n",
              "      <th>146</th>\n",
              "      <td>5.0</td>\n",
              "    </tr>\n",
              "    <tr>\n",
              "      <th>147</th>\n",
              "      <td>5.2</td>\n",
              "    </tr>\n",
              "    <tr>\n",
              "      <th>148</th>\n",
              "      <td>5.4</td>\n",
              "    </tr>\n",
              "    <tr>\n",
              "      <th>149</th>\n",
              "      <td>5.1</td>\n",
              "    </tr>\n",
              "  </tbody>\n",
              "</table>\n",
              "<p>150 rows × 1 columns</p>\n",
              "</div>"
            ],
            "text/plain": [
              "     PetalLengthCm\n",
              "0              1.4\n",
              "1              1.4\n",
              "2              1.3\n",
              "3              1.5\n",
              "4              1.4\n",
              "..             ...\n",
              "145            5.2\n",
              "146            5.0\n",
              "147            5.2\n",
              "148            5.4\n",
              "149            5.1\n",
              "\n",
              "[150 rows x 1 columns]"
            ]
          },
          "execution_count": 37,
          "metadata": {},
          "output_type": "execute_result"
        }
      ],
      "source": [
        "# Mengakses kolom sebagai DataFrame dengan iloc\n",
        "df_4 = df.iloc[:,[3]]\n",
        "print(\"tipe objek:\", type(df_4))\n",
        "df_4"
      ]
    },
    {
      "cell_type": "code",
      "execution_count": null,
      "metadata": {
        "id": "4_XzkJiK6IOY",
        "outputId": "897d6892-ac45-4c5a-9d06-069987bfa9d4"
      },
      "outputs": [
        {
          "data": {
            "text/html": [
              "<div>\n",
              "<style scoped>\n",
              "    .dataframe tbody tr th:only-of-type {\n",
              "        vertical-align: middle;\n",
              "    }\n",
              "\n",
              "    .dataframe tbody tr th {\n",
              "        vertical-align: top;\n",
              "    }\n",
              "\n",
              "    .dataframe thead th {\n",
              "        text-align: right;\n",
              "    }\n",
              "</style>\n",
              "<table border=\"1\" class=\"dataframe\">\n",
              "  <thead>\n",
              "    <tr style=\"text-align: right;\">\n",
              "      <th></th>\n",
              "      <th>SepalWidthCm</th>\n",
              "      <th>PetalWidthCm</th>\n",
              "    </tr>\n",
              "  </thead>\n",
              "  <tbody>\n",
              "    <tr>\n",
              "      <th>0</th>\n",
              "      <td>3.5</td>\n",
              "      <td>0.2</td>\n",
              "    </tr>\n",
              "    <tr>\n",
              "      <th>1</th>\n",
              "      <td>3.0</td>\n",
              "      <td>0.2</td>\n",
              "    </tr>\n",
              "    <tr>\n",
              "      <th>2</th>\n",
              "      <td>3.2</td>\n",
              "      <td>0.2</td>\n",
              "    </tr>\n",
              "    <tr>\n",
              "      <th>3</th>\n",
              "      <td>3.1</td>\n",
              "      <td>0.2</td>\n",
              "    </tr>\n",
              "    <tr>\n",
              "      <th>4</th>\n",
              "      <td>3.6</td>\n",
              "      <td>0.2</td>\n",
              "    </tr>\n",
              "    <tr>\n",
              "      <th>...</th>\n",
              "      <td>...</td>\n",
              "      <td>...</td>\n",
              "    </tr>\n",
              "    <tr>\n",
              "      <th>145</th>\n",
              "      <td>3.0</td>\n",
              "      <td>2.3</td>\n",
              "    </tr>\n",
              "    <tr>\n",
              "      <th>146</th>\n",
              "      <td>2.5</td>\n",
              "      <td>1.9</td>\n",
              "    </tr>\n",
              "    <tr>\n",
              "      <th>147</th>\n",
              "      <td>3.0</td>\n",
              "      <td>2.0</td>\n",
              "    </tr>\n",
              "    <tr>\n",
              "      <th>148</th>\n",
              "      <td>3.4</td>\n",
              "      <td>2.3</td>\n",
              "    </tr>\n",
              "    <tr>\n",
              "      <th>149</th>\n",
              "      <td>3.0</td>\n",
              "      <td>1.8</td>\n",
              "    </tr>\n",
              "  </tbody>\n",
              "</table>\n",
              "<p>150 rows × 2 columns</p>\n",
              "</div>"
            ],
            "text/plain": [
              "     SepalWidthCm  PetalWidthCm\n",
              "0             3.5           0.2\n",
              "1             3.0           0.2\n",
              "2             3.2           0.2\n",
              "3             3.1           0.2\n",
              "4             3.6           0.2\n",
              "..            ...           ...\n",
              "145           3.0           2.3\n",
              "146           2.5           1.9\n",
              "147           3.0           2.0\n",
              "148           3.4           2.3\n",
              "149           3.0           1.8\n",
              "\n",
              "[150 rows x 2 columns]"
            ]
          },
          "execution_count": 38,
          "metadata": {},
          "output_type": "execute_result"
        }
      ],
      "source": [
        "# Mengakses lebih dari 1 kolom dengan iloc\n",
        "df.iloc[:,[2,4]]"
      ]
    },
    {
      "cell_type": "markdown",
      "metadata": {
        "id": "daiuOTzY6IOZ"
      },
      "source": [
        "**Mengakses Baris dan Kolom**"
      ]
    },
    {
      "cell_type": "code",
      "execution_count": null,
      "metadata": {
        "id": "KcAlS6436IOZ",
        "outputId": "0942846a-61cb-4ed5-f14f-be3f3a2df762"
      },
      "outputs": [
        {
          "data": {
            "text/html": [
              "<div>\n",
              "<style scoped>\n",
              "    .dataframe tbody tr th:only-of-type {\n",
              "        vertical-align: middle;\n",
              "    }\n",
              "\n",
              "    .dataframe tbody tr th {\n",
              "        vertical-align: top;\n",
              "    }\n",
              "\n",
              "    .dataframe thead th {\n",
              "        text-align: right;\n",
              "    }\n",
              "</style>\n",
              "<table border=\"1\" class=\"dataframe\">\n",
              "  <thead>\n",
              "    <tr style=\"text-align: right;\">\n",
              "      <th></th>\n",
              "      <th>PetalLengthCm</th>\n",
              "      <th>PetalWidthCm</th>\n",
              "    </tr>\n",
              "  </thead>\n",
              "  <tbody>\n",
              "    <tr>\n",
              "      <th>5</th>\n",
              "      <td>1.7</td>\n",
              "      <td>0.4</td>\n",
              "    </tr>\n",
              "    <tr>\n",
              "      <th>6</th>\n",
              "      <td>1.4</td>\n",
              "      <td>0.3</td>\n",
              "    </tr>\n",
              "    <tr>\n",
              "      <th>7</th>\n",
              "      <td>1.5</td>\n",
              "      <td>0.2</td>\n",
              "    </tr>\n",
              "    <tr>\n",
              "      <th>8</th>\n",
              "      <td>1.4</td>\n",
              "      <td>0.2</td>\n",
              "    </tr>\n",
              "    <tr>\n",
              "      <th>9</th>\n",
              "      <td>1.5</td>\n",
              "      <td>0.1</td>\n",
              "    </tr>\n",
              "    <tr>\n",
              "      <th>10</th>\n",
              "      <td>1.5</td>\n",
              "      <td>0.2</td>\n",
              "    </tr>\n",
              "  </tbody>\n",
              "</table>\n",
              "</div>"
            ],
            "text/plain": [
              "    PetalLengthCm  PetalWidthCm\n",
              "5             1.7           0.4\n",
              "6             1.4           0.3\n",
              "7             1.5           0.2\n",
              "8             1.4           0.2\n",
              "9             1.5           0.1\n",
              "10            1.5           0.2"
            ]
          },
          "execution_count": 39,
          "metadata": {},
          "output_type": "execute_result"
        }
      ],
      "source": [
        "# Mengakses baris 5-10, Kolom PetalLengthCm dan PetalWidthCm menggunakan loc\n",
        "df.loc[5:10, ['PetalLengthCm', 'PetalWidthCm']]"
      ]
    },
    {
      "cell_type": "code",
      "execution_count": null,
      "metadata": {
        "id": "asF3qKAp6IOZ",
        "outputId": "1d72335a-dca4-4bcb-d69f-f668434c9265"
      },
      "outputs": [
        {
          "data": {
            "text/html": [
              "<div>\n",
              "<style scoped>\n",
              "    .dataframe tbody tr th:only-of-type {\n",
              "        vertical-align: middle;\n",
              "    }\n",
              "\n",
              "    .dataframe tbody tr th {\n",
              "        vertical-align: top;\n",
              "    }\n",
              "\n",
              "    .dataframe thead th {\n",
              "        text-align: right;\n",
              "    }\n",
              "</style>\n",
              "<table border=\"1\" class=\"dataframe\">\n",
              "  <thead>\n",
              "    <tr style=\"text-align: right;\">\n",
              "      <th></th>\n",
              "      <th>PetalLengthCm</th>\n",
              "      <th>SepalWidthCm</th>\n",
              "    </tr>\n",
              "  </thead>\n",
              "  <tbody>\n",
              "    <tr>\n",
              "      <th>5</th>\n",
              "      <td>1.7</td>\n",
              "      <td>3.9</td>\n",
              "    </tr>\n",
              "    <tr>\n",
              "      <th>6</th>\n",
              "      <td>1.4</td>\n",
              "      <td>3.4</td>\n",
              "    </tr>\n",
              "    <tr>\n",
              "      <th>7</th>\n",
              "      <td>1.5</td>\n",
              "      <td>3.4</td>\n",
              "    </tr>\n",
              "    <tr>\n",
              "      <th>8</th>\n",
              "      <td>1.4</td>\n",
              "      <td>2.9</td>\n",
              "    </tr>\n",
              "    <tr>\n",
              "      <th>9</th>\n",
              "      <td>1.5</td>\n",
              "      <td>3.1</td>\n",
              "    </tr>\n",
              "    <tr>\n",
              "      <th>10</th>\n",
              "      <td>1.5</td>\n",
              "      <td>3.7</td>\n",
              "    </tr>\n",
              "  </tbody>\n",
              "</table>\n",
              "</div>"
            ],
            "text/plain": [
              "    PetalLengthCm  SepalWidthCm\n",
              "5             1.7           3.9\n",
              "6             1.4           3.4\n",
              "7             1.5           3.4\n",
              "8             1.4           2.9\n",
              "9             1.5           3.1\n",
              "10            1.5           3.7"
            ]
          },
          "execution_count": 40,
          "metadata": {},
          "output_type": "execute_result"
        }
      ],
      "source": [
        "# Mengakses baris 5-10, Kolom PetalLengthCm dan PetalWidthCm menggunakan iloc\n",
        "df.iloc[5:11, [3,2]]"
      ]
    },
    {
      "cell_type": "markdown",
      "metadata": {
        "id": "5xGrpIxF6IOa"
      },
      "source": [
        "### A.2.8. Mengisi Missing Values\n",
        "Nilai null atau missing values adalah informasi yang diisi dengan nilai null atau NaN (Not a Number). Missing values dapat disebabkan oleh berbagai hal, seperti kesalahan input, data yang tidak tersedia, atau data yang tidak relevan. Missing values dapat diisi dengan nilai lain, seperti mean, median, modus, atau nilai lain yang dianggap sesuai."
      ]
    },
    {
      "cell_type": "code",
      "execution_count": null,
      "metadata": {
        "id": "xlZOWUcN6IOa",
        "outputId": "9382bb60-e665-4ace-b616-1b0b008f799b"
      },
      "outputs": [
        {
          "data": {
            "text/plain": [
              "show_id           0\n",
              "type              0\n",
              "title             0\n",
              "director        473\n",
              "cast            190\n",
              "country         219\n",
              "date_added        3\n",
              "release_year      0\n",
              "rating            3\n",
              "duration          0\n",
              "listed_in         0\n",
              "description       0\n",
              "dtype: int64"
            ]
          },
          "execution_count": 41,
          "metadata": {},
          "output_type": "execute_result"
        }
      ],
      "source": [
        "df2 = pd.read_csv(\"disney_plus_titles.csv\")\n",
        "\n",
        "# menampilkan jumlah missing value per kolom\n",
        "df2.isnull().sum()"
      ]
    },
    {
      "cell_type": "markdown",
      "metadata": {
        "id": "6wJgZVbK6IOb"
      },
      "source": [
        "Dapat dilihat bahwa terdapat missing values pada kolom `director`, `cast`, `country`, `date_added`, dan `rating`. Jika ditampilkan cuplikan dataframe tersebut, maka akan terlihat bahwa missing values ditampilkan sebagai `NaN`."
      ]
    },
    {
      "cell_type": "code",
      "execution_count": null,
      "metadata": {
        "id": "pNL-dyGs6IOb",
        "outputId": "e3167b52-1aa4-4459-b6fd-b69dbf320908"
      },
      "outputs": [
        {
          "data": {
            "text/html": [
              "<div>\n",
              "<style scoped>\n",
              "    .dataframe tbody tr th:only-of-type {\n",
              "        vertical-align: middle;\n",
              "    }\n",
              "\n",
              "    .dataframe tbody tr th {\n",
              "        vertical-align: top;\n",
              "    }\n",
              "\n",
              "    .dataframe thead th {\n",
              "        text-align: right;\n",
              "    }\n",
              "</style>\n",
              "<table border=\"1\" class=\"dataframe\">\n",
              "  <thead>\n",
              "    <tr style=\"text-align: right;\">\n",
              "      <th></th>\n",
              "      <th>show_id</th>\n",
              "      <th>type</th>\n",
              "      <th>title</th>\n",
              "      <th>director</th>\n",
              "      <th>cast</th>\n",
              "      <th>country</th>\n",
              "      <th>date_added</th>\n",
              "      <th>release_year</th>\n",
              "      <th>rating</th>\n",
              "      <th>duration</th>\n",
              "      <th>listed_in</th>\n",
              "      <th>description</th>\n",
              "    </tr>\n",
              "  </thead>\n",
              "  <tbody>\n",
              "    <tr>\n",
              "      <th>0</th>\n",
              "      <td>s1</td>\n",
              "      <td>Movie</td>\n",
              "      <td>Duck the Halls: A Mickey Mouse Christmas Special</td>\n",
              "      <td>Alonso Ramirez Ramos, Dave Wasson</td>\n",
              "      <td>Chris Diamantopoulos, Tony Anselmo, Tress MacN...</td>\n",
              "      <td>NaN</td>\n",
              "      <td>November 26, 2021</td>\n",
              "      <td>2016</td>\n",
              "      <td>TV-G</td>\n",
              "      <td>23 min</td>\n",
              "      <td>Animation, Family</td>\n",
              "      <td>Join Mickey and the gang as they duck the halls!</td>\n",
              "    </tr>\n",
              "    <tr>\n",
              "      <th>1</th>\n",
              "      <td>s2</td>\n",
              "      <td>Movie</td>\n",
              "      <td>Ernest Saves Christmas</td>\n",
              "      <td>John Cherry</td>\n",
              "      <td>Jim Varney, Noelle Parker, Douglas Seale</td>\n",
              "      <td>NaN</td>\n",
              "      <td>November 26, 2021</td>\n",
              "      <td>1988</td>\n",
              "      <td>PG</td>\n",
              "      <td>91 min</td>\n",
              "      <td>Comedy</td>\n",
              "      <td>Santa Claus passes his magic bag to a new St. ...</td>\n",
              "    </tr>\n",
              "    <tr>\n",
              "      <th>2</th>\n",
              "      <td>s3</td>\n",
              "      <td>Movie</td>\n",
              "      <td>Ice Age: A Mammoth Christmas</td>\n",
              "      <td>Karen Disher</td>\n",
              "      <td>Raymond Albert Romano, John Leguizamo, Denis L...</td>\n",
              "      <td>United States</td>\n",
              "      <td>November 26, 2021</td>\n",
              "      <td>2011</td>\n",
              "      <td>TV-G</td>\n",
              "      <td>23 min</td>\n",
              "      <td>Animation, Comedy, Family</td>\n",
              "      <td>Sid the Sloth is on Santa's naughty list.</td>\n",
              "    </tr>\n",
              "    <tr>\n",
              "      <th>3</th>\n",
              "      <td>s4</td>\n",
              "      <td>Movie</td>\n",
              "      <td>The Queen Family Singalong</td>\n",
              "      <td>Hamish Hamilton</td>\n",
              "      <td>Darren Criss, Adam Lambert, Derek Hough, Alexa...</td>\n",
              "      <td>NaN</td>\n",
              "      <td>November 26, 2021</td>\n",
              "      <td>2021</td>\n",
              "      <td>TV-PG</td>\n",
              "      <td>41 min</td>\n",
              "      <td>Musical</td>\n",
              "      <td>This is real life, not just fantasy!</td>\n",
              "    </tr>\n",
              "    <tr>\n",
              "      <th>4</th>\n",
              "      <td>s5</td>\n",
              "      <td>TV Show</td>\n",
              "      <td>The Beatles: Get Back</td>\n",
              "      <td>NaN</td>\n",
              "      <td>John Lennon, Paul McCartney, George Harrison, ...</td>\n",
              "      <td>NaN</td>\n",
              "      <td>November 25, 2021</td>\n",
              "      <td>2021</td>\n",
              "      <td>NaN</td>\n",
              "      <td>1 Season</td>\n",
              "      <td>Docuseries, Historical, Music</td>\n",
              "      <td>A three-part documentary from Peter Jackson ca...</td>\n",
              "    </tr>\n",
              "  </tbody>\n",
              "</table>\n",
              "</div>"
            ],
            "text/plain": [
              "  show_id     type                                             title  \\\n",
              "0      s1    Movie  Duck the Halls: A Mickey Mouse Christmas Special   \n",
              "1      s2    Movie                            Ernest Saves Christmas   \n",
              "2      s3    Movie                      Ice Age: A Mammoth Christmas   \n",
              "3      s4    Movie                        The Queen Family Singalong   \n",
              "4      s5  TV Show                             The Beatles: Get Back   \n",
              "\n",
              "                            director  \\\n",
              "0  Alonso Ramirez Ramos, Dave Wasson   \n",
              "1                        John Cherry   \n",
              "2                       Karen Disher   \n",
              "3                    Hamish Hamilton   \n",
              "4                                NaN   \n",
              "\n",
              "                                                cast        country  \\\n",
              "0  Chris Diamantopoulos, Tony Anselmo, Tress MacN...            NaN   \n",
              "1           Jim Varney, Noelle Parker, Douglas Seale            NaN   \n",
              "2  Raymond Albert Romano, John Leguizamo, Denis L...  United States   \n",
              "3  Darren Criss, Adam Lambert, Derek Hough, Alexa...            NaN   \n",
              "4  John Lennon, Paul McCartney, George Harrison, ...            NaN   \n",
              "\n",
              "          date_added  release_year rating  duration  \\\n",
              "0  November 26, 2021          2016   TV-G    23 min   \n",
              "1  November 26, 2021          1988     PG    91 min   \n",
              "2  November 26, 2021          2011   TV-G    23 min   \n",
              "3  November 26, 2021          2021  TV-PG    41 min   \n",
              "4  November 25, 2021          2021    NaN  1 Season   \n",
              "\n",
              "                       listed_in  \\\n",
              "0              Animation, Family   \n",
              "1                         Comedy   \n",
              "2      Animation, Comedy, Family   \n",
              "3                        Musical   \n",
              "4  Docuseries, Historical, Music   \n",
              "\n",
              "                                         description  \n",
              "0   Join Mickey and the gang as they duck the halls!  \n",
              "1  Santa Claus passes his magic bag to a new St. ...  \n",
              "2          Sid the Sloth is on Santa's naughty list.  \n",
              "3               This is real life, not just fantasy!  \n",
              "4  A three-part documentary from Peter Jackson ca...  "
            ]
          },
          "execution_count": 42,
          "metadata": {},
          "output_type": "execute_result"
        }
      ],
      "source": [
        "df2.head()"
      ]
    },
    {
      "cell_type": "markdown",
      "metadata": {
        "id": "pYWmC6Uk6IOb"
      },
      "source": [
        "Ada beberapa solusi yang dapat digunakan untuk mengatasi missing values, yaitu:\n",
        "- Menghapus baris yang mengandung missing values, menggunakan fungsi `dropna()`\n",
        "- Mengisi missing values dengan nilai tertentu, seperti mean, median, atau modus, menggunakan fungsi `fillna()`"
      ]
    },
    {
      "cell_type": "markdown",
      "metadata": {
        "id": "7JNThY846IOb"
      },
      "source": [
        "#### Mengisi Missing Values menggunakan `fillna()` dengan nilai modus"
      ]
    },
    {
      "cell_type": "code",
      "execution_count": null,
      "metadata": {
        "id": "b4Bmj9fK6IOc",
        "outputId": "f5278f29-ce79-44f6-99df-71765dd6d32e"
      },
      "outputs": [
        {
          "data": {
            "text/plain": [
              "show_id         0\n",
              "type            0\n",
              "title           0\n",
              "director        0\n",
              "cast            0\n",
              "country         0\n",
              "date_added      0\n",
              "release_year    0\n",
              "rating          0\n",
              "duration        0\n",
              "listed_in       0\n",
              "description     0\n",
              "dtype: int64"
            ]
          },
          "execution_count": 43,
          "metadata": {},
          "output_type": "execute_result"
        }
      ],
      "source": [
        "df2_fillna = df2.copy()\n",
        "\n",
        "# mengisi missing value menggunakan modus setiap kolom\n",
        "df2_fillna = df2_fillna.fillna(df2_fillna.mode().iloc[0])\n",
        "df2_fillna.isnull().sum()"
      ]
    },
    {
      "cell_type": "markdown",
      "metadata": {
        "id": "kwZyYZpX6IOc"
      },
      "source": [
        "#### Menghapus Baris yang mengandung Missing Values menggunakan `dropna()`"
      ]
    },
    {
      "cell_type": "code",
      "execution_count": null,
      "metadata": {
        "id": "ToW7Nk456IOc",
        "outputId": "1589e551-4af6-4da7-f952-672957e8cef8"
      },
      "outputs": [
        {
          "data": {
            "text/plain": [
              "show_id         0\n",
              "type            0\n",
              "title           0\n",
              "director        0\n",
              "cast            0\n",
              "country         0\n",
              "date_added      0\n",
              "release_year    0\n",
              "rating          0\n",
              "duration        0\n",
              "listed_in       0\n",
              "description     0\n",
              "dtype: int64"
            ]
          },
          "execution_count": 44,
          "metadata": {},
          "output_type": "execute_result"
        }
      ],
      "source": [
        "df2_drop_row = df2.copy()\n",
        "\n",
        "# menghapus baris yang mengandung missing value\n",
        "df2_drop_row = df2_drop_row.dropna()\n",
        "df2_drop_row.isnull().sum()"
      ]
    },
    {
      "cell_type": "markdown",
      "metadata": {
        "id": "9CBUOz1b6IOc"
      },
      "source": [
        "## Pertanyaan Pandas\n",
        "Jawaban boleh lebih dari 1 cell"
      ]
    },
    {
      "cell_type": "markdown",
      "metadata": {
        "id": "GvXJra7b6IOd"
      },
      "source": [
        "### Nomor 1\n",
        "Buka dataset `disney_plus_titles.csv` sebagai dataframe dan tampilkan 10 baris teratas dari dataframe tersebut."
      ]
    },
    {
      "cell_type": "code",
      "execution_count": null,
      "metadata": {
        "id": "189Gemak6IOd",
        "colab": {
          "base_uri": "https://localhost:8080/",
          "height": 938
        },
        "outputId": "f2a88b12-93e7-45cc-b538-b4224c8538a4"
      },
      "outputs": [
        {
          "output_type": "execute_result",
          "data": {
            "text/plain": [
              "  show_id     type                                             title  \\\n",
              "0      s1    Movie  Duck the Halls: A Mickey Mouse Christmas Special   \n",
              "1      s2    Movie                            Ernest Saves Christmas   \n",
              "2      s3    Movie                      Ice Age: A Mammoth Christmas   \n",
              "3      s4    Movie                        The Queen Family Singalong   \n",
              "4      s5  TV Show                             The Beatles: Get Back   \n",
              "5      s6    Movie                                 Becoming Cousteau   \n",
              "6      s7  TV Show                                           Hawkeye   \n",
              "7      s8  TV Show                            Port Protection Alaska   \n",
              "8      s9  TV Show                         Secrets of the Zoo: Tampa   \n",
              "9     s10    Movie             A Muppets Christmas: Letters To Santa   \n",
              "\n",
              "                            director  \\\n",
              "0  Alonso Ramirez Ramos, Dave Wasson   \n",
              "1                        John Cherry   \n",
              "2                       Karen Disher   \n",
              "3                    Hamish Hamilton   \n",
              "4                                NaN   \n",
              "5                         Liz Garbus   \n",
              "6                                NaN   \n",
              "7                                NaN   \n",
              "8                                NaN   \n",
              "9                   Kirk R. Thatcher   \n",
              "\n",
              "                                                cast        country  \\\n",
              "0  Chris Diamantopoulos, Tony Anselmo, Tress MacN...            NaN   \n",
              "1           Jim Varney, Noelle Parker, Douglas Seale            NaN   \n",
              "2  Raymond Albert Romano, John Leguizamo, Denis L...  United States   \n",
              "3  Darren Criss, Adam Lambert, Derek Hough, Alexa...            NaN   \n",
              "4  John Lennon, Paul McCartney, George Harrison, ...            NaN   \n",
              "5              Jacques Yves Cousteau, Vincent Cassel  United States   \n",
              "6  Jeremy Renner, Hailee Steinfeld, Vera Farmiga,...            NaN   \n",
              "7  Gary Muehlberger, Mary Miller, Curly Leach, Sa...  United States   \n",
              "8  Dr. Ray Ball, Dr. Lauren Smith, Chris Massaro,...  United States   \n",
              "9  Steve Whitmire, Dave Goelz, Bill Barretta, Eri...  United States   \n",
              "\n",
              "          date_added  release_year rating   duration  \\\n",
              "0  November 26, 2021          2016   TV-G     23 min   \n",
              "1  November 26, 2021          1988     PG     91 min   \n",
              "2  November 26, 2021          2011   TV-G     23 min   \n",
              "3  November 26, 2021          2021  TV-PG     41 min   \n",
              "4  November 25, 2021          2021    NaN   1 Season   \n",
              "5  November 24, 2021          2021  PG-13     94 min   \n",
              "6  November 24, 2021          2021  TV-14   1 Season   \n",
              "7  November 24, 2021          2015  TV-14  2 Seasons   \n",
              "8  November 24, 2021          2019  TV-PG  2 Seasons   \n",
              "9  November 19, 2021          2008      G     45 min   \n",
              "\n",
              "                              listed_in  \\\n",
              "0                     Animation, Family   \n",
              "1                                Comedy   \n",
              "2             Animation, Comedy, Family   \n",
              "3                               Musical   \n",
              "4         Docuseries, Historical, Music   \n",
              "5             Biographical, Documentary   \n",
              "6           Action-Adventure, Superhero   \n",
              "7         Docuseries, Reality, Survival   \n",
              "8  Animals & Nature, Docuseries, Family   \n",
              "9               Comedy, Family, Musical   \n",
              "\n",
              "                                         description  \n",
              "0   Join Mickey and the gang as they duck the halls!  \n",
              "1  Santa Claus passes his magic bag to a new St. ...  \n",
              "2          Sid the Sloth is on Santa's naughty list.  \n",
              "3               This is real life, not just fantasy!  \n",
              "4  A three-part documentary from Peter Jackson ca...  \n",
              "5  An inside look at the legendary life of advent...  \n",
              "6  Clint Barton/Hawkeye must team up with skilled...  \n",
              "7  Residents of Port Protection must combat volat...  \n",
              "8  A day in the life at ZooTampa is anything but ...  \n",
              "9  Celebrate the holiday season with all your fav...  "
            ],
            "text/html": [
              "\n",
              "  <div id=\"df-54daa433-d6c8-4ec3-bd69-18ae718562ea\" class=\"colab-df-container\">\n",
              "    <div>\n",
              "<style scoped>\n",
              "    .dataframe tbody tr th:only-of-type {\n",
              "        vertical-align: middle;\n",
              "    }\n",
              "\n",
              "    .dataframe tbody tr th {\n",
              "        vertical-align: top;\n",
              "    }\n",
              "\n",
              "    .dataframe thead th {\n",
              "        text-align: right;\n",
              "    }\n",
              "</style>\n",
              "<table border=\"1\" class=\"dataframe\">\n",
              "  <thead>\n",
              "    <tr style=\"text-align: right;\">\n",
              "      <th></th>\n",
              "      <th>show_id</th>\n",
              "      <th>type</th>\n",
              "      <th>title</th>\n",
              "      <th>director</th>\n",
              "      <th>cast</th>\n",
              "      <th>country</th>\n",
              "      <th>date_added</th>\n",
              "      <th>release_year</th>\n",
              "      <th>rating</th>\n",
              "      <th>duration</th>\n",
              "      <th>listed_in</th>\n",
              "      <th>description</th>\n",
              "    </tr>\n",
              "  </thead>\n",
              "  <tbody>\n",
              "    <tr>\n",
              "      <th>0</th>\n",
              "      <td>s1</td>\n",
              "      <td>Movie</td>\n",
              "      <td>Duck the Halls: A Mickey Mouse Christmas Special</td>\n",
              "      <td>Alonso Ramirez Ramos, Dave Wasson</td>\n",
              "      <td>Chris Diamantopoulos, Tony Anselmo, Tress MacN...</td>\n",
              "      <td>NaN</td>\n",
              "      <td>November 26, 2021</td>\n",
              "      <td>2016</td>\n",
              "      <td>TV-G</td>\n",
              "      <td>23 min</td>\n",
              "      <td>Animation, Family</td>\n",
              "      <td>Join Mickey and the gang as they duck the halls!</td>\n",
              "    </tr>\n",
              "    <tr>\n",
              "      <th>1</th>\n",
              "      <td>s2</td>\n",
              "      <td>Movie</td>\n",
              "      <td>Ernest Saves Christmas</td>\n",
              "      <td>John Cherry</td>\n",
              "      <td>Jim Varney, Noelle Parker, Douglas Seale</td>\n",
              "      <td>NaN</td>\n",
              "      <td>November 26, 2021</td>\n",
              "      <td>1988</td>\n",
              "      <td>PG</td>\n",
              "      <td>91 min</td>\n",
              "      <td>Comedy</td>\n",
              "      <td>Santa Claus passes his magic bag to a new St. ...</td>\n",
              "    </tr>\n",
              "    <tr>\n",
              "      <th>2</th>\n",
              "      <td>s3</td>\n",
              "      <td>Movie</td>\n",
              "      <td>Ice Age: A Mammoth Christmas</td>\n",
              "      <td>Karen Disher</td>\n",
              "      <td>Raymond Albert Romano, John Leguizamo, Denis L...</td>\n",
              "      <td>United States</td>\n",
              "      <td>November 26, 2021</td>\n",
              "      <td>2011</td>\n",
              "      <td>TV-G</td>\n",
              "      <td>23 min</td>\n",
              "      <td>Animation, Comedy, Family</td>\n",
              "      <td>Sid the Sloth is on Santa's naughty list.</td>\n",
              "    </tr>\n",
              "    <tr>\n",
              "      <th>3</th>\n",
              "      <td>s4</td>\n",
              "      <td>Movie</td>\n",
              "      <td>The Queen Family Singalong</td>\n",
              "      <td>Hamish Hamilton</td>\n",
              "      <td>Darren Criss, Adam Lambert, Derek Hough, Alexa...</td>\n",
              "      <td>NaN</td>\n",
              "      <td>November 26, 2021</td>\n",
              "      <td>2021</td>\n",
              "      <td>TV-PG</td>\n",
              "      <td>41 min</td>\n",
              "      <td>Musical</td>\n",
              "      <td>This is real life, not just fantasy!</td>\n",
              "    </tr>\n",
              "    <tr>\n",
              "      <th>4</th>\n",
              "      <td>s5</td>\n",
              "      <td>TV Show</td>\n",
              "      <td>The Beatles: Get Back</td>\n",
              "      <td>NaN</td>\n",
              "      <td>John Lennon, Paul McCartney, George Harrison, ...</td>\n",
              "      <td>NaN</td>\n",
              "      <td>November 25, 2021</td>\n",
              "      <td>2021</td>\n",
              "      <td>NaN</td>\n",
              "      <td>1 Season</td>\n",
              "      <td>Docuseries, Historical, Music</td>\n",
              "      <td>A three-part documentary from Peter Jackson ca...</td>\n",
              "    </tr>\n",
              "    <tr>\n",
              "      <th>5</th>\n",
              "      <td>s6</td>\n",
              "      <td>Movie</td>\n",
              "      <td>Becoming Cousteau</td>\n",
              "      <td>Liz Garbus</td>\n",
              "      <td>Jacques Yves Cousteau, Vincent Cassel</td>\n",
              "      <td>United States</td>\n",
              "      <td>November 24, 2021</td>\n",
              "      <td>2021</td>\n",
              "      <td>PG-13</td>\n",
              "      <td>94 min</td>\n",
              "      <td>Biographical, Documentary</td>\n",
              "      <td>An inside look at the legendary life of advent...</td>\n",
              "    </tr>\n",
              "    <tr>\n",
              "      <th>6</th>\n",
              "      <td>s7</td>\n",
              "      <td>TV Show</td>\n",
              "      <td>Hawkeye</td>\n",
              "      <td>NaN</td>\n",
              "      <td>Jeremy Renner, Hailee Steinfeld, Vera Farmiga,...</td>\n",
              "      <td>NaN</td>\n",
              "      <td>November 24, 2021</td>\n",
              "      <td>2021</td>\n",
              "      <td>TV-14</td>\n",
              "      <td>1 Season</td>\n",
              "      <td>Action-Adventure, Superhero</td>\n",
              "      <td>Clint Barton/Hawkeye must team up with skilled...</td>\n",
              "    </tr>\n",
              "    <tr>\n",
              "      <th>7</th>\n",
              "      <td>s8</td>\n",
              "      <td>TV Show</td>\n",
              "      <td>Port Protection Alaska</td>\n",
              "      <td>NaN</td>\n",
              "      <td>Gary Muehlberger, Mary Miller, Curly Leach, Sa...</td>\n",
              "      <td>United States</td>\n",
              "      <td>November 24, 2021</td>\n",
              "      <td>2015</td>\n",
              "      <td>TV-14</td>\n",
              "      <td>2 Seasons</td>\n",
              "      <td>Docuseries, Reality, Survival</td>\n",
              "      <td>Residents of Port Protection must combat volat...</td>\n",
              "    </tr>\n",
              "    <tr>\n",
              "      <th>8</th>\n",
              "      <td>s9</td>\n",
              "      <td>TV Show</td>\n",
              "      <td>Secrets of the Zoo: Tampa</td>\n",
              "      <td>NaN</td>\n",
              "      <td>Dr. Ray Ball, Dr. Lauren Smith, Chris Massaro,...</td>\n",
              "      <td>United States</td>\n",
              "      <td>November 24, 2021</td>\n",
              "      <td>2019</td>\n",
              "      <td>TV-PG</td>\n",
              "      <td>2 Seasons</td>\n",
              "      <td>Animals &amp; Nature, Docuseries, Family</td>\n",
              "      <td>A day in the life at ZooTampa is anything but ...</td>\n",
              "    </tr>\n",
              "    <tr>\n",
              "      <th>9</th>\n",
              "      <td>s10</td>\n",
              "      <td>Movie</td>\n",
              "      <td>A Muppets Christmas: Letters To Santa</td>\n",
              "      <td>Kirk R. Thatcher</td>\n",
              "      <td>Steve Whitmire, Dave Goelz, Bill Barretta, Eri...</td>\n",
              "      <td>United States</td>\n",
              "      <td>November 19, 2021</td>\n",
              "      <td>2008</td>\n",
              "      <td>G</td>\n",
              "      <td>45 min</td>\n",
              "      <td>Comedy, Family, Musical</td>\n",
              "      <td>Celebrate the holiday season with all your fav...</td>\n",
              "    </tr>\n",
              "  </tbody>\n",
              "</table>\n",
              "</div>\n",
              "    <div class=\"colab-df-buttons\">\n",
              "\n",
              "  <div class=\"colab-df-container\">\n",
              "    <button class=\"colab-df-convert\" onclick=\"convertToInteractive('df-54daa433-d6c8-4ec3-bd69-18ae718562ea')\"\n",
              "            title=\"Convert this dataframe to an interactive table.\"\n",
              "            style=\"display:none;\">\n",
              "\n",
              "  <svg xmlns=\"http://www.w3.org/2000/svg\" height=\"24px\" viewBox=\"0 -960 960 960\">\n",
              "    <path d=\"M120-120v-720h720v720H120Zm60-500h600v-160H180v160Zm220 220h160v-160H400v160Zm0 220h160v-160H400v160ZM180-400h160v-160H180v160Zm440 0h160v-160H620v160ZM180-180h160v-160H180v160Zm440 0h160v-160H620v160Z\"/>\n",
              "  </svg>\n",
              "    </button>\n",
              "\n",
              "  <style>\n",
              "    .colab-df-container {\n",
              "      display:flex;\n",
              "      gap: 12px;\n",
              "    }\n",
              "\n",
              "    .colab-df-convert {\n",
              "      background-color: #E8F0FE;\n",
              "      border: none;\n",
              "      border-radius: 50%;\n",
              "      cursor: pointer;\n",
              "      display: none;\n",
              "      fill: #1967D2;\n",
              "      height: 32px;\n",
              "      padding: 0 0 0 0;\n",
              "      width: 32px;\n",
              "    }\n",
              "\n",
              "    .colab-df-convert:hover {\n",
              "      background-color: #E2EBFA;\n",
              "      box-shadow: 0px 1px 2px rgba(60, 64, 67, 0.3), 0px 1px 3px 1px rgba(60, 64, 67, 0.15);\n",
              "      fill: #174EA6;\n",
              "    }\n",
              "\n",
              "    .colab-df-buttons div {\n",
              "      margin-bottom: 4px;\n",
              "    }\n",
              "\n",
              "    [theme=dark] .colab-df-convert {\n",
              "      background-color: #3B4455;\n",
              "      fill: #D2E3FC;\n",
              "    }\n",
              "\n",
              "    [theme=dark] .colab-df-convert:hover {\n",
              "      background-color: #434B5C;\n",
              "      box-shadow: 0px 1px 3px 1px rgba(0, 0, 0, 0.15);\n",
              "      filter: drop-shadow(0px 1px 2px rgba(0, 0, 0, 0.3));\n",
              "      fill: #FFFFFF;\n",
              "    }\n",
              "  </style>\n",
              "\n",
              "    <script>\n",
              "      const buttonEl =\n",
              "        document.querySelector('#df-54daa433-d6c8-4ec3-bd69-18ae718562ea button.colab-df-convert');\n",
              "      buttonEl.style.display =\n",
              "        google.colab.kernel.accessAllowed ? 'block' : 'none';\n",
              "\n",
              "      async function convertToInteractive(key) {\n",
              "        const element = document.querySelector('#df-54daa433-d6c8-4ec3-bd69-18ae718562ea');\n",
              "        const dataTable =\n",
              "          await google.colab.kernel.invokeFunction('convertToInteractive',\n",
              "                                                    [key], {});\n",
              "        if (!dataTable) return;\n",
              "\n",
              "        const docLinkHtml = 'Like what you see? Visit the ' +\n",
              "          '<a target=\"_blank\" href=https://colab.research.google.com/notebooks/data_table.ipynb>data table notebook</a>'\n",
              "          + ' to learn more about interactive tables.';\n",
              "        element.innerHTML = '';\n",
              "        dataTable['output_type'] = 'display_data';\n",
              "        await google.colab.output.renderOutput(dataTable, element);\n",
              "        const docLink = document.createElement('div');\n",
              "        docLink.innerHTML = docLinkHtml;\n",
              "        element.appendChild(docLink);\n",
              "      }\n",
              "    </script>\n",
              "  </div>\n",
              "\n",
              "\n",
              "<div id=\"df-0180d516-9968-4ff9-84f7-066259736267\">\n",
              "  <button class=\"colab-df-quickchart\" onclick=\"quickchart('df-0180d516-9968-4ff9-84f7-066259736267')\"\n",
              "            title=\"Suggest charts.\"\n",
              "            style=\"display:none;\">\n",
              "\n",
              "<svg xmlns=\"http://www.w3.org/2000/svg\" height=\"24px\"viewBox=\"0 0 24 24\"\n",
              "     width=\"24px\">\n",
              "    <g>\n",
              "        <path d=\"M19 3H5c-1.1 0-2 .9-2 2v14c0 1.1.9 2 2 2h14c1.1 0 2-.9 2-2V5c0-1.1-.9-2-2-2zM9 17H7v-7h2v7zm4 0h-2V7h2v10zm4 0h-2v-4h2v4z\"/>\n",
              "    </g>\n",
              "</svg>\n",
              "  </button>\n",
              "\n",
              "<style>\n",
              "  .colab-df-quickchart {\n",
              "      --bg-color: #E8F0FE;\n",
              "      --fill-color: #1967D2;\n",
              "      --hover-bg-color: #E2EBFA;\n",
              "      --hover-fill-color: #174EA6;\n",
              "      --disabled-fill-color: #AAA;\n",
              "      --disabled-bg-color: #DDD;\n",
              "  }\n",
              "\n",
              "  [theme=dark] .colab-df-quickchart {\n",
              "      --bg-color: #3B4455;\n",
              "      --fill-color: #D2E3FC;\n",
              "      --hover-bg-color: #434B5C;\n",
              "      --hover-fill-color: #FFFFFF;\n",
              "      --disabled-bg-color: #3B4455;\n",
              "      --disabled-fill-color: #666;\n",
              "  }\n",
              "\n",
              "  .colab-df-quickchart {\n",
              "    background-color: var(--bg-color);\n",
              "    border: none;\n",
              "    border-radius: 50%;\n",
              "    cursor: pointer;\n",
              "    display: none;\n",
              "    fill: var(--fill-color);\n",
              "    height: 32px;\n",
              "    padding: 0;\n",
              "    width: 32px;\n",
              "  }\n",
              "\n",
              "  .colab-df-quickchart:hover {\n",
              "    background-color: var(--hover-bg-color);\n",
              "    box-shadow: 0 1px 2px rgba(60, 64, 67, 0.3), 0 1px 3px 1px rgba(60, 64, 67, 0.15);\n",
              "    fill: var(--button-hover-fill-color);\n",
              "  }\n",
              "\n",
              "  .colab-df-quickchart-complete:disabled,\n",
              "  .colab-df-quickchart-complete:disabled:hover {\n",
              "    background-color: var(--disabled-bg-color);\n",
              "    fill: var(--disabled-fill-color);\n",
              "    box-shadow: none;\n",
              "  }\n",
              "\n",
              "  .colab-df-spinner {\n",
              "    border: 2px solid var(--fill-color);\n",
              "    border-color: transparent;\n",
              "    border-bottom-color: var(--fill-color);\n",
              "    animation:\n",
              "      spin 1s steps(1) infinite;\n",
              "  }\n",
              "\n",
              "  @keyframes spin {\n",
              "    0% {\n",
              "      border-color: transparent;\n",
              "      border-bottom-color: var(--fill-color);\n",
              "      border-left-color: var(--fill-color);\n",
              "    }\n",
              "    20% {\n",
              "      border-color: transparent;\n",
              "      border-left-color: var(--fill-color);\n",
              "      border-top-color: var(--fill-color);\n",
              "    }\n",
              "    30% {\n",
              "      border-color: transparent;\n",
              "      border-left-color: var(--fill-color);\n",
              "      border-top-color: var(--fill-color);\n",
              "      border-right-color: var(--fill-color);\n",
              "    }\n",
              "    40% {\n",
              "      border-color: transparent;\n",
              "      border-right-color: var(--fill-color);\n",
              "      border-top-color: var(--fill-color);\n",
              "    }\n",
              "    60% {\n",
              "      border-color: transparent;\n",
              "      border-right-color: var(--fill-color);\n",
              "    }\n",
              "    80% {\n",
              "      border-color: transparent;\n",
              "      border-right-color: var(--fill-color);\n",
              "      border-bottom-color: var(--fill-color);\n",
              "    }\n",
              "    90% {\n",
              "      border-color: transparent;\n",
              "      border-bottom-color: var(--fill-color);\n",
              "    }\n",
              "  }\n",
              "</style>\n",
              "\n",
              "  <script>\n",
              "    async function quickchart(key) {\n",
              "      const quickchartButtonEl =\n",
              "        document.querySelector('#' + key + ' button');\n",
              "      quickchartButtonEl.disabled = true;  // To prevent multiple clicks.\n",
              "      quickchartButtonEl.classList.add('colab-df-spinner');\n",
              "      try {\n",
              "        const charts = await google.colab.kernel.invokeFunction(\n",
              "            'suggestCharts', [key], {});\n",
              "      } catch (error) {\n",
              "        console.error('Error during call to suggestCharts:', error);\n",
              "      }\n",
              "      quickchartButtonEl.classList.remove('colab-df-spinner');\n",
              "      quickchartButtonEl.classList.add('colab-df-quickchart-complete');\n",
              "    }\n",
              "    (() => {\n",
              "      let quickchartButtonEl =\n",
              "        document.querySelector('#df-0180d516-9968-4ff9-84f7-066259736267 button');\n",
              "      quickchartButtonEl.style.display =\n",
              "        google.colab.kernel.accessAllowed ? 'block' : 'none';\n",
              "    })();\n",
              "  </script>\n",
              "</div>\n",
              "    </div>\n",
              "  </div>\n"
            ]
          },
          "metadata": {},
          "execution_count": 12
        }
      ],
      "source": [
        "# Jawab nomor 1\n",
        "df_local = pd.read_csv(\n",
        "    \"./disney_plus_titles.csv\" # relative path dari file csv di lokal\n",
        "    # tidak menggunakan header=None karena file csv sudah menyertakan header\n",
        ")\n",
        "df = df_local\n",
        "df.head(10)\n"
      ]
    },
    {
      "cell_type": "markdown",
      "metadata": {
        "id": "lbEplWdR6IOd"
      },
      "source": [
        "### Nomor 2\n",
        "Tunjukkan jumlah nilai unik pada kolom `rating`. Kemudian sebutkan 3 jenis `rating` yang paling banyak muncul serta berapa banyak kemunculannya?"
      ]
    },
    {
      "cell_type": "code",
      "execution_count": null,
      "metadata": {
        "id": "BXoS-t2j6IOe",
        "colab": {
          "base_uri": "https://localhost:8080/"
        },
        "outputId": "25f24130-2ef1-48a2-a135-97a7aa72e74e"
      },
      "outputs": [
        {
          "output_type": "stream",
          "name": "stdout",
          "text": [
            "9\n",
            "TV-G     318\n",
            "TV-PG    301\n",
            "G        253\n",
            "Name: rating, dtype: int64\n"
          ]
        }
      ],
      "source": [
        "# Jawab nomor 2\n",
        "unique = df_local[\"rating\"].nunique()\n",
        "\n",
        "top_three = df[\"rating\"].value_counts().head(3)\n",
        "\n",
        "print(unique)\n",
        "print(top_three)"
      ]
    },
    {
      "cell_type": "markdown",
      "metadata": {
        "id": "nMp0fSl56IOe"
      },
      "source": [
        "### Nomor 3\n",
        "Buatlah DataFrame baru yang terdiri atas kolom `title`, `release_year`, `rating`, dan `duration` untuk 30 baris pertama dari DataFrame pada **nomor 1**. Tampilkan dimensi/ukuran dan 3 baris pertama dari DataFrame baru tersebut."
      ]
    },
    {
      "cell_type": "code",
      "execution_count": null,
      "metadata": {
        "id": "6UWolTSP6IOe",
        "colab": {
          "base_uri": "https://localhost:8080/",
          "height": 143
        },
        "outputId": "50ad5449-c795-4dbc-9b80-7b321aa0abb7"
      },
      "outputs": [
        {
          "output_type": "execute_result",
          "data": {
            "text/plain": [
              "                                              title  release_year rating  \\\n",
              "0  Duck the Halls: A Mickey Mouse Christmas Special          2016   TV-G   \n",
              "1                            Ernest Saves Christmas          1988     PG   \n",
              "2                      Ice Age: A Mammoth Christmas          2011   TV-G   \n",
              "\n",
              "  duration  \n",
              "0   23 min  \n",
              "1   91 min  \n",
              "2   23 min  "
            ],
            "text/html": [
              "\n",
              "  <div id=\"df-40a30388-878c-492f-8219-6d497b247dd9\" class=\"colab-df-container\">\n",
              "    <div>\n",
              "<style scoped>\n",
              "    .dataframe tbody tr th:only-of-type {\n",
              "        vertical-align: middle;\n",
              "    }\n",
              "\n",
              "    .dataframe tbody tr th {\n",
              "        vertical-align: top;\n",
              "    }\n",
              "\n",
              "    .dataframe thead th {\n",
              "        text-align: right;\n",
              "    }\n",
              "</style>\n",
              "<table border=\"1\" class=\"dataframe\">\n",
              "  <thead>\n",
              "    <tr style=\"text-align: right;\">\n",
              "      <th></th>\n",
              "      <th>title</th>\n",
              "      <th>release_year</th>\n",
              "      <th>rating</th>\n",
              "      <th>duration</th>\n",
              "    </tr>\n",
              "  </thead>\n",
              "  <tbody>\n",
              "    <tr>\n",
              "      <th>0</th>\n",
              "      <td>Duck the Halls: A Mickey Mouse Christmas Special</td>\n",
              "      <td>2016</td>\n",
              "      <td>TV-G</td>\n",
              "      <td>23 min</td>\n",
              "    </tr>\n",
              "    <tr>\n",
              "      <th>1</th>\n",
              "      <td>Ernest Saves Christmas</td>\n",
              "      <td>1988</td>\n",
              "      <td>PG</td>\n",
              "      <td>91 min</td>\n",
              "    </tr>\n",
              "    <tr>\n",
              "      <th>2</th>\n",
              "      <td>Ice Age: A Mammoth Christmas</td>\n",
              "      <td>2011</td>\n",
              "      <td>TV-G</td>\n",
              "      <td>23 min</td>\n",
              "    </tr>\n",
              "  </tbody>\n",
              "</table>\n",
              "</div>\n",
              "    <div class=\"colab-df-buttons\">\n",
              "\n",
              "  <div class=\"colab-df-container\">\n",
              "    <button class=\"colab-df-convert\" onclick=\"convertToInteractive('df-40a30388-878c-492f-8219-6d497b247dd9')\"\n",
              "            title=\"Convert this dataframe to an interactive table.\"\n",
              "            style=\"display:none;\">\n",
              "\n",
              "  <svg xmlns=\"http://www.w3.org/2000/svg\" height=\"24px\" viewBox=\"0 -960 960 960\">\n",
              "    <path d=\"M120-120v-720h720v720H120Zm60-500h600v-160H180v160Zm220 220h160v-160H400v160Zm0 220h160v-160H400v160ZM180-400h160v-160H180v160Zm440 0h160v-160H620v160ZM180-180h160v-160H180v160Zm440 0h160v-160H620v160Z\"/>\n",
              "  </svg>\n",
              "    </button>\n",
              "\n",
              "  <style>\n",
              "    .colab-df-container {\n",
              "      display:flex;\n",
              "      gap: 12px;\n",
              "    }\n",
              "\n",
              "    .colab-df-convert {\n",
              "      background-color: #E8F0FE;\n",
              "      border: none;\n",
              "      border-radius: 50%;\n",
              "      cursor: pointer;\n",
              "      display: none;\n",
              "      fill: #1967D2;\n",
              "      height: 32px;\n",
              "      padding: 0 0 0 0;\n",
              "      width: 32px;\n",
              "    }\n",
              "\n",
              "    .colab-df-convert:hover {\n",
              "      background-color: #E2EBFA;\n",
              "      box-shadow: 0px 1px 2px rgba(60, 64, 67, 0.3), 0px 1px 3px 1px rgba(60, 64, 67, 0.15);\n",
              "      fill: #174EA6;\n",
              "    }\n",
              "\n",
              "    .colab-df-buttons div {\n",
              "      margin-bottom: 4px;\n",
              "    }\n",
              "\n",
              "    [theme=dark] .colab-df-convert {\n",
              "      background-color: #3B4455;\n",
              "      fill: #D2E3FC;\n",
              "    }\n",
              "\n",
              "    [theme=dark] .colab-df-convert:hover {\n",
              "      background-color: #434B5C;\n",
              "      box-shadow: 0px 1px 3px 1px rgba(0, 0, 0, 0.15);\n",
              "      filter: drop-shadow(0px 1px 2px rgba(0, 0, 0, 0.3));\n",
              "      fill: #FFFFFF;\n",
              "    }\n",
              "  </style>\n",
              "\n",
              "    <script>\n",
              "      const buttonEl =\n",
              "        document.querySelector('#df-40a30388-878c-492f-8219-6d497b247dd9 button.colab-df-convert');\n",
              "      buttonEl.style.display =\n",
              "        google.colab.kernel.accessAllowed ? 'block' : 'none';\n",
              "\n",
              "      async function convertToInteractive(key) {\n",
              "        const element = document.querySelector('#df-40a30388-878c-492f-8219-6d497b247dd9');\n",
              "        const dataTable =\n",
              "          await google.colab.kernel.invokeFunction('convertToInteractive',\n",
              "                                                    [key], {});\n",
              "        if (!dataTable) return;\n",
              "\n",
              "        const docLinkHtml = 'Like what you see? Visit the ' +\n",
              "          '<a target=\"_blank\" href=https://colab.research.google.com/notebooks/data_table.ipynb>data table notebook</a>'\n",
              "          + ' to learn more about interactive tables.';\n",
              "        element.innerHTML = '';\n",
              "        dataTable['output_type'] = 'display_data';\n",
              "        await google.colab.output.renderOutput(dataTable, element);\n",
              "        const docLink = document.createElement('div');\n",
              "        docLink.innerHTML = docLinkHtml;\n",
              "        element.appendChild(docLink);\n",
              "      }\n",
              "    </script>\n",
              "  </div>\n",
              "\n",
              "\n",
              "<div id=\"df-3921bfaf-8e47-4bdb-89d3-ad4c128536e9\">\n",
              "  <button class=\"colab-df-quickchart\" onclick=\"quickchart('df-3921bfaf-8e47-4bdb-89d3-ad4c128536e9')\"\n",
              "            title=\"Suggest charts.\"\n",
              "            style=\"display:none;\">\n",
              "\n",
              "<svg xmlns=\"http://www.w3.org/2000/svg\" height=\"24px\"viewBox=\"0 0 24 24\"\n",
              "     width=\"24px\">\n",
              "    <g>\n",
              "        <path d=\"M19 3H5c-1.1 0-2 .9-2 2v14c0 1.1.9 2 2 2h14c1.1 0 2-.9 2-2V5c0-1.1-.9-2-2-2zM9 17H7v-7h2v7zm4 0h-2V7h2v10zm4 0h-2v-4h2v4z\"/>\n",
              "    </g>\n",
              "</svg>\n",
              "  </button>\n",
              "\n",
              "<style>\n",
              "  .colab-df-quickchart {\n",
              "      --bg-color: #E8F0FE;\n",
              "      --fill-color: #1967D2;\n",
              "      --hover-bg-color: #E2EBFA;\n",
              "      --hover-fill-color: #174EA6;\n",
              "      --disabled-fill-color: #AAA;\n",
              "      --disabled-bg-color: #DDD;\n",
              "  }\n",
              "\n",
              "  [theme=dark] .colab-df-quickchart {\n",
              "      --bg-color: #3B4455;\n",
              "      --fill-color: #D2E3FC;\n",
              "      --hover-bg-color: #434B5C;\n",
              "      --hover-fill-color: #FFFFFF;\n",
              "      --disabled-bg-color: #3B4455;\n",
              "      --disabled-fill-color: #666;\n",
              "  }\n",
              "\n",
              "  .colab-df-quickchart {\n",
              "    background-color: var(--bg-color);\n",
              "    border: none;\n",
              "    border-radius: 50%;\n",
              "    cursor: pointer;\n",
              "    display: none;\n",
              "    fill: var(--fill-color);\n",
              "    height: 32px;\n",
              "    padding: 0;\n",
              "    width: 32px;\n",
              "  }\n",
              "\n",
              "  .colab-df-quickchart:hover {\n",
              "    background-color: var(--hover-bg-color);\n",
              "    box-shadow: 0 1px 2px rgba(60, 64, 67, 0.3), 0 1px 3px 1px rgba(60, 64, 67, 0.15);\n",
              "    fill: var(--button-hover-fill-color);\n",
              "  }\n",
              "\n",
              "  .colab-df-quickchart-complete:disabled,\n",
              "  .colab-df-quickchart-complete:disabled:hover {\n",
              "    background-color: var(--disabled-bg-color);\n",
              "    fill: var(--disabled-fill-color);\n",
              "    box-shadow: none;\n",
              "  }\n",
              "\n",
              "  .colab-df-spinner {\n",
              "    border: 2px solid var(--fill-color);\n",
              "    border-color: transparent;\n",
              "    border-bottom-color: var(--fill-color);\n",
              "    animation:\n",
              "      spin 1s steps(1) infinite;\n",
              "  }\n",
              "\n",
              "  @keyframes spin {\n",
              "    0% {\n",
              "      border-color: transparent;\n",
              "      border-bottom-color: var(--fill-color);\n",
              "      border-left-color: var(--fill-color);\n",
              "    }\n",
              "    20% {\n",
              "      border-color: transparent;\n",
              "      border-left-color: var(--fill-color);\n",
              "      border-top-color: var(--fill-color);\n",
              "    }\n",
              "    30% {\n",
              "      border-color: transparent;\n",
              "      border-left-color: var(--fill-color);\n",
              "      border-top-color: var(--fill-color);\n",
              "      border-right-color: var(--fill-color);\n",
              "    }\n",
              "    40% {\n",
              "      border-color: transparent;\n",
              "      border-right-color: var(--fill-color);\n",
              "      border-top-color: var(--fill-color);\n",
              "    }\n",
              "    60% {\n",
              "      border-color: transparent;\n",
              "      border-right-color: var(--fill-color);\n",
              "    }\n",
              "    80% {\n",
              "      border-color: transparent;\n",
              "      border-right-color: var(--fill-color);\n",
              "      border-bottom-color: var(--fill-color);\n",
              "    }\n",
              "    90% {\n",
              "      border-color: transparent;\n",
              "      border-bottom-color: var(--fill-color);\n",
              "    }\n",
              "  }\n",
              "</style>\n",
              "\n",
              "  <script>\n",
              "    async function quickchart(key) {\n",
              "      const quickchartButtonEl =\n",
              "        document.querySelector('#' + key + ' button');\n",
              "      quickchartButtonEl.disabled = true;  // To prevent multiple clicks.\n",
              "      quickchartButtonEl.classList.add('colab-df-spinner');\n",
              "      try {\n",
              "        const charts = await google.colab.kernel.invokeFunction(\n",
              "            'suggestCharts', [key], {});\n",
              "      } catch (error) {\n",
              "        console.error('Error during call to suggestCharts:', error);\n",
              "      }\n",
              "      quickchartButtonEl.classList.remove('colab-df-spinner');\n",
              "      quickchartButtonEl.classList.add('colab-df-quickchart-complete');\n",
              "    }\n",
              "    (() => {\n",
              "      let quickchartButtonEl =\n",
              "        document.querySelector('#df-3921bfaf-8e47-4bdb-89d3-ad4c128536e9 button');\n",
              "      quickchartButtonEl.style.display =\n",
              "        google.colab.kernel.accessAllowed ? 'block' : 'none';\n",
              "    })();\n",
              "  </script>\n",
              "</div>\n",
              "    </div>\n",
              "  </div>\n"
            ]
          },
          "metadata": {},
          "execution_count": 33
        }
      ],
      "source": [
        "# Jawab nomor 3\n",
        "thirty = df_local.loc[:,[\"title\",\"release_year\",\"rating\",\"duration\"]].head(30).copy()\n",
        "\n",
        "thirty.head(3)\n"
      ]
    },
    {
      "cell_type": "markdown",
      "metadata": {
        "id": "1T5Dylqn6IOe"
      },
      "source": [
        "### Nomor 4\n",
        "Tampilkan 5 movie dari **dataframe nomor 3** yang memiliki tahun rilis (release_year) paling awal (contoh 1990 lebih awal dibandingkan dengan 2000). *Hint: Silahkan eksplorasi terkait cara mengurutkan dataframe*"
      ]
    },
    {
      "cell_type": "code",
      "execution_count": null,
      "metadata": {
        "id": "SmL0H4rT6IOe",
        "colab": {
          "base_uri": "https://localhost:8080/",
          "height": 206
        },
        "outputId": "04d23695-23ec-4eb9-ce91-6ec0b6e2adcb"
      },
      "outputs": [
        {
          "output_type": "execute_result",
          "data": {
            "text/plain": [
              "                                    title  release_year rating duration\n",
              "1                  Ernest Saves Christmas          1988     PG   91 min\n",
              "19                              Enchanted          2007     PG  110 min\n",
              "12                        The Pixar Story          2007      G   91 min\n",
              "9   A Muppets Christmas: Letters To Santa          2008      G   45 min\n",
              "2            Ice Age: A Mammoth Christmas          2011   TV-G   23 min"
            ],
            "text/html": [
              "\n",
              "  <div id=\"df-7adf8c4d-20f2-4cb7-bf77-d6ff0afe6b67\" class=\"colab-df-container\">\n",
              "    <div>\n",
              "<style scoped>\n",
              "    .dataframe tbody tr th:only-of-type {\n",
              "        vertical-align: middle;\n",
              "    }\n",
              "\n",
              "    .dataframe tbody tr th {\n",
              "        vertical-align: top;\n",
              "    }\n",
              "\n",
              "    .dataframe thead th {\n",
              "        text-align: right;\n",
              "    }\n",
              "</style>\n",
              "<table border=\"1\" class=\"dataframe\">\n",
              "  <thead>\n",
              "    <tr style=\"text-align: right;\">\n",
              "      <th></th>\n",
              "      <th>title</th>\n",
              "      <th>release_year</th>\n",
              "      <th>rating</th>\n",
              "      <th>duration</th>\n",
              "    </tr>\n",
              "  </thead>\n",
              "  <tbody>\n",
              "    <tr>\n",
              "      <th>1</th>\n",
              "      <td>Ernest Saves Christmas</td>\n",
              "      <td>1988</td>\n",
              "      <td>PG</td>\n",
              "      <td>91 min</td>\n",
              "    </tr>\n",
              "    <tr>\n",
              "      <th>19</th>\n",
              "      <td>Enchanted</td>\n",
              "      <td>2007</td>\n",
              "      <td>PG</td>\n",
              "      <td>110 min</td>\n",
              "    </tr>\n",
              "    <tr>\n",
              "      <th>12</th>\n",
              "      <td>The Pixar Story</td>\n",
              "      <td>2007</td>\n",
              "      <td>G</td>\n",
              "      <td>91 min</td>\n",
              "    </tr>\n",
              "    <tr>\n",
              "      <th>9</th>\n",
              "      <td>A Muppets Christmas: Letters To Santa</td>\n",
              "      <td>2008</td>\n",
              "      <td>G</td>\n",
              "      <td>45 min</td>\n",
              "    </tr>\n",
              "    <tr>\n",
              "      <th>2</th>\n",
              "      <td>Ice Age: A Mammoth Christmas</td>\n",
              "      <td>2011</td>\n",
              "      <td>TV-G</td>\n",
              "      <td>23 min</td>\n",
              "    </tr>\n",
              "  </tbody>\n",
              "</table>\n",
              "</div>\n",
              "    <div class=\"colab-df-buttons\">\n",
              "\n",
              "  <div class=\"colab-df-container\">\n",
              "    <button class=\"colab-df-convert\" onclick=\"convertToInteractive('df-7adf8c4d-20f2-4cb7-bf77-d6ff0afe6b67')\"\n",
              "            title=\"Convert this dataframe to an interactive table.\"\n",
              "            style=\"display:none;\">\n",
              "\n",
              "  <svg xmlns=\"http://www.w3.org/2000/svg\" height=\"24px\" viewBox=\"0 -960 960 960\">\n",
              "    <path d=\"M120-120v-720h720v720H120Zm60-500h600v-160H180v160Zm220 220h160v-160H400v160Zm0 220h160v-160H400v160ZM180-400h160v-160H180v160Zm440 0h160v-160H620v160ZM180-180h160v-160H180v160Zm440 0h160v-160H620v160Z\"/>\n",
              "  </svg>\n",
              "    </button>\n",
              "\n",
              "  <style>\n",
              "    .colab-df-container {\n",
              "      display:flex;\n",
              "      gap: 12px;\n",
              "    }\n",
              "\n",
              "    .colab-df-convert {\n",
              "      background-color: #E8F0FE;\n",
              "      border: none;\n",
              "      border-radius: 50%;\n",
              "      cursor: pointer;\n",
              "      display: none;\n",
              "      fill: #1967D2;\n",
              "      height: 32px;\n",
              "      padding: 0 0 0 0;\n",
              "      width: 32px;\n",
              "    }\n",
              "\n",
              "    .colab-df-convert:hover {\n",
              "      background-color: #E2EBFA;\n",
              "      box-shadow: 0px 1px 2px rgba(60, 64, 67, 0.3), 0px 1px 3px 1px rgba(60, 64, 67, 0.15);\n",
              "      fill: #174EA6;\n",
              "    }\n",
              "\n",
              "    .colab-df-buttons div {\n",
              "      margin-bottom: 4px;\n",
              "    }\n",
              "\n",
              "    [theme=dark] .colab-df-convert {\n",
              "      background-color: #3B4455;\n",
              "      fill: #D2E3FC;\n",
              "    }\n",
              "\n",
              "    [theme=dark] .colab-df-convert:hover {\n",
              "      background-color: #434B5C;\n",
              "      box-shadow: 0px 1px 3px 1px rgba(0, 0, 0, 0.15);\n",
              "      filter: drop-shadow(0px 1px 2px rgba(0, 0, 0, 0.3));\n",
              "      fill: #FFFFFF;\n",
              "    }\n",
              "  </style>\n",
              "\n",
              "    <script>\n",
              "      const buttonEl =\n",
              "        document.querySelector('#df-7adf8c4d-20f2-4cb7-bf77-d6ff0afe6b67 button.colab-df-convert');\n",
              "      buttonEl.style.display =\n",
              "        google.colab.kernel.accessAllowed ? 'block' : 'none';\n",
              "\n",
              "      async function convertToInteractive(key) {\n",
              "        const element = document.querySelector('#df-7adf8c4d-20f2-4cb7-bf77-d6ff0afe6b67');\n",
              "        const dataTable =\n",
              "          await google.colab.kernel.invokeFunction('convertToInteractive',\n",
              "                                                    [key], {});\n",
              "        if (!dataTable) return;\n",
              "\n",
              "        const docLinkHtml = 'Like what you see? Visit the ' +\n",
              "          '<a target=\"_blank\" href=https://colab.research.google.com/notebooks/data_table.ipynb>data table notebook</a>'\n",
              "          + ' to learn more about interactive tables.';\n",
              "        element.innerHTML = '';\n",
              "        dataTable['output_type'] = 'display_data';\n",
              "        await google.colab.output.renderOutput(dataTable, element);\n",
              "        const docLink = document.createElement('div');\n",
              "        docLink.innerHTML = docLinkHtml;\n",
              "        element.appendChild(docLink);\n",
              "      }\n",
              "    </script>\n",
              "  </div>\n",
              "\n",
              "\n",
              "<div id=\"df-dcea4cd1-282c-45ac-b08a-99c7049e63bb\">\n",
              "  <button class=\"colab-df-quickchart\" onclick=\"quickchart('df-dcea4cd1-282c-45ac-b08a-99c7049e63bb')\"\n",
              "            title=\"Suggest charts.\"\n",
              "            style=\"display:none;\">\n",
              "\n",
              "<svg xmlns=\"http://www.w3.org/2000/svg\" height=\"24px\"viewBox=\"0 0 24 24\"\n",
              "     width=\"24px\">\n",
              "    <g>\n",
              "        <path d=\"M19 3H5c-1.1 0-2 .9-2 2v14c0 1.1.9 2 2 2h14c1.1 0 2-.9 2-2V5c0-1.1-.9-2-2-2zM9 17H7v-7h2v7zm4 0h-2V7h2v10zm4 0h-2v-4h2v4z\"/>\n",
              "    </g>\n",
              "</svg>\n",
              "  </button>\n",
              "\n",
              "<style>\n",
              "  .colab-df-quickchart {\n",
              "      --bg-color: #E8F0FE;\n",
              "      --fill-color: #1967D2;\n",
              "      --hover-bg-color: #E2EBFA;\n",
              "      --hover-fill-color: #174EA6;\n",
              "      --disabled-fill-color: #AAA;\n",
              "      --disabled-bg-color: #DDD;\n",
              "  }\n",
              "\n",
              "  [theme=dark] .colab-df-quickchart {\n",
              "      --bg-color: #3B4455;\n",
              "      --fill-color: #D2E3FC;\n",
              "      --hover-bg-color: #434B5C;\n",
              "      --hover-fill-color: #FFFFFF;\n",
              "      --disabled-bg-color: #3B4455;\n",
              "      --disabled-fill-color: #666;\n",
              "  }\n",
              "\n",
              "  .colab-df-quickchart {\n",
              "    background-color: var(--bg-color);\n",
              "    border: none;\n",
              "    border-radius: 50%;\n",
              "    cursor: pointer;\n",
              "    display: none;\n",
              "    fill: var(--fill-color);\n",
              "    height: 32px;\n",
              "    padding: 0;\n",
              "    width: 32px;\n",
              "  }\n",
              "\n",
              "  .colab-df-quickchart:hover {\n",
              "    background-color: var(--hover-bg-color);\n",
              "    box-shadow: 0 1px 2px rgba(60, 64, 67, 0.3), 0 1px 3px 1px rgba(60, 64, 67, 0.15);\n",
              "    fill: var(--button-hover-fill-color);\n",
              "  }\n",
              "\n",
              "  .colab-df-quickchart-complete:disabled,\n",
              "  .colab-df-quickchart-complete:disabled:hover {\n",
              "    background-color: var(--disabled-bg-color);\n",
              "    fill: var(--disabled-fill-color);\n",
              "    box-shadow: none;\n",
              "  }\n",
              "\n",
              "  .colab-df-spinner {\n",
              "    border: 2px solid var(--fill-color);\n",
              "    border-color: transparent;\n",
              "    border-bottom-color: var(--fill-color);\n",
              "    animation:\n",
              "      spin 1s steps(1) infinite;\n",
              "  }\n",
              "\n",
              "  @keyframes spin {\n",
              "    0% {\n",
              "      border-color: transparent;\n",
              "      border-bottom-color: var(--fill-color);\n",
              "      border-left-color: var(--fill-color);\n",
              "    }\n",
              "    20% {\n",
              "      border-color: transparent;\n",
              "      border-left-color: var(--fill-color);\n",
              "      border-top-color: var(--fill-color);\n",
              "    }\n",
              "    30% {\n",
              "      border-color: transparent;\n",
              "      border-left-color: var(--fill-color);\n",
              "      border-top-color: var(--fill-color);\n",
              "      border-right-color: var(--fill-color);\n",
              "    }\n",
              "    40% {\n",
              "      border-color: transparent;\n",
              "      border-right-color: var(--fill-color);\n",
              "      border-top-color: var(--fill-color);\n",
              "    }\n",
              "    60% {\n",
              "      border-color: transparent;\n",
              "      border-right-color: var(--fill-color);\n",
              "    }\n",
              "    80% {\n",
              "      border-color: transparent;\n",
              "      border-right-color: var(--fill-color);\n",
              "      border-bottom-color: var(--fill-color);\n",
              "    }\n",
              "    90% {\n",
              "      border-color: transparent;\n",
              "      border-bottom-color: var(--fill-color);\n",
              "    }\n",
              "  }\n",
              "</style>\n",
              "\n",
              "  <script>\n",
              "    async function quickchart(key) {\n",
              "      const quickchartButtonEl =\n",
              "        document.querySelector('#' + key + ' button');\n",
              "      quickchartButtonEl.disabled = true;  // To prevent multiple clicks.\n",
              "      quickchartButtonEl.classList.add('colab-df-spinner');\n",
              "      try {\n",
              "        const charts = await google.colab.kernel.invokeFunction(\n",
              "            'suggestCharts', [key], {});\n",
              "      } catch (error) {\n",
              "        console.error('Error during call to suggestCharts:', error);\n",
              "      }\n",
              "      quickchartButtonEl.classList.remove('colab-df-spinner');\n",
              "      quickchartButtonEl.classList.add('colab-df-quickchart-complete');\n",
              "    }\n",
              "    (() => {\n",
              "      let quickchartButtonEl =\n",
              "        document.querySelector('#df-dcea4cd1-282c-45ac-b08a-99c7049e63bb button');\n",
              "      quickchartButtonEl.style.display =\n",
              "        google.colab.kernel.accessAllowed ? 'block' : 'none';\n",
              "    })();\n",
              "  </script>\n",
              "</div>\n",
              "    </div>\n",
              "  </div>\n"
            ]
          },
          "metadata": {},
          "execution_count": 37
        }
      ],
      "source": [
        "# Jawab nomor 4\n",
        "thirty.sort_values(by=['release_year']).head(5)"
      ]
    },
    {
      "cell_type": "markdown",
      "metadata": {
        "id": "yOqAkd7w6IOf"
      },
      "source": [
        "### Nomor 5\n",
        "Tampilkan 1 movie dari **dataframe nomor 1** yang memiliki rating `PG` dan tahun rilis (release_year) paling awal."
      ]
    },
    {
      "cell_type": "code",
      "execution_count": null,
      "metadata": {
        "id": "jGzRNt7y6IOf",
        "colab": {
          "base_uri": "https://localhost:8080/",
          "height": 170
        },
        "outputId": "2ac5f434-471f-46bd-9f95-519c15be6260"
      },
      "outputs": [
        {
          "output_type": "execute_result",
          "data": {
            "text/plain": [
              "     show_id   type                  title       director  \\\n",
              "1227   s1228  Movie  Swiss Family Robinson  Edward Ludwig   \n",
              "\n",
              "                                                   cast        country  \\\n",
              "1227  Thomas Mitchell, Edna Best, Freddie Bartholome...  United States   \n",
              "\n",
              "             date_added  release_year rating duration  \\\n",
              "1227  November 12, 2019          1940     PG   94 min   \n",
              "\n",
              "                               listed_in  \\\n",
              "1227  Action-Adventure, Family, Survival   \n",
              "\n",
              "                                            description  \n",
              "1227  A violent storm shipwrecks the Robinson family...  "
            ],
            "text/html": [
              "\n",
              "  <div id=\"df-75465db2-0432-497d-9234-71699397c56b\" class=\"colab-df-container\">\n",
              "    <div>\n",
              "<style scoped>\n",
              "    .dataframe tbody tr th:only-of-type {\n",
              "        vertical-align: middle;\n",
              "    }\n",
              "\n",
              "    .dataframe tbody tr th {\n",
              "        vertical-align: top;\n",
              "    }\n",
              "\n",
              "    .dataframe thead th {\n",
              "        text-align: right;\n",
              "    }\n",
              "</style>\n",
              "<table border=\"1\" class=\"dataframe\">\n",
              "  <thead>\n",
              "    <tr style=\"text-align: right;\">\n",
              "      <th></th>\n",
              "      <th>show_id</th>\n",
              "      <th>type</th>\n",
              "      <th>title</th>\n",
              "      <th>director</th>\n",
              "      <th>cast</th>\n",
              "      <th>country</th>\n",
              "      <th>date_added</th>\n",
              "      <th>release_year</th>\n",
              "      <th>rating</th>\n",
              "      <th>duration</th>\n",
              "      <th>listed_in</th>\n",
              "      <th>description</th>\n",
              "    </tr>\n",
              "  </thead>\n",
              "  <tbody>\n",
              "    <tr>\n",
              "      <th>1227</th>\n",
              "      <td>s1228</td>\n",
              "      <td>Movie</td>\n",
              "      <td>Swiss Family Robinson</td>\n",
              "      <td>Edward Ludwig</td>\n",
              "      <td>Thomas Mitchell, Edna Best, Freddie Bartholome...</td>\n",
              "      <td>United States</td>\n",
              "      <td>November 12, 2019</td>\n",
              "      <td>1940</td>\n",
              "      <td>PG</td>\n",
              "      <td>94 min</td>\n",
              "      <td>Action-Adventure, Family, Survival</td>\n",
              "      <td>A violent storm shipwrecks the Robinson family...</td>\n",
              "    </tr>\n",
              "  </tbody>\n",
              "</table>\n",
              "</div>\n",
              "    <div class=\"colab-df-buttons\">\n",
              "\n",
              "  <div class=\"colab-df-container\">\n",
              "    <button class=\"colab-df-convert\" onclick=\"convertToInteractive('df-75465db2-0432-497d-9234-71699397c56b')\"\n",
              "            title=\"Convert this dataframe to an interactive table.\"\n",
              "            style=\"display:none;\">\n",
              "\n",
              "  <svg xmlns=\"http://www.w3.org/2000/svg\" height=\"24px\" viewBox=\"0 -960 960 960\">\n",
              "    <path d=\"M120-120v-720h720v720H120Zm60-500h600v-160H180v160Zm220 220h160v-160H400v160Zm0 220h160v-160H400v160ZM180-400h160v-160H180v160Zm440 0h160v-160H620v160ZM180-180h160v-160H180v160Zm440 0h160v-160H620v160Z\"/>\n",
              "  </svg>\n",
              "    </button>\n",
              "\n",
              "  <style>\n",
              "    .colab-df-container {\n",
              "      display:flex;\n",
              "      gap: 12px;\n",
              "    }\n",
              "\n",
              "    .colab-df-convert {\n",
              "      background-color: #E8F0FE;\n",
              "      border: none;\n",
              "      border-radius: 50%;\n",
              "      cursor: pointer;\n",
              "      display: none;\n",
              "      fill: #1967D2;\n",
              "      height: 32px;\n",
              "      padding: 0 0 0 0;\n",
              "      width: 32px;\n",
              "    }\n",
              "\n",
              "    .colab-df-convert:hover {\n",
              "      background-color: #E2EBFA;\n",
              "      box-shadow: 0px 1px 2px rgba(60, 64, 67, 0.3), 0px 1px 3px 1px rgba(60, 64, 67, 0.15);\n",
              "      fill: #174EA6;\n",
              "    }\n",
              "\n",
              "    .colab-df-buttons div {\n",
              "      margin-bottom: 4px;\n",
              "    }\n",
              "\n",
              "    [theme=dark] .colab-df-convert {\n",
              "      background-color: #3B4455;\n",
              "      fill: #D2E3FC;\n",
              "    }\n",
              "\n",
              "    [theme=dark] .colab-df-convert:hover {\n",
              "      background-color: #434B5C;\n",
              "      box-shadow: 0px 1px 3px 1px rgba(0, 0, 0, 0.15);\n",
              "      filter: drop-shadow(0px 1px 2px rgba(0, 0, 0, 0.3));\n",
              "      fill: #FFFFFF;\n",
              "    }\n",
              "  </style>\n",
              "\n",
              "    <script>\n",
              "      const buttonEl =\n",
              "        document.querySelector('#df-75465db2-0432-497d-9234-71699397c56b button.colab-df-convert');\n",
              "      buttonEl.style.display =\n",
              "        google.colab.kernel.accessAllowed ? 'block' : 'none';\n",
              "\n",
              "      async function convertToInteractive(key) {\n",
              "        const element = document.querySelector('#df-75465db2-0432-497d-9234-71699397c56b');\n",
              "        const dataTable =\n",
              "          await google.colab.kernel.invokeFunction('convertToInteractive',\n",
              "                                                    [key], {});\n",
              "        if (!dataTable) return;\n",
              "\n",
              "        const docLinkHtml = 'Like what you see? Visit the ' +\n",
              "          '<a target=\"_blank\" href=https://colab.research.google.com/notebooks/data_table.ipynb>data table notebook</a>'\n",
              "          + ' to learn more about interactive tables.';\n",
              "        element.innerHTML = '';\n",
              "        dataTable['output_type'] = 'display_data';\n",
              "        await google.colab.output.renderOutput(dataTable, element);\n",
              "        const docLink = document.createElement('div');\n",
              "        docLink.innerHTML = docLinkHtml;\n",
              "        element.appendChild(docLink);\n",
              "      }\n",
              "    </script>\n",
              "  </div>\n",
              "\n",
              "    </div>\n",
              "  </div>\n"
            ]
          },
          "metadata": {},
          "execution_count": 40
        }
      ],
      "source": [
        "# Jawab nomor 5\n",
        "df.sort_values(by=['release_year']).query(\"rating == 'PG'\").head(1)\n"
      ]
    },
    {
      "cell_type": "markdown",
      "metadata": {
        "id": "izoukVew6IOf"
      },
      "source": [
        "### Nomor 6\n",
        "Tampilkan 5 movie pertama dari **dataframe nomor 1** yang tahun rilisnya (release_year) lebih dari rata-rata tahun rilis dari semua movie pada dataframe tersebut."
      ]
    },
    {
      "cell_type": "code",
      "execution_count": null,
      "metadata": {
        "id": "VTsTnwfJ6IOf",
        "colab": {
          "base_uri": "https://localhost:8080/",
          "height": 539
        },
        "outputId": "dac625b7-920d-4c6d-d719-2c2e68828156"
      },
      "outputs": [
        {
          "output_type": "stream",
          "name": "stdout",
          "text": [
            "2003.0917241379311\n"
          ]
        },
        {
          "output_type": "execute_result",
          "data": {
            "text/plain": [
              "  show_id     type                                             title  \\\n",
              "0      s1    Movie  Duck the Halls: A Mickey Mouse Christmas Special   \n",
              "2      s3    Movie                      Ice Age: A Mammoth Christmas   \n",
              "3      s4    Movie                        The Queen Family Singalong   \n",
              "4      s5  TV Show                             The Beatles: Get Back   \n",
              "5      s6    Movie                                 Becoming Cousteau   \n",
              "\n",
              "                            director  \\\n",
              "0  Alonso Ramirez Ramos, Dave Wasson   \n",
              "2                       Karen Disher   \n",
              "3                    Hamish Hamilton   \n",
              "4                                NaN   \n",
              "5                         Liz Garbus   \n",
              "\n",
              "                                                cast        country  \\\n",
              "0  Chris Diamantopoulos, Tony Anselmo, Tress MacN...            NaN   \n",
              "2  Raymond Albert Romano, John Leguizamo, Denis L...  United States   \n",
              "3  Darren Criss, Adam Lambert, Derek Hough, Alexa...            NaN   \n",
              "4  John Lennon, Paul McCartney, George Harrison, ...            NaN   \n",
              "5              Jacques Yves Cousteau, Vincent Cassel  United States   \n",
              "\n",
              "          date_added  release_year rating  duration  \\\n",
              "0  November 26, 2021          2016   TV-G    23 min   \n",
              "2  November 26, 2021          2011   TV-G    23 min   \n",
              "3  November 26, 2021          2021  TV-PG    41 min   \n",
              "4  November 25, 2021          2021    NaN  1 Season   \n",
              "5  November 24, 2021          2021  PG-13    94 min   \n",
              "\n",
              "                       listed_in  \\\n",
              "0              Animation, Family   \n",
              "2      Animation, Comedy, Family   \n",
              "3                        Musical   \n",
              "4  Docuseries, Historical, Music   \n",
              "5      Biographical, Documentary   \n",
              "\n",
              "                                         description  \n",
              "0   Join Mickey and the gang as they duck the halls!  \n",
              "2          Sid the Sloth is on Santa's naughty list.  \n",
              "3               This is real life, not just fantasy!  \n",
              "4  A three-part documentary from Peter Jackson ca...  \n",
              "5  An inside look at the legendary life of advent...  "
            ],
            "text/html": [
              "\n",
              "  <div id=\"df-86e3c10e-6684-46df-8e8a-a150f4b15795\" class=\"colab-df-container\">\n",
              "    <div>\n",
              "<style scoped>\n",
              "    .dataframe tbody tr th:only-of-type {\n",
              "        vertical-align: middle;\n",
              "    }\n",
              "\n",
              "    .dataframe tbody tr th {\n",
              "        vertical-align: top;\n",
              "    }\n",
              "\n",
              "    .dataframe thead th {\n",
              "        text-align: right;\n",
              "    }\n",
              "</style>\n",
              "<table border=\"1\" class=\"dataframe\">\n",
              "  <thead>\n",
              "    <tr style=\"text-align: right;\">\n",
              "      <th></th>\n",
              "      <th>show_id</th>\n",
              "      <th>type</th>\n",
              "      <th>title</th>\n",
              "      <th>director</th>\n",
              "      <th>cast</th>\n",
              "      <th>country</th>\n",
              "      <th>date_added</th>\n",
              "      <th>release_year</th>\n",
              "      <th>rating</th>\n",
              "      <th>duration</th>\n",
              "      <th>listed_in</th>\n",
              "      <th>description</th>\n",
              "    </tr>\n",
              "  </thead>\n",
              "  <tbody>\n",
              "    <tr>\n",
              "      <th>0</th>\n",
              "      <td>s1</td>\n",
              "      <td>Movie</td>\n",
              "      <td>Duck the Halls: A Mickey Mouse Christmas Special</td>\n",
              "      <td>Alonso Ramirez Ramos, Dave Wasson</td>\n",
              "      <td>Chris Diamantopoulos, Tony Anselmo, Tress MacN...</td>\n",
              "      <td>NaN</td>\n",
              "      <td>November 26, 2021</td>\n",
              "      <td>2016</td>\n",
              "      <td>TV-G</td>\n",
              "      <td>23 min</td>\n",
              "      <td>Animation, Family</td>\n",
              "      <td>Join Mickey and the gang as they duck the halls!</td>\n",
              "    </tr>\n",
              "    <tr>\n",
              "      <th>2</th>\n",
              "      <td>s3</td>\n",
              "      <td>Movie</td>\n",
              "      <td>Ice Age: A Mammoth Christmas</td>\n",
              "      <td>Karen Disher</td>\n",
              "      <td>Raymond Albert Romano, John Leguizamo, Denis L...</td>\n",
              "      <td>United States</td>\n",
              "      <td>November 26, 2021</td>\n",
              "      <td>2011</td>\n",
              "      <td>TV-G</td>\n",
              "      <td>23 min</td>\n",
              "      <td>Animation, Comedy, Family</td>\n",
              "      <td>Sid the Sloth is on Santa's naughty list.</td>\n",
              "    </tr>\n",
              "    <tr>\n",
              "      <th>3</th>\n",
              "      <td>s4</td>\n",
              "      <td>Movie</td>\n",
              "      <td>The Queen Family Singalong</td>\n",
              "      <td>Hamish Hamilton</td>\n",
              "      <td>Darren Criss, Adam Lambert, Derek Hough, Alexa...</td>\n",
              "      <td>NaN</td>\n",
              "      <td>November 26, 2021</td>\n",
              "      <td>2021</td>\n",
              "      <td>TV-PG</td>\n",
              "      <td>41 min</td>\n",
              "      <td>Musical</td>\n",
              "      <td>This is real life, not just fantasy!</td>\n",
              "    </tr>\n",
              "    <tr>\n",
              "      <th>4</th>\n",
              "      <td>s5</td>\n",
              "      <td>TV Show</td>\n",
              "      <td>The Beatles: Get Back</td>\n",
              "      <td>NaN</td>\n",
              "      <td>John Lennon, Paul McCartney, George Harrison, ...</td>\n",
              "      <td>NaN</td>\n",
              "      <td>November 25, 2021</td>\n",
              "      <td>2021</td>\n",
              "      <td>NaN</td>\n",
              "      <td>1 Season</td>\n",
              "      <td>Docuseries, Historical, Music</td>\n",
              "      <td>A three-part documentary from Peter Jackson ca...</td>\n",
              "    </tr>\n",
              "    <tr>\n",
              "      <th>5</th>\n",
              "      <td>s6</td>\n",
              "      <td>Movie</td>\n",
              "      <td>Becoming Cousteau</td>\n",
              "      <td>Liz Garbus</td>\n",
              "      <td>Jacques Yves Cousteau, Vincent Cassel</td>\n",
              "      <td>United States</td>\n",
              "      <td>November 24, 2021</td>\n",
              "      <td>2021</td>\n",
              "      <td>PG-13</td>\n",
              "      <td>94 min</td>\n",
              "      <td>Biographical, Documentary</td>\n",
              "      <td>An inside look at the legendary life of advent...</td>\n",
              "    </tr>\n",
              "  </tbody>\n",
              "</table>\n",
              "</div>\n",
              "    <div class=\"colab-df-buttons\">\n",
              "\n",
              "  <div class=\"colab-df-container\">\n",
              "    <button class=\"colab-df-convert\" onclick=\"convertToInteractive('df-86e3c10e-6684-46df-8e8a-a150f4b15795')\"\n",
              "            title=\"Convert this dataframe to an interactive table.\"\n",
              "            style=\"display:none;\">\n",
              "\n",
              "  <svg xmlns=\"http://www.w3.org/2000/svg\" height=\"24px\" viewBox=\"0 -960 960 960\">\n",
              "    <path d=\"M120-120v-720h720v720H120Zm60-500h600v-160H180v160Zm220 220h160v-160H400v160Zm0 220h160v-160H400v160ZM180-400h160v-160H180v160Zm440 0h160v-160H620v160ZM180-180h160v-160H180v160Zm440 0h160v-160H620v160Z\"/>\n",
              "  </svg>\n",
              "    </button>\n",
              "\n",
              "  <style>\n",
              "    .colab-df-container {\n",
              "      display:flex;\n",
              "      gap: 12px;\n",
              "    }\n",
              "\n",
              "    .colab-df-convert {\n",
              "      background-color: #E8F0FE;\n",
              "      border: none;\n",
              "      border-radius: 50%;\n",
              "      cursor: pointer;\n",
              "      display: none;\n",
              "      fill: #1967D2;\n",
              "      height: 32px;\n",
              "      padding: 0 0 0 0;\n",
              "      width: 32px;\n",
              "    }\n",
              "\n",
              "    .colab-df-convert:hover {\n",
              "      background-color: #E2EBFA;\n",
              "      box-shadow: 0px 1px 2px rgba(60, 64, 67, 0.3), 0px 1px 3px 1px rgba(60, 64, 67, 0.15);\n",
              "      fill: #174EA6;\n",
              "    }\n",
              "\n",
              "    .colab-df-buttons div {\n",
              "      margin-bottom: 4px;\n",
              "    }\n",
              "\n",
              "    [theme=dark] .colab-df-convert {\n",
              "      background-color: #3B4455;\n",
              "      fill: #D2E3FC;\n",
              "    }\n",
              "\n",
              "    [theme=dark] .colab-df-convert:hover {\n",
              "      background-color: #434B5C;\n",
              "      box-shadow: 0px 1px 3px 1px rgba(0, 0, 0, 0.15);\n",
              "      filter: drop-shadow(0px 1px 2px rgba(0, 0, 0, 0.3));\n",
              "      fill: #FFFFFF;\n",
              "    }\n",
              "  </style>\n",
              "\n",
              "    <script>\n",
              "      const buttonEl =\n",
              "        document.querySelector('#df-86e3c10e-6684-46df-8e8a-a150f4b15795 button.colab-df-convert');\n",
              "      buttonEl.style.display =\n",
              "        google.colab.kernel.accessAllowed ? 'block' : 'none';\n",
              "\n",
              "      async function convertToInteractive(key) {\n",
              "        const element = document.querySelector('#df-86e3c10e-6684-46df-8e8a-a150f4b15795');\n",
              "        const dataTable =\n",
              "          await google.colab.kernel.invokeFunction('convertToInteractive',\n",
              "                                                    [key], {});\n",
              "        if (!dataTable) return;\n",
              "\n",
              "        const docLinkHtml = 'Like what you see? Visit the ' +\n",
              "          '<a target=\"_blank\" href=https://colab.research.google.com/notebooks/data_table.ipynb>data table notebook</a>'\n",
              "          + ' to learn more about interactive tables.';\n",
              "        element.innerHTML = '';\n",
              "        dataTable['output_type'] = 'display_data';\n",
              "        await google.colab.output.renderOutput(dataTable, element);\n",
              "        const docLink = document.createElement('div');\n",
              "        docLink.innerHTML = docLinkHtml;\n",
              "        element.appendChild(docLink);\n",
              "      }\n",
              "    </script>\n",
              "  </div>\n",
              "\n",
              "\n",
              "<div id=\"df-4cde69a9-b51f-4e91-b246-2487849b2017\">\n",
              "  <button class=\"colab-df-quickchart\" onclick=\"quickchart('df-4cde69a9-b51f-4e91-b246-2487849b2017')\"\n",
              "            title=\"Suggest charts.\"\n",
              "            style=\"display:none;\">\n",
              "\n",
              "<svg xmlns=\"http://www.w3.org/2000/svg\" height=\"24px\"viewBox=\"0 0 24 24\"\n",
              "     width=\"24px\">\n",
              "    <g>\n",
              "        <path d=\"M19 3H5c-1.1 0-2 .9-2 2v14c0 1.1.9 2 2 2h14c1.1 0 2-.9 2-2V5c0-1.1-.9-2-2-2zM9 17H7v-7h2v7zm4 0h-2V7h2v10zm4 0h-2v-4h2v4z\"/>\n",
              "    </g>\n",
              "</svg>\n",
              "  </button>\n",
              "\n",
              "<style>\n",
              "  .colab-df-quickchart {\n",
              "      --bg-color: #E8F0FE;\n",
              "      --fill-color: #1967D2;\n",
              "      --hover-bg-color: #E2EBFA;\n",
              "      --hover-fill-color: #174EA6;\n",
              "      --disabled-fill-color: #AAA;\n",
              "      --disabled-bg-color: #DDD;\n",
              "  }\n",
              "\n",
              "  [theme=dark] .colab-df-quickchart {\n",
              "      --bg-color: #3B4455;\n",
              "      --fill-color: #D2E3FC;\n",
              "      --hover-bg-color: #434B5C;\n",
              "      --hover-fill-color: #FFFFFF;\n",
              "      --disabled-bg-color: #3B4455;\n",
              "      --disabled-fill-color: #666;\n",
              "  }\n",
              "\n",
              "  .colab-df-quickchart {\n",
              "    background-color: var(--bg-color);\n",
              "    border: none;\n",
              "    border-radius: 50%;\n",
              "    cursor: pointer;\n",
              "    display: none;\n",
              "    fill: var(--fill-color);\n",
              "    height: 32px;\n",
              "    padding: 0;\n",
              "    width: 32px;\n",
              "  }\n",
              "\n",
              "  .colab-df-quickchart:hover {\n",
              "    background-color: var(--hover-bg-color);\n",
              "    box-shadow: 0 1px 2px rgba(60, 64, 67, 0.3), 0 1px 3px 1px rgba(60, 64, 67, 0.15);\n",
              "    fill: var(--button-hover-fill-color);\n",
              "  }\n",
              "\n",
              "  .colab-df-quickchart-complete:disabled,\n",
              "  .colab-df-quickchart-complete:disabled:hover {\n",
              "    background-color: var(--disabled-bg-color);\n",
              "    fill: var(--disabled-fill-color);\n",
              "    box-shadow: none;\n",
              "  }\n",
              "\n",
              "  .colab-df-spinner {\n",
              "    border: 2px solid var(--fill-color);\n",
              "    border-color: transparent;\n",
              "    border-bottom-color: var(--fill-color);\n",
              "    animation:\n",
              "      spin 1s steps(1) infinite;\n",
              "  }\n",
              "\n",
              "  @keyframes spin {\n",
              "    0% {\n",
              "      border-color: transparent;\n",
              "      border-bottom-color: var(--fill-color);\n",
              "      border-left-color: var(--fill-color);\n",
              "    }\n",
              "    20% {\n",
              "      border-color: transparent;\n",
              "      border-left-color: var(--fill-color);\n",
              "      border-top-color: var(--fill-color);\n",
              "    }\n",
              "    30% {\n",
              "      border-color: transparent;\n",
              "      border-left-color: var(--fill-color);\n",
              "      border-top-color: var(--fill-color);\n",
              "      border-right-color: var(--fill-color);\n",
              "    }\n",
              "    40% {\n",
              "      border-color: transparent;\n",
              "      border-right-color: var(--fill-color);\n",
              "      border-top-color: var(--fill-color);\n",
              "    }\n",
              "    60% {\n",
              "      border-color: transparent;\n",
              "      border-right-color: var(--fill-color);\n",
              "    }\n",
              "    80% {\n",
              "      border-color: transparent;\n",
              "      border-right-color: var(--fill-color);\n",
              "      border-bottom-color: var(--fill-color);\n",
              "    }\n",
              "    90% {\n",
              "      border-color: transparent;\n",
              "      border-bottom-color: var(--fill-color);\n",
              "    }\n",
              "  }\n",
              "</style>\n",
              "\n",
              "  <script>\n",
              "    async function quickchart(key) {\n",
              "      const quickchartButtonEl =\n",
              "        document.querySelector('#' + key + ' button');\n",
              "      quickchartButtonEl.disabled = true;  // To prevent multiple clicks.\n",
              "      quickchartButtonEl.classList.add('colab-df-spinner');\n",
              "      try {\n",
              "        const charts = await google.colab.kernel.invokeFunction(\n",
              "            'suggestCharts', [key], {});\n",
              "      } catch (error) {\n",
              "        console.error('Error during call to suggestCharts:', error);\n",
              "      }\n",
              "      quickchartButtonEl.classList.remove('colab-df-spinner');\n",
              "      quickchartButtonEl.classList.add('colab-df-quickchart-complete');\n",
              "    }\n",
              "    (() => {\n",
              "      let quickchartButtonEl =\n",
              "        document.querySelector('#df-4cde69a9-b51f-4e91-b246-2487849b2017 button');\n",
              "      quickchartButtonEl.style.display =\n",
              "        google.colab.kernel.accessAllowed ? 'block' : 'none';\n",
              "    })();\n",
              "  </script>\n",
              "</div>\n",
              "    </div>\n",
              "  </div>\n"
            ]
          },
          "metadata": {},
          "execution_count": 46
        }
      ],
      "source": [
        "# Jawab nomor 6\n",
        "df_avg = df[\"release_year\"].mean()\n",
        "\n",
        "print(df_avg)\n",
        "\n",
        "df[df.release_year > df_avg].head(5)"
      ]
    },
    {
      "cell_type": "markdown",
      "metadata": {
        "id": "eV52aTHJ6IOg"
      },
      "source": [
        "### Nomor 7\n",
        "Buatlah dataframe baru dari **dataframe nomor 1** dengan menghapus seluruh baris yang mengandung nilai null. Kemudian, tampilkan rata-rata tahun rilis (release_year) dari dataframe baru tersebut."
      ]
    },
    {
      "cell_type": "code",
      "execution_count": null,
      "metadata": {
        "id": "M49baE_66IOg",
        "colab": {
          "base_uri": "https://localhost:8080/"
        },
        "outputId": "aae90598-1ecf-429c-d8c6-75248507a2cf"
      },
      "outputs": [
        {
          "output_type": "execute_result",
          "data": {
            "text/plain": [
              "1999.8239608801955"
            ]
          },
          "metadata": {},
          "execution_count": 52
        }
      ],
      "source": [
        "# Jawab nomor 7\n",
        "df_drop = df.dropna().copy()\n",
        "\n",
        "df_drop[\"release_year\"].mean()\n"
      ]
    },
    {
      "cell_type": "markdown",
      "metadata": {
        "id": "hW9qGr-G6IOh"
      },
      "source": [
        "### Nomor 8\n",
        "Buatlah dataframe baru dari **dataframe nomor 1** dengan mengisi seluruh missing values menggunakan `modus`. Kemudian, tampilkan rata-rata tahun rilis (release_year) dari dataframe baru tersebut."
      ]
    },
    {
      "cell_type": "code",
      "execution_count": null,
      "metadata": {
        "id": "auq2mphg6IOh",
        "colab": {
          "base_uri": "https://localhost:8080/"
        },
        "outputId": "8546035a-3f2d-458b-c6e5-08900cdf7b45"
      },
      "outputs": [
        {
          "output_type": "execute_result",
          "data": {
            "text/plain": [
              "2003.0917241379311"
            ]
          },
          "metadata": {},
          "execution_count": 58
        }
      ],
      "source": [
        "# Jawab nomor 8\n",
        "\n",
        "df_fillna = df.copy()\n",
        "\n",
        "# mengisi missing value menggunakan modus setiap kolom\n",
        "df_fillna = df_fillna.fillna(df_fillna.mode().iloc[0])\n",
        "\n",
        "df_fillna[\"release_year\"].mean()\n",
        "\n"
      ]
    },
    {
      "cell_type": "markdown",
      "metadata": {
        "id": "bkzNC5je6IOh"
      },
      "source": [
        "### Nomor 9\n",
        "Apakah ada perbedaan antara rata-rata tahun rilis (release_year) dari **dataframe nomor 7** dan **dataframe nomor 8**? Jika ada, mengapa hal tersebut bisa terjadi? Jelaskan secara singkat."
      ]
    },
    {
      "cell_type": "markdown",
      "metadata": {
        "id": "ssICdL6T6IOi"
      },
      "source": [
        "> Jawaban: Ya, terdapat perbedaan. Hal tersebut tentu saja dapat terjadi karena jumlah data yang ada di soal nomor 7 dan 8 berbeda. Jika ingin menghitung mean, jumlah data tentu saja berpengaruh. Data pada soal nomor 8 memiliki jumlah yang lebih besar, oleh karena itu rata rata (mean) dari soal nomor 8 lebih besar.\n"
      ]
    },
    {
      "cell_type": "markdown",
      "metadata": {
        "id": "yFTTq_S66IOi"
      },
      "source": [
        "# B. Pengenalan Numpy\n",
        "[Numpy](https://numpy.org/) adalah library Python yang digunakan untuk komputasi numerik. Numpy menyediakan struktur data dan fungsi high-level untuk membuat pekerjaan dengan data numerik lebih mudah. Struktur data utama yang digunakan di Numpy adalah **array**. **Array adalah struktur data yang mirip dengan list, tetapi memiliki ukuran yang tetap dan hanya dapat berisi data dengan tipe yang sama**. Array pada Numpy dapat memiliki dimensi lebih dari 1, sehingga dapat digunakan untuk menyimpan data 2 dimensi atau lebih."
      ]
    },
    {
      "cell_type": "code",
      "execution_count": 4,
      "metadata": {
        "id": "NxSHV_uR6IOi"
      },
      "outputs": [],
      "source": [
        "# Import library numpy\n",
        "import numpy as np"
      ]
    },
    {
      "cell_type": "markdown",
      "metadata": {
        "id": "Jg1yjORd6IOi"
      },
      "source": [
        "## NumPy Array"
      ]
    },
    {
      "cell_type": "markdown",
      "metadata": {
        "id": "S5plILfB6IOi"
      },
      "source": [
        "### B.1.1. NumPy Array 1 Dimensi\n",
        "**NumPy Array 1 Dimensi** adalah array 1 dimensi yang mirip dengan list. NumPy Array 1 Dimensi dapat dibuat dari list atau tuple."
      ]
    },
    {
      "cell_type": "code",
      "execution_count": null,
      "metadata": {
        "id": "1TdFYbDb6IOj",
        "outputId": "4521dea2-00fd-4563-c383-362b4f0fe458"
      },
      "outputs": [
        {
          "data": {
            "text/plain": [
              "array([1, 2, 3, 4, 5])"
            ]
          },
          "execution_count": 54,
          "metadata": {},
          "output_type": "execute_result"
        }
      ],
      "source": [
        "# Membuat numpy array dengan list\n",
        "arr = np.array([1,2,3,4,5])\n",
        "arr"
      ]
    },
    {
      "cell_type": "code",
      "execution_count": null,
      "metadata": {
        "id": "mwjj5MXX6IOj",
        "outputId": "28af7a0f-e2bf-4a91-a847-a0ccd32dbe88"
      },
      "outputs": [
        {
          "name": "stdout",
          "output_type": "stream",
          "text": [
            "<class 'numpy.ndarray'>\n"
          ]
        }
      ],
      "source": [
        "print(type(arr))"
      ]
    },
    {
      "cell_type": "code",
      "execution_count": null,
      "metadata": {
        "id": "oWKPpKHE6IOj",
        "outputId": "086934a8-f3b0-4976-cc8a-688f1b81c92b"
      },
      "outputs": [
        {
          "data": {
            "text/plain": [
              "array([1, 2, 3, 4, 5])"
            ]
          },
          "execution_count": 56,
          "metadata": {},
          "output_type": "execute_result"
        }
      ],
      "source": [
        "# Membuat numpy array dengan tuple\n",
        "arr = np.array((1,2,3,4,5))\n",
        "arr"
      ]
    },
    {
      "cell_type": "code",
      "execution_count": null,
      "metadata": {
        "id": "C0VPMjkT6IOj",
        "outputId": "4fed7c33-b7db-4526-b4c9-04c102697d11"
      },
      "outputs": [
        {
          "name": "stdout",
          "output_type": "stream",
          "text": [
            "<class 'numpy.ndarray'>\n"
          ]
        }
      ],
      "source": [
        "print(type(arr))"
      ]
    },
    {
      "cell_type": "markdown",
      "metadata": {
        "id": "U-zssZka6IOk"
      },
      "source": [
        "Selain itu, terdapat juga beberapa fungsi yang dapat digunakan untuk membuat NumPy Array."
      ]
    },
    {
      "cell_type": "code",
      "execution_count": null,
      "metadata": {
        "id": "yrV8s4h96IOk",
        "outputId": "14b0c65b-cfd3-4051-ae1c-c5d2a3146eb3"
      },
      "outputs": [
        {
          "name": "stdout",
          "output_type": "stream",
          "text": [
            "np.zeros(4) :  [0. 0. 0. 0.]\n",
            "np.ones(4) :  [1. 1. 1. 1.]\n",
            "np.arange(1,15,3) :  [ 1  4  7 10 13]\n",
            "np.linspace(1,10,4) :  [ 1.  4.  7. 10.]\n"
          ]
        }
      ],
      "source": [
        "# Membuat array dengan nilai 0 sebanyak 4\n",
        "print(\"np.zeros(4) : \",np.zeros(4))\n",
        "\n",
        "# Membuat array dengan nilai 1 sebanyak 4\n",
        "print(\"np.ones(4) : \",np.ones(4))\n",
        "\n",
        "# Membuat array dengan nilai dalam range 1 sampai 15 dengan step sebesar 3\n",
        "print(\"np.arange(1,15,3) : \",np.arange(1,15,3))\n",
        "\n",
        "# Membuat array dengan nilai dalam range 1 sampai 10 sebanyak 4 dengan interval yang sama\n",
        "print(\"np.linspace(1,10,4) : \",np.linspace(1,10,4))"
      ]
    },
    {
      "cell_type": "markdown",
      "metadata": {
        "id": "_22c8FdQ6IOk"
      },
      "source": [
        "### B.1.2. NumPy Array Multidimensi"
      ]
    },
    {
      "cell_type": "markdown",
      "metadata": {
        "id": "xeAzIs2r6IOk"
      },
      "source": [
        "Selain array 1 dimensi, NumPy juga mendukung array multidimensi."
      ]
    },
    {
      "cell_type": "code",
      "execution_count": null,
      "metadata": {
        "id": "YBsHLFoa6IOk",
        "outputId": "40f1118c-8f68-4fd3-e61b-328502152c7c"
      },
      "outputs": [
        {
          "data": {
            "text/plain": [
              "array([[1, 2, 3],\n",
              "       [4, 5, 6],\n",
              "       [7, 8, 9]])"
            ]
          },
          "execution_count": 59,
          "metadata": {},
          "output_type": "execute_result"
        }
      ],
      "source": [
        "# Membuat multidimensi array\n",
        "multi_dim_arr = np.array([[1,2,3], [4,5,6], [7,8,9]])\n",
        "multi_dim_arr"
      ]
    },
    {
      "cell_type": "markdown",
      "metadata": {
        "id": "bO-Zfy-r6IOl"
      },
      "source": [
        "### B.1.3. Menampilkan Atribut Numpy Array"
      ]
    },
    {
      "cell_type": "code",
      "execution_count": null,
      "metadata": {
        "id": "K5mT68iT6IOl",
        "outputId": "17e3e874-129f-4b93-ffaf-4a789a185297"
      },
      "outputs": [
        {
          "name": "stdout",
          "output_type": "stream",
          "text": [
            "[[1 2 3]\n",
            " [4 5 6]\n",
            " [7 8 9]]\n",
            "\n",
            "multi_dim_arr.size: 9\n",
            "multi_dim_arr.ndim: 2\n",
            "multi_dim_arr.shape: (3, 3)\n"
          ]
        }
      ],
      "source": [
        "print(multi_dim_arr)\n",
        "\n",
        "print()\n",
        "\n",
        "# Menunjukkan ukuran array\n",
        "print(\"multi_dim_arr.size:\", multi_dim_arr.size)\n",
        "\n",
        "# Menunjukkan jumlah dimensi atau rank dari sebuah array\n",
        "print(\"multi_dim_arr.ndim:\", multi_dim_arr.ndim)\n",
        "\n",
        "# Mengetahui ukuran dari setiap dimensi array\n",
        "print(\"multi_dim_arr.shape:\", multi_dim_arr.shape)"
      ]
    },
    {
      "cell_type": "markdown",
      "metadata": {
        "id": "HR5J6mY36IOl"
      },
      "source": [
        "### B.1.4. Memeriksa Tipe Data\n",
        "Kita dapat menggunakan fungsi `type()`."
      ]
    },
    {
      "cell_type": "code",
      "execution_count": null,
      "metadata": {
        "id": "3W1oZXnW6IOl",
        "outputId": "7d58d026-f34c-4e4f-f5d0-88844a0334b8"
      },
      "outputs": [
        {
          "name": "stdout",
          "output_type": "stream",
          "text": [
            "type(lst): <class 'list'>\n",
            "type(arr): <class 'numpy.ndarray'>\n"
          ]
        }
      ],
      "source": [
        "# Mengecek tipe list\n",
        "lst = [1,2,3,4,5]\n",
        "print(f\"type(lst): {type(lst)}\")\n",
        "\n",
        "# Mengecek tipe array\n",
        "arr = np.array(lst)\n",
        "print(f\"type(arr): {type(arr)}\")"
      ]
    },
    {
      "cell_type": "markdown",
      "metadata": {
        "id": "-f2kLBUE6IOm"
      },
      "source": [
        "Selain fungsi `type()`, kita juga dapat menggunakan atribut `dtype` untuk mengetahui tipe data yang ada di dalam array."
      ]
    },
    {
      "cell_type": "code",
      "execution_count": null,
      "metadata": {
        "id": "anTNojst6IOm",
        "outputId": "3bbc9862-6675-4827-a6ae-4adeaa7b63bb"
      },
      "outputs": [
        {
          "name": "stdout",
          "output_type": "stream",
          "text": [
            "arr.dtype: int32\n"
          ]
        }
      ],
      "source": [
        "# Mengecek tipe data dari array\n",
        "print(f\"arr.dtype: {arr.dtype}\")"
      ]
    },
    {
      "cell_type": "markdown",
      "metadata": {
        "id": "xi3DvxYl6IOm"
      },
      "source": [
        "### B.1.5. Indexing, Slicing, dan Assigning Value pada NumPy Array"
      ]
    },
    {
      "cell_type": "code",
      "execution_count": null,
      "metadata": {
        "id": "TQvzpayl6IOm",
        "outputId": "3dc11544-fc6e-4944-c267-2d8702694e52"
      },
      "outputs": [
        {
          "data": {
            "text/plain": [
              "array([1, 2, 3, 4, 5])"
            ]
          },
          "execution_count": 63,
          "metadata": {},
          "output_type": "execute_result"
        }
      ],
      "source": [
        "arr"
      ]
    },
    {
      "cell_type": "code",
      "execution_count": null,
      "metadata": {
        "id": "lO7vw0k76IOn",
        "outputId": "94930b01-4710-4224-bdbe-0c00de2fcfe2"
      },
      "outputs": [
        {
          "data": {
            "text/plain": [
              "array([[1, 2, 3],\n",
              "       [4, 5, 6],\n",
              "       [7, 8, 9]])"
            ]
          },
          "execution_count": 64,
          "metadata": {},
          "output_type": "execute_result"
        }
      ],
      "source": [
        "multi_dim_arr"
      ]
    },
    {
      "cell_type": "markdown",
      "metadata": {
        "id": "3jtZoCeN6IOn"
      },
      "source": [
        "#### Indexing"
      ]
    },
    {
      "cell_type": "code",
      "execution_count": null,
      "metadata": {
        "id": "KDtFfWZX6IOn",
        "outputId": "7e013049-9ab4-4300-a40f-06bfc2685f41"
      },
      "outputs": [
        {
          "data": {
            "text/plain": [
              "4"
            ]
          },
          "execution_count": 65,
          "metadata": {},
          "output_type": "execute_result"
        }
      ],
      "source": [
        "# Mengakses elemen indeks ke-3 dari array\n",
        "arr[3]"
      ]
    },
    {
      "cell_type": "code",
      "execution_count": null,
      "metadata": {
        "id": "u8PirSy96IOn",
        "outputId": "0e07d230-2dd7-4470-ca05-9fa13b486f88"
      },
      "outputs": [
        {
          "name": "stdout",
          "output_type": "stream",
          "text": [
            "6\n",
            "6\n"
          ]
        }
      ],
      "source": [
        "# Mengakses elemen baris ke-1 dan kolom ke-2 dari multi dimensi array\n",
        "print(multi_dim_arr[1,2])\n",
        "\n",
        "# Cara lain\n",
        "print(multi_dim_arr[1][2])"
      ]
    },
    {
      "cell_type": "markdown",
      "metadata": {
        "id": "SrJbbu036IOn"
      },
      "source": [
        "#### Slicing"
      ]
    },
    {
      "cell_type": "code",
      "execution_count": null,
      "metadata": {
        "id": "8qWmosXo6IOo",
        "outputId": "6b5129e3-1f7e-4b61-cb2f-7ed5fef67f9b"
      },
      "outputs": [
        {
          "data": {
            "text/plain": [
              "array([3, 4, 5])"
            ]
          },
          "execution_count": 67,
          "metadata": {},
          "output_type": "execute_result"
        }
      ],
      "source": [
        "# slice elemen dari indeks ke-2 sampai ke-4\n",
        "arr[2:5]"
      ]
    },
    {
      "cell_type": "code",
      "execution_count": null,
      "metadata": {
        "id": "eaMi22NJ6IOo",
        "outputId": "a9977c28-759c-411e-f137-b17af2cc3579"
      },
      "outputs": [
        {
          "data": {
            "text/plain": [
              "array([4, 5, 6])"
            ]
          },
          "execution_count": 68,
          "metadata": {},
          "output_type": "execute_result"
        }
      ],
      "source": [
        "# Slice elemen dari baris kedua, kolom 1 sampai 3\n",
        "multi_dim_arr[1,0:3]"
      ]
    },
    {
      "cell_type": "code",
      "execution_count": null,
      "metadata": {
        "id": "xCb7elJu6IOo",
        "outputId": "cae6fde2-8257-44e7-b26a-3159324d0662"
      },
      "outputs": [
        {
          "data": {
            "text/plain": [
              "array([2, 5, 8])"
            ]
          },
          "execution_count": 69,
          "metadata": {},
          "output_type": "execute_result"
        }
      ],
      "source": [
        "# Slice kolom kedua\n",
        "multi_dim_arr[:,1]"
      ]
    },
    {
      "cell_type": "markdown",
      "metadata": {
        "id": "9BauLOFR6IOo"
      },
      "source": [
        "#### Assigning Value"
      ]
    },
    {
      "cell_type": "code",
      "execution_count": null,
      "metadata": {
        "id": "-aYR7nct6IOp",
        "outputId": "916ca261-6ebf-499f-fd8d-706c30282caa"
      },
      "outputs": [
        {
          "data": {
            "text/plain": [
              "array([ 1,  2, 10,  4,  5])"
            ]
          },
          "execution_count": 70,
          "metadata": {},
          "output_type": "execute_result"
        }
      ],
      "source": [
        "# Mengubah value elemen ke-3 dari array\n",
        "arr[2] = 10\n",
        "arr"
      ]
    },
    {
      "cell_type": "code",
      "execution_count": null,
      "metadata": {
        "id": "TRn8DcZJ6IOp",
        "outputId": "e89e6eb5-8f47-4f8b-e32a-3e13714a9c16"
      },
      "outputs": [
        {
          "data": {
            "text/plain": [
              "array([[ 1,  2,  3],\n",
              "       [ 4,  5, 15],\n",
              "       [ 7,  8,  9]])"
            ]
          },
          "execution_count": 71,
          "metadata": {},
          "output_type": "execute_result"
        }
      ],
      "source": [
        "# Mengubah value elemen baris ke-2 dan kolom ke-3 dari multi dimensi array\n",
        "multi_dim_arr[1,2] = 15\n",
        "multi_dim_arr"
      ]
    },
    {
      "cell_type": "markdown",
      "metadata": {
        "id": "KupgLdxN6IOp"
      },
      "source": [
        "### B.1.6. Operasi Matematika pada NumPy Array"
      ]
    },
    {
      "cell_type": "code",
      "execution_count": null,
      "metadata": {
        "id": "2GSlC9pY6IOp"
      },
      "outputs": [],
      "source": [
        "arr_1 = np.array([1,2,3,4,5])\n",
        "arr_2 = np.array([6,7,8,9,10])"
      ]
    },
    {
      "cell_type": "code",
      "execution_count": null,
      "metadata": {
        "id": "lFIcB0MB6IOp",
        "outputId": "a7dd83b2-c26a-4af0-ff40-5d1f233d4535"
      },
      "outputs": [
        {
          "data": {
            "text/plain": [
              "array([ 7,  9, 11, 13, 15])"
            ]
          },
          "execution_count": 73,
          "metadata": {},
          "output_type": "execute_result"
        }
      ],
      "source": [
        "# Menjumlahkan dua buah array\n",
        "result = arr_1 + arr_2\n",
        "result"
      ]
    },
    {
      "cell_type": "code",
      "execution_count": null,
      "metadata": {
        "id": "rAKc8B326IOq",
        "outputId": "cf697152-61d6-4ecd-aa92-ab42b7e29571"
      },
      "outputs": [
        {
          "data": {
            "text/plain": [
              "array([-5, -5, -5, -5, -5])"
            ]
          },
          "execution_count": 74,
          "metadata": {},
          "output_type": "execute_result"
        }
      ],
      "source": [
        "# Mengurangkan dua buah array\n",
        "result = arr_1 - arr_2\n",
        "result"
      ]
    },
    {
      "cell_type": "code",
      "execution_count": null,
      "metadata": {
        "id": "FHHuRzmo6IOq",
        "outputId": "3f8a1c75-005a-4a90-aadc-131ee37b8f82"
      },
      "outputs": [
        {
          "data": {
            "text/plain": [
              "array([11, 12, 13, 14, 15])"
            ]
          },
          "execution_count": 75,
          "metadata": {},
          "output_type": "execute_result"
        }
      ],
      "source": [
        "# Menjumlahkan setiap elemen array dengan 10\n",
        "result = arr_1 + 10\n",
        "result"
      ]
    },
    {
      "cell_type": "code",
      "execution_count": null,
      "metadata": {
        "id": "e00VRj8H6IOq",
        "outputId": "4dbf9a19-d76a-4f49-95ba-b43c0713e93c"
      },
      "outputs": [
        {
          "data": {
            "text/plain": [
              "array([10, 20, 30, 40, 50])"
            ]
          },
          "execution_count": 76,
          "metadata": {},
          "output_type": "execute_result"
        }
      ],
      "source": [
        "# Mengalikan setiap elemen array dengan 10\n",
        "result = arr_1 * 10\n",
        "result"
      ]
    },
    {
      "cell_type": "code",
      "execution_count": null,
      "metadata": {
        "id": "Go1sbAY16IOq",
        "outputId": "1f1e4d38-f6c6-48bb-cde7-d0cc1b52f6d0"
      },
      "outputs": [
        {
          "data": {
            "text/plain": [
              "array([ 6, 14, 24, 36, 50])"
            ]
          },
          "execution_count": 77,
          "metadata": {},
          "output_type": "execute_result"
        }
      ],
      "source": [
        "# Perkalian dua buah array\n",
        "result = arr_1 * arr_2\n",
        "result"
      ]
    },
    {
      "cell_type": "code",
      "execution_count": null,
      "metadata": {
        "id": "XzypUT2k6IOr",
        "outputId": "7743e2d7-1252-49c9-d6cb-addc484163ab"
      },
      "outputs": [
        {
          "data": {
            "text/plain": [
              "130"
            ]
          },
          "execution_count": 78,
          "metadata": {},
          "output_type": "execute_result"
        }
      ],
      "source": [
        "# Dot product dua buah array\n",
        "result = np.dot(arr_1, arr_2)\n",
        "result"
      ]
    },
    {
      "cell_type": "markdown",
      "metadata": {
        "id": "i7uBU4-H6IOr"
      },
      "source": [
        "Operasi di atas dapat dilakukan pada array 1 dimensi maupun multidimensi. Kemudian, berikut ini adalah beberapa fungsi matematika yang dapat digunakan pada NumPy Array."
      ]
    },
    {
      "cell_type": "code",
      "execution_count": null,
      "metadata": {
        "id": "ay0sbFNA6IOr",
        "outputId": "ceb3bbe1-8241-4172-cfc6-10622a9b4a4f"
      },
      "outputs": [
        {
          "name": "stdout",
          "output_type": "stream",
          "text": [
            "[[ 1  2]\n",
            " [ 5 11]]\n",
            "\n",
            "Transpose:\n",
            "[[ 1  5]\n",
            " [ 2 11]]\n",
            "\n",
            "Invers:\n",
            "[[11. -2.]\n",
            " [-5.  1.]]\n"
          ]
        }
      ],
      "source": [
        "matrix = np.array([[1,2], [5,11]])\n",
        "print(matrix)\n",
        "print()\n",
        "\n",
        "# Transpose matrix\n",
        "print(\"Transpose:\")\n",
        "print(np.transpose(matrix))\n",
        "print()\n",
        "\n",
        "# Invers matrix\n",
        "print(\"Invers:\")\n",
        "print(np.linalg.inv(matrix))"
      ]
    },
    {
      "cell_type": "markdown",
      "metadata": {
        "id": "Swp5xsD46IOr"
      },
      "source": [
        "### B.1.7. Operasi Statistik pada NumPy Array"
      ]
    },
    {
      "cell_type": "code",
      "execution_count": null,
      "metadata": {
        "id": "k-ue3RbL6IOr",
        "outputId": "a41c7936-dff5-4785-c095-a06416c58a57"
      },
      "outputs": [
        {
          "data": {
            "text/plain": [
              "array([  1,   2,   3,   4,   5,   6,   7,   8,   9,  10,  10,   9,   6,\n",
              "         8,   7,  20,  30,  40,  50,  60,  70,  80,  90, 100])"
            ]
          },
          "execution_count": 80,
          "metadata": {},
          "output_type": "execute_result"
        }
      ],
      "source": [
        "arr = np.array([1,2,3,4,5,6,7,8,9,10,10,9,6,8,7,20,30,40,50,60,70,80,90,100])\n",
        "arr"
      ]
    },
    {
      "cell_type": "code",
      "execution_count": null,
      "metadata": {
        "id": "9crmXa8b6IOs",
        "outputId": "afc1219c-0dc6-490e-d374-d77b2856d44f"
      },
      "outputs": [
        {
          "name": "stdout",
          "output_type": "stream",
          "text": [
            "Rata-rata: 26.458333333333332\n",
            "Median: 9.0\n",
            "Maksimum: 100\n",
            "Standar deviasi: 30.49177370847568\n",
            "Percentile 75: 42.5\n",
            "Nilai unik: [  1   2   3   4   5   6   7   8   9  10  20  30  40  50  60  70  80  90\n",
            " 100]\n"
          ]
        }
      ],
      "source": [
        "# Nilai rata-rata\n",
        "print(\"Rata-rata:\", np.mean(arr))\n",
        "\n",
        "# Nilai median\n",
        "print(\"Median:\", np.median(arr))\n",
        "\n",
        "# Nilai maksimum\n",
        "print(\"Maksimum:\", np.max(arr))\n",
        "\n",
        "# Nilai standar deviasi\n",
        "print(\"Standar deviasi:\", np.std(arr))\n",
        "\n",
        "# Nilai percentile\n",
        "print(\"Percentile 75:\", np.percentile(arr, 75))\n",
        "\n",
        "# Nilai unik\n",
        "print(\"Nilai unik:\", np.unique(arr))"
      ]
    },
    {
      "cell_type": "markdown",
      "metadata": {
        "id": "TpK7D1mp6IOs"
      },
      "source": [
        "## Pertanyaan Numpy\n",
        "Jawaban boleh lebih dari 1 cell"
      ]
    },
    {
      "cell_type": "markdown",
      "metadata": {
        "id": "g1Ct77z_6IOs"
      },
      "source": [
        "### Nomor 1"
      ]
    },
    {
      "cell_type": "code",
      "execution_count": null,
      "metadata": {
        "id": "tHWll_lJ6IOs",
        "outputId": "291a1731-cd2f-4ba3-bc3d-c0e444b87d5b"
      },
      "outputs": [
        {
          "data": {
            "text/plain": [
              "dtype('<U32')"
            ]
          },
          "execution_count": 82,
          "metadata": {},
          "output_type": "execute_result"
        }
      ],
      "source": [
        "arr_1 = np.array([1, 0, np.nan, 1, 100, 90, 1000, 'a', 'b', 'c', 'hello world'])\n",
        "arr_1.dtype"
      ]
    },
    {
      "cell_type": "markdown",
      "metadata": {
        "id": "d6rDEsgg6IOt"
      },
      "source": [
        "Jalankan cell di atas! Mengapa `arr_1.dtype` bertipe `<32` padahal terdapat elemen integer dan NaN?"
      ]
    },
    {
      "cell_type": "markdown",
      "metadata": {
        "id": "mBSQOsHw6IOt"
      },
      "source": [
        "> Jawaban: U<32 senidiri memiliki makna panjang maksimum yang diizinkan untuk setiap elemen dalam array tersebut. Jika ada elemen-elemen dengan tipe data yang berbeda dalam array, numpy akan memilih tipe data yang paling umum dan fleksibel yang dapat digunakan untuk menyimpan semua elemen tersebut tanpa kehilangan informasi. Dalam banyak kasus, tipe data yang dipilih adalah tipe data string ditunjukkan sebagai <U32 atau jenis data string Unicode dengan panjang maksimum 32 karakter, karena tipe data string dapat mengakomodasi berbagai jenis data dengan panjang yang bervariasi.\n"
      ]
    },
    {
      "cell_type": "markdown",
      "metadata": {
        "id": "CIEhnQ2D6IOt"
      },
      "source": [
        "### Nomor 2\n",
        "Diketahui beberapa array multidimensi sebagai berikut."
      ]
    },
    {
      "cell_type": "code",
      "execution_count": 5,
      "metadata": {
        "id": "Y2wkQ89l6IOt"
      },
      "outputs": [],
      "source": [
        "A = np.array([[1,2,0],[5,2,1],[3,4,5]])\n",
        "B = np.array([[5,0,2],[0,3,1],[7,0,5]])\n",
        "C = np.array([[1,1,2],[2,3,1],[2,2,2]])"
      ]
    },
    {
      "cell_type": "markdown",
      "metadata": {
        "id": "VZcPIVYp6IOu"
      },
      "source": [
        "Dari ketiga multidimensi array di atas, lakukanlah langkah-langkah berikut ini.\n",
        "1. Penjumlahan antara A dan C\n",
        "2. Buat matrix baru yang isinya adalah hasil akar (square root) tiap elemen dari matrix pada langkah 1\n",
        "3. Jalankan operasi invers pada matrix pada langkah 2\n",
        "4. Terapkan operasi dot product pada matrix pada langkah 3 dengan matrix B\n",
        "5. Jalankan perkalian skalar pada matrix A dengan hasil dot product pada langkah 4\n",
        "*hint*: anda dapat menggunakan fungsi `sqrt()`\n",
        "\n",
        "Secara matematis, langkah di atas dapat dituliskan sebagai berikut.\n",
        "1. $V = A + C$\n",
        "2. $W =$ sebuah matrix yang tiap elemennya adalah elemen V diakarkan\n",
        "3. $X = W^{-1}$\n",
        "4. $K = X\\cdot{B}$\n",
        "5. $result = K*A$"
      ]
    },
    {
      "cell_type": "code",
      "execution_count": 11,
      "metadata": {
        "id": "ja5RNfzK6IOu",
        "colab": {
          "base_uri": "https://localhost:8080/"
        },
        "outputId": "ec98deaf-28ac-4e4f-db0f-34d212fda28c"
      },
      "outputs": [
        {
          "output_type": "stream",
          "name": "stdout",
          "text": [
            "[[ 24  18   0]\n",
            " [245  30  29]\n",
            " [222  72 255]]\n"
          ]
        }
      ],
      "source": [
        "# Jawab nomor 2\n",
        "X = A + C\n",
        "\n",
        "W = np.sqrt(sum)\n",
        "\n",
        "inverse_X = np.linalg.inv(W)\n",
        "\n",
        "K = np.dot(X, B)\n",
        "\n",
        "result = K * A\n",
        "\n",
        "print(result)\n"
      ]
    },
    {
      "cell_type": "markdown",
      "metadata": {
        "id": "GsGM6I756IOv"
      },
      "source": [
        "### Nomor 3"
      ]
    },
    {
      "cell_type": "code",
      "execution_count": 14,
      "metadata": {
        "id": "kgMsD_u76IOv"
      },
      "outputs": [],
      "source": [
        "arr_3 = np.array([1,2,3,4,5,6,7,8,9,10,5,2,4,1,58,2,10,38,10,11,12,13,14,15,16,17,18,19,20])"
      ]
    },
    {
      "cell_type": "markdown",
      "metadata": {
        "id": "oTBIDoGB6IOv"
      },
      "source": [
        "Kalikan `arr_3` dengan 11, kemudian hitung dan tampilkan rata-rata, median, nilai maksimum, standar deviasi, variance, dan percentile 10!"
      ]
    },
    {
      "cell_type": "code",
      "execution_count": 18,
      "metadata": {
        "id": "8fgyFn8J6IOv",
        "outputId": "f82baf1e-b375-426f-95cc-2bfc5f06ec1c",
        "colab": {
          "base_uri": "https://localhost:8080/"
        }
      },
      "outputs": [
        {
          "output_type": "stream",
          "name": "stdout",
          "text": [
            "[ 1331  2662  3993  5324  6655  7986  9317 10648 11979 13310  6655  2662\n",
            "  5324  1331 77198  2662 13310 50578 13310 14641 15972 17303 18634 19965\n",
            " 21296 22627 23958 25289 26620]\n",
            "\n",
            "Rata-rata: 15604.827586206897\n",
            "Median: 13310.0\n",
            "Nilai Maksimum: 77198\n",
            "Standar Deviasi: 15517.650608856655\n",
            "Variance: 240797480.4185493\n",
            "Percentile 10: 2662.0\n"
          ]
        }
      ],
      "source": [
        "# Jawab nomor 3\n",
        "\n",
        "arr_3 = arr_3 * 11\n",
        "\n",
        "mean = np.mean(arr_3)\n",
        "median = np.median(arr_3)\n",
        "max_value = np.max(arr_3)\n",
        "dev = np.std(arr_3)\n",
        "variance = np.var(arr_3)\n",
        "percentile = np.percentile(arr_3, 10)\n",
        "\n",
        "print(arr_3)\n",
        "print()\n",
        "print(f\"Rata-rata: {mean}\")\n",
        "print(f\"Median: {median}\")\n",
        "print(f\"Nilai Maksimum: {max_value}\")\n",
        "print(f\"Standar Deviasi: {dev}\")\n",
        "print(f\"Variance: {variance}\")\n",
        "print(f\"Percentile 10: {percentile}\")"
      ]
    },
    {
      "cell_type": "markdown",
      "metadata": {
        "id": "JsdNXIsS6IOw"
      },
      "source": [
        "#"
      ]
    }
  ],
  "metadata": {
    "kernelspec": {
      "display_name": "Python 3",
      "language": "python",
      "name": "python3"
    },
    "language_info": {
      "codemirror_mode": {
        "name": "ipython",
        "version": 3
      },
      "file_extension": ".py",
      "mimetype": "text/x-python",
      "name": "python",
      "nbconvert_exporter": "python",
      "pygments_lexer": "ipython3",
      "version": "3.10.4"
    },
    "orig_nbformat": 4,
    "colab": {
      "provenance": [],
      "toc_visible": true
    }
  },
  "nbformat": 4,
  "nbformat_minor": 0
}